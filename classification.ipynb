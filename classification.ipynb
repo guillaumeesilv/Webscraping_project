{
 "cells": [
  {
   "cell_type": "code",
   "execution_count": 1,
   "metadata": {},
   "outputs": [],
   "source": [
    "import pandas as pd\n",
    "import re\n",
    "import emoji\n",
    "from langdetect import detect\n",
    "import os"
   ]
  },
  {
   "cell_type": "markdown",
   "metadata": {},
   "source": [
    "## Data Retrieving"
   ]
  },
  {
   "cell_type": "markdown",
   "metadata": {},
   "source": [
    "rev 1 -> hrs  \n",
    "rev2 -> hotelsone  \n",
    "rev 3 -> galahotel"
   ]
  },
  {
   "cell_type": "code",
   "execution_count": 2,
   "metadata": {},
   "outputs": [],
   "source": [
    "df_hrs = pd.read_csv('./scrapped_reviews/trustpilot_reviews_1.csv') # old scraping\n",
    "df_sone = pd.read_csv('./scrapped_reviews/trustpilot_reviews_2.csv') # old scraping\n",
    "df_gala = pd.read_csv('./scrapped_reviews/trustpilot_reviews_3.csv') # old scraping\n",
    "df_multi = pd.read_csv('./scrapped_reviews/reviews_multiple_urls.csv') #labelized data for training"
   ]
  },
  {
   "cell_type": "code",
   "execution_count": 3,
   "metadata": {},
   "outputs": [
    {
     "data": {
      "text/html": [
       "<div>\n",
       "<style scoped>\n",
       "    .dataframe tbody tr th:only-of-type {\n",
       "        vertical-align: middle;\n",
       "    }\n",
       "\n",
       "    .dataframe tbody tr th {\n",
       "        vertical-align: top;\n",
       "    }\n",
       "\n",
       "    .dataframe thead th {\n",
       "        text-align: right;\n",
       "    }\n",
       "</style>\n",
       "<table border=\"1\" class=\"dataframe\">\n",
       "  <thead>\n",
       "    <tr style=\"text-align: right;\">\n",
       "      <th></th>\n",
       "      <th>source_url</th>\n",
       "      <th>title</th>\n",
       "      <th>body</th>\n",
       "      <th>date</th>\n",
       "      <th>score</th>\n",
       "    </tr>\n",
       "  </thead>\n",
       "  <tbody>\n",
       "    <tr>\n",
       "      <th>0</th>\n",
       "      <td>https://www.trustpilot.com/review/www.hotels.com</td>\n",
       "      <td>Careful if you speak with some agents for any ...</td>\n",
       "      <td>First, I needed a reply from the hotel side, b...</td>\n",
       "      <td>Date of experience: January 19, 2025</td>\n",
       "      <td>2</td>\n",
       "    </tr>\n",
       "    <tr>\n",
       "      <th>1</th>\n",
       "      <td>https://www.trustpilot.com/review/www.hotels.com</td>\n",
       "      <td>Will never use these again</td>\n",
       "      <td>Terrible service. Contacted them as I booked a...</td>\n",
       "      <td>Date of experience: January 19, 2025</td>\n",
       "      <td>1</td>\n",
       "    </tr>\n",
       "    <tr>\n",
       "      <th>2</th>\n",
       "      <td>https://www.trustpilot.com/review/www.hotels.com</td>\n",
       "      <td>I wish I could leave a zero rating.</td>\n",
       "      <td>I wish I could leave a zero rating.Absolutely ...</td>\n",
       "      <td>Date of experience: January 17, 2025</td>\n",
       "      <td>1</td>\n",
       "    </tr>\n",
       "    <tr>\n",
       "      <th>3</th>\n",
       "      <td>https://www.trustpilot.com/review/www.hotels.com</td>\n",
       "      <td>New loyalty programme scam</td>\n",
       "      <td>New loyalty programme from 10% (1 free night i...</td>\n",
       "      <td>Date of experience: January 16, 2025</td>\n",
       "      <td>1</td>\n",
       "    </tr>\n",
       "    <tr>\n",
       "      <th>4</th>\n",
       "      <td>https://www.trustpilot.com/review/www.hotels.com</td>\n",
       "      <td>Been a Member for 20 years</td>\n",
       "      <td>Been a Member for 20 years, I would NOT recomm...</td>\n",
       "      <td>Date of experience: January 17, 2025</td>\n",
       "      <td>1</td>\n",
       "    </tr>\n",
       "    <tr>\n",
       "      <th>...</th>\n",
       "      <td>...</td>\n",
       "      <td>...</td>\n",
       "      <td>...</td>\n",
       "      <td>...</td>\n",
       "      <td>...</td>\n",
       "    </tr>\n",
       "    <tr>\n",
       "      <th>19995</th>\n",
       "      <td>https://www.trustpilot.com/review/www.hostelwo...</td>\n",
       "      <td>Easy navigation and very thorough…</td>\n",
       "      <td>Easy navigation and very thorough presentation...</td>\n",
       "      <td>Date of experience: May 30, 2022</td>\n",
       "      <td>5</td>\n",
       "    </tr>\n",
       "    <tr>\n",
       "      <th>19996</th>\n",
       "      <td>https://www.trustpilot.com/review/www.hostelwo...</td>\n",
       "      <td>Friendly and helpful staff</td>\n",
       "      <td>Friendly and helpful staff. Reasonably priced ...</td>\n",
       "      <td>Date of experience: May 30, 2022</td>\n",
       "      <td>4</td>\n",
       "    </tr>\n",
       "    <tr>\n",
       "      <th>19997</th>\n",
       "      <td>https://www.trustpilot.com/review/www.hostelwo...</td>\n",
       "      <td>A long weekend in Paris</td>\n",
       "      <td>As mentioned the only small thing I could say ...</td>\n",
       "      <td>Date of experience: May 30, 2022</td>\n",
       "      <td>5</td>\n",
       "    </tr>\n",
       "    <tr>\n",
       "      <th>19998</th>\n",
       "      <td>https://www.trustpilot.com/review/www.hostelwo...</td>\n",
       "      <td>Terrible customer service</td>\n",
       "      <td>Terrible customer service. My booking was canc...</td>\n",
       "      <td>Date of experience: May 30, 2022</td>\n",
       "      <td>1</td>\n",
       "    </tr>\n",
       "    <tr>\n",
       "      <th>19999</th>\n",
       "      <td>https://www.trustpilot.com/review/www.hostelwo...</td>\n",
       "      <td>Easy to book things</td>\n",
       "      <td>No body text</td>\n",
       "      <td>Date of experience: May 29, 2022</td>\n",
       "      <td>5</td>\n",
       "    </tr>\n",
       "  </tbody>\n",
       "</table>\n",
       "<p>20000 rows × 5 columns</p>\n",
       "</div>"
      ],
      "text/plain": [
       "                                              source_url  \\\n",
       "0       https://www.trustpilot.com/review/www.hotels.com   \n",
       "1       https://www.trustpilot.com/review/www.hotels.com   \n",
       "2       https://www.trustpilot.com/review/www.hotels.com   \n",
       "3       https://www.trustpilot.com/review/www.hotels.com   \n",
       "4       https://www.trustpilot.com/review/www.hotels.com   \n",
       "...                                                  ...   \n",
       "19995  https://www.trustpilot.com/review/www.hostelwo...   \n",
       "19996  https://www.trustpilot.com/review/www.hostelwo...   \n",
       "19997  https://www.trustpilot.com/review/www.hostelwo...   \n",
       "19998  https://www.trustpilot.com/review/www.hostelwo...   \n",
       "19999  https://www.trustpilot.com/review/www.hostelwo...   \n",
       "\n",
       "                                                   title  \\\n",
       "0      Careful if you speak with some agents for any ...   \n",
       "1                             Will never use these again   \n",
       "2                    I wish I could leave a zero rating.   \n",
       "3                             New loyalty programme scam   \n",
       "4                             Been a Member for 20 years   \n",
       "...                                                  ...   \n",
       "19995                 Easy navigation and very thorough…   \n",
       "19996                         Friendly and helpful staff   \n",
       "19997                            A long weekend in Paris   \n",
       "19998                          Terrible customer service   \n",
       "19999                                Easy to book things   \n",
       "\n",
       "                                                    body  \\\n",
       "0      First, I needed a reply from the hotel side, b...   \n",
       "1      Terrible service. Contacted them as I booked a...   \n",
       "2      I wish I could leave a zero rating.Absolutely ...   \n",
       "3      New loyalty programme from 10% (1 free night i...   \n",
       "4      Been a Member for 20 years, I would NOT recomm...   \n",
       "...                                                  ...   \n",
       "19995  Easy navigation and very thorough presentation...   \n",
       "19996  Friendly and helpful staff. Reasonably priced ...   \n",
       "19997  As mentioned the only small thing I could say ...   \n",
       "19998  Terrible customer service. My booking was canc...   \n",
       "19999                                       No body text   \n",
       "\n",
       "                                       date  score  \n",
       "0      Date of experience: January 19, 2025      2  \n",
       "1      Date of experience: January 19, 2025      1  \n",
       "2      Date of experience: January 17, 2025      1  \n",
       "3      Date of experience: January 16, 2025      1  \n",
       "4      Date of experience: January 17, 2025      1  \n",
       "...                                     ...    ...  \n",
       "19995      Date of experience: May 30, 2022      5  \n",
       "19996      Date of experience: May 30, 2022      4  \n",
       "19997      Date of experience: May 30, 2022      5  \n",
       "19998      Date of experience: May 30, 2022      1  \n",
       "19999      Date of experience: May 29, 2022      5  \n",
       "\n",
       "[20000 rows x 5 columns]"
      ]
     },
     "execution_count": 3,
     "metadata": {},
     "output_type": "execute_result"
    }
   ],
   "source": [
    "df_multi"
   ]
  },
  {
   "cell_type": "code",
   "execution_count": 4,
   "metadata": {},
   "outputs": [
    {
     "data": {
      "text/plain": [
       "source_url    0\n",
       "title         0\n",
       "body          0\n",
       "date          0\n",
       "score         0\n",
       "dtype: int64"
      ]
     },
     "execution_count": 4,
     "metadata": {},
     "output_type": "execute_result"
    }
   ],
   "source": [
    "df_multi.isnull().sum()"
   ]
  },
  {
   "cell_type": "code",
   "execution_count": 5,
   "metadata": {},
   "outputs": [
    {
     "data": {
      "text/plain": [
       "title    0\n",
       "body     0\n",
       "date     0\n",
       "dtype: int64"
      ]
     },
     "execution_count": 5,
     "metadata": {},
     "output_type": "execute_result"
    }
   ],
   "source": [
    "# 1 missing value in titlt col in df_gala\n",
    "df_gala['title'] = df_gala['title'].fillna('No Title')\n",
    "df_gala.isnull().sum()"
   ]
  },
  {
   "cell_type": "markdown",
   "metadata": {},
   "source": [
    "## Preprocessing & Traduction"
   ]
  },
  {
   "cell_type": "code",
   "execution_count": 6,
   "metadata": {},
   "outputs": [
    {
     "name": "stderr",
     "output_type": "stream",
     "text": [
      "[nltk_data] Downloading package stopwords to\n",
      "[nltk_data]     C:\\Users\\thiba\\AppData\\Roaming\\nltk_data...\n",
      "[nltk_data]   Package stopwords is already up-to-date!\n"
     ]
    }
   ],
   "source": [
    "#------Function for removing english stopwords------#\n",
    "\n",
    "import nltk\n",
    "from nltk.corpus import stopwords\n",
    "nltk.download('stopwords')\n",
    "def remove_stopwords(text, lang='english'):\n",
    "    stop_words = set(stopwords.words(lang))\n",
    "    words = text.split()\n",
    "    filtered_words = [word for word in words if word.lower() not in stop_words]\n",
    "    return ' '.join(filtered_words)\n"
   ]
  },
  {
   "cell_type": "code",
   "execution_count": 7,
   "metadata": {},
   "outputs": [],
   "source": [
    "#------Function for translating to english------#\n",
    "\n",
    "from deep_translator import GoogleTranslator\n",
    "\n",
    "def translate_avis(avis, lang):\n",
    "    return GoogleTranslator(source=lang, target='en').translate(avis)\n",
    "\n"
   ]
  },
  {
   "cell_type": "code",
   "execution_count": 8,
   "metadata": {},
   "outputs": [],
   "source": [
    "import re\n",
    "from symspellpy import SymSpell, Verbosity\n",
    "\n",
    "sym_spell = SymSpell(max_dictionary_edit_distance=2, prefix_length=7)\n",
    "sym_spell.load_dictionary(\"./frequency_dictionary_en_82_765.txt\", term_index=0, count_index=1)\n",
    "\n",
    "def correct_spelling_fast(text, lang='en'):\n",
    "\n",
    "    words = text.split()\n",
    "\n",
    "    corrected_words = []\n",
    "    for word in words:\n",
    "        correction = sym_spell.lookup(word, Verbosity.CLOSEST, max_edit_distance=2)\n",
    "        corrected_words.append(correction[0].term if correction else word)\n",
    "    corrected_text = ' '.join(corrected_words)\n",
    "    return corrected_text"
   ]
  },
  {
   "cell_type": "markdown",
   "metadata": {},
   "source": [
    "#### HRS data"
   ]
  },
  {
   "cell_type": "code",
   "execution_count": 9,
   "metadata": {},
   "outputs": [],
   "source": [
    "df_hrs['body'] = df_hrs['body'].str.lower()\n",
    "df_hrs['body'] = df_hrs['body'].apply(lambda x: re.sub(r'[^\\w\\s]', '', x))\n",
    "df_hrs['body'] = df_hrs['body'].apply(lambda x: emoji.replace_emoji(x, replace=''))\n",
    "df_hrs['language'] = df_hrs['body'].apply(detect)\n",
    "df_hrs['source'] = 'HRS'"
   ]
  },
  {
   "cell_type": "code",
   "execution_count": 10,
   "metadata": {},
   "outputs": [
    {
     "data": {
      "text/plain": [
       "array(['en'], dtype=object)"
      ]
     },
     "execution_count": 10,
     "metadata": {},
     "output_type": "execute_result"
    }
   ],
   "source": [
    "df_hrs['language'].unique() #only english no need to translate"
   ]
  },
  {
   "cell_type": "code",
   "execution_count": 11,
   "metadata": {},
   "outputs": [],
   "source": [
    "df_hrs['body'] = df_hrs['body'].apply(remove_stopwords)"
   ]
  },
  {
   "cell_type": "code",
   "execution_count": 12,
   "metadata": {},
   "outputs": [],
   "source": [
    "df_hrs['body'] = df_hrs['body'].apply(lambda x: correct_spelling_fast(x, lang='en'))"
   ]
  },
  {
   "cell_type": "code",
   "execution_count": 13,
   "metadata": {},
   "outputs": [],
   "source": [
    "df_hrs.to_csv('./cleaned_rev/hrs_clean.csv',index=False)"
   ]
  },
  {
   "cell_type": "markdown",
   "metadata": {},
   "source": [
    "#### Hotelsone data"
   ]
  },
  {
   "cell_type": "code",
   "execution_count": 14,
   "metadata": {},
   "outputs": [],
   "source": [
    "df_sone['body'] = df_sone['body'].str.lower()\n",
    "df_sone['body'] = df_sone['body'].apply(lambda x: re.sub(r'[^\\w\\s]', '', x))\n",
    "df_sone['body'] = df_sone['body'].apply(lambda x: emoji.replace_emoji(x, replace=''))\n",
    "df_sone = df_sone[df_sone['body'].str.strip().astype(bool)] # remove reviews that only contains whitespaces\n",
    "df_sone['language'] = df_sone['body'].apply(detect)\n",
    "df_sone['source'] = 'HotelSone'"
   ]
  },
  {
   "cell_type": "code",
   "execution_count": 15,
   "metadata": {},
   "outputs": [
    {
     "data": {
      "text/plain": [
       "array(['en', 'da', 'fr', 'sk', 'af', 'so', 'it', 'cs', 'pl', 'ro', 'es',\n",
       "       'tl', 'cy', 'no', 'pt', 'hr', 'de', 'nl', 'ca', 'lv', 'sl'],\n",
       "      dtype=object)"
      ]
     },
     "execution_count": 15,
     "metadata": {},
     "output_type": "execute_result"
    }
   ],
   "source": [
    "df_sone['language'].unique()"
   ]
  },
  {
   "cell_type": "code",
   "execution_count": 16,
   "metadata": {},
   "outputs": [
    {
     "name": "stdout",
     "output_type": "stream",
     "text": [
      "language\n",
      "en    3799\n",
      "sk    1086\n",
      "fr      28\n",
      "af      15\n",
      "da      11\n",
      "ro       9\n",
      "it       9\n",
      "tl       8\n",
      "ca       7\n",
      "es       6\n",
      "so       4\n",
      "cs       3\n",
      "no       3\n",
      "cy       2\n",
      "nl       2\n",
      "sl       2\n",
      "pl       1\n",
      "pt       1\n",
      "hr       1\n",
      "de       1\n",
      "lv       1\n",
      "Name: count, dtype: int64\n"
     ]
    }
   ],
   "source": [
    "print(df_sone['language'].value_counts()) #Many reviews in other languages, need to translate"
   ]
  },
  {
   "cell_type": "code",
   "execution_count": 17,
   "metadata": {},
   "outputs": [],
   "source": [
    "df_sone = df_sone[df_sone['language'] == 'en'] #Garder uniquement les review en anglais"
   ]
  },
  {
   "cell_type": "code",
   "execution_count": 18,
   "metadata": {},
   "outputs": [],
   "source": [
    "df_sone['body'] = df_sone['body'].apply(remove_stopwords)"
   ]
  },
  {
   "cell_type": "code",
   "execution_count": 19,
   "metadata": {},
   "outputs": [],
   "source": [
    "df_sone['body'] = df_sone['body'].apply(lambda x: correct_spelling_fast(x, lang='en'))"
   ]
  },
  {
   "cell_type": "code",
   "execution_count": 20,
   "metadata": {},
   "outputs": [],
   "source": [
    "df_sone.to_csv('./cleaned_rev/HotelSone_clean.csv',index=False)"
   ]
  },
  {
   "cell_type": "markdown",
   "metadata": {},
   "source": [
    "#### Gala Hotel Data"
   ]
  },
  {
   "cell_type": "code",
   "execution_count": 22,
   "metadata": {},
   "outputs": [],
   "source": [
    "df_gala['body'] = df_gala['body'].str.lower()\n",
    "df_gala['body'] = df_gala['body'].apply(lambda x: re.sub(r'[^\\w\\s]', '', x))\n",
    "df_gala['body'] = df_gala['body'].apply(lambda x: emoji.replace_emoji(x, replace=''))\n",
    "df_gala = df_gala[df_gala['body'].str.strip().astype(bool)] # remove reviews that only contains whitespaces\n",
    "df_gala['language'] = df_gala['body'].apply(detect)\n",
    "df_gala['source'] = 'Gala Hotel'"
   ]
  },
  {
   "cell_type": "code",
   "execution_count": 23,
   "metadata": {},
   "outputs": [
    {
     "data": {
      "text/plain": [
       "array(['en', 'sk', 'sl', 'it', 'es', 'af', 'ca', 'fr', 'da', 'pl', 'de',\n",
       "       'nl', 'ro', 'no', 'cy', 'hr', 'pt', 'tl', 'so'], dtype=object)"
      ]
     },
     "execution_count": 23,
     "metadata": {},
     "output_type": "execute_result"
    }
   ],
   "source": [
    "df_gala['language'].unique()"
   ]
  },
  {
   "cell_type": "code",
   "execution_count": 24,
   "metadata": {},
   "outputs": [],
   "source": [
    "df_gala = df_gala[df_gala['language'] == 'en'] #Garder uniquement les review en anglais"
   ]
  },
  {
   "cell_type": "code",
   "execution_count": 25,
   "metadata": {},
   "outputs": [],
   "source": [
    "df_gala['body'] = df_gala['body'].apply(remove_stopwords)"
   ]
  },
  {
   "cell_type": "code",
   "execution_count": 26,
   "metadata": {},
   "outputs": [],
   "source": [
    "df_gala['body'] = df_gala['body'].apply(lambda x: correct_spelling_fast(x, lang='en'))"
   ]
  },
  {
   "cell_type": "code",
   "execution_count": 27,
   "metadata": {},
   "outputs": [],
   "source": [
    "df_gala.to_csv('./cleaned_rev/GalaHotel_clean.csv',index=False)"
   ]
  },
  {
   "cell_type": "markdown",
   "metadata": {},
   "source": [
    "#### Multi-review data"
   ]
  },
  {
   "cell_type": "code",
   "execution_count": 6,
   "metadata": {},
   "outputs": [
    {
     "name": "stderr",
     "output_type": "stream",
     "text": [
      "C:\\Users\\thiba\\AppData\\Local\\Temp\\ipykernel_24552\\3151614733.py:5: SettingWithCopyWarning: \n",
      "A value is trying to be set on a copy of a slice from a DataFrame.\n",
      "Try using .loc[row_indexer,col_indexer] = value instead\n",
      "\n",
      "See the caveats in the documentation: https://pandas.pydata.org/pandas-docs/stable/user_guide/indexing.html#returning-a-view-versus-a-copy\n",
      "  df_multi['language'] = df_multi['body'].apply(detect)\n"
     ]
    }
   ],
   "source": [
    "df_multi['body'] = df_multi['body'].str.lower()\n",
    "df_multi['body'] = df_multi['body'].apply(lambda x: re.sub(r'[^\\w\\s]', '', x))\n",
    "df_multi['body'] = df_multi['body'].apply(lambda x: emoji.replace_emoji(x, replace=''))\n",
    "df_multi = df_multi[df_multi['body'].str.strip().astype(bool)] # remove reviews that only contains whitespaces\n",
    "df_multi['language'] = df_multi['body'].apply(detect)"
   ]
  },
  {
   "cell_type": "code",
   "execution_count": 12,
   "metadata": {},
   "outputs": [
    {
     "data": {
      "text/plain": [
       "array(['en'], dtype=object)"
      ]
     },
     "execution_count": 12,
     "metadata": {},
     "output_type": "execute_result"
    }
   ],
   "source": [
    "df_multi['language'].unique()"
   ]
  },
  {
   "cell_type": "code",
   "execution_count": 10,
   "metadata": {},
   "outputs": [
    {
     "name": "stdout",
     "output_type": "stream",
     "text": [
      "language\n",
      "en    18964\n",
      "sk      879\n",
      "fr       26\n",
      "it       19\n",
      "af       17\n",
      "ro       14\n",
      "ca       11\n",
      "es       10\n",
      "nl        9\n",
      "da        9\n",
      "hr        6\n",
      "tl        6\n",
      "no        6\n",
      "cy        4\n",
      "so        4\n",
      "pt        3\n",
      "sw        2\n",
      "cs        2\n",
      "et        2\n",
      "sl        1\n",
      "Name: count, dtype: int64\n"
     ]
    }
   ],
   "source": [
    "print(df_multi['language'].value_counts()) #Many reviews in other languages, need to translate"
   ]
  },
  {
   "cell_type": "code",
   "execution_count": 11,
   "metadata": {},
   "outputs": [],
   "source": [
    "df_multi = df_multi[df_multi['language'] == 'en'] #Garder uniquement les review en anglais"
   ]
  },
  {
   "cell_type": "code",
   "execution_count": 15,
   "metadata": {},
   "outputs": [],
   "source": [
    "df_multi['body'] = df_multi['body'].apply(remove_stopwords)"
   ]
  },
  {
   "cell_type": "code",
   "execution_count": 18,
   "metadata": {},
   "outputs": [],
   "source": [
    "df_multi['body'] = df_multi['body'].apply(lambda x: correct_spelling_fast(x, lang='en'))"
   ]
  },
  {
   "cell_type": "code",
   "execution_count": 19,
   "metadata": {},
   "outputs": [],
   "source": [
    "df_multi.to_csv('./cleaned_rev/Multi_rev_clean.csv',index=False)"
   ]
  },
  {
   "cell_type": "markdown",
   "metadata": {},
   "source": [
    "#### Concatenation for models"
   ]
  },
  {
   "cell_type": "code",
   "execution_count": 28,
   "metadata": {},
   "outputs": [],
   "source": [
    "df_combined = pd.concat([df_hrs, df_sone, df_gala], ignore_index=True)\n",
    "df_combined.to_csv('./cleaned_rev/concat_rev.csv')"
   ]
  },
  {
   "cell_type": "markdown",
   "metadata": {},
   "source": [
    "## Model Setup & Training"
   ]
  },
  {
   "cell_type": "markdown",
   "metadata": {},
   "source": [
    "#### Topic Classification (LDA)"
   ]
  },
  {
   "cell_type": "code",
   "execution_count": 27,
   "metadata": {},
   "outputs": [],
   "source": [
    "from sklearn.feature_extraction.text import TfidfVectorizer\n",
    "\n",
    "vectorizer = TfidfVectorizer(stop_words='english', max_features=1000)\n",
    "\n",
    "X_tfidf = vectorizer.fit_transform(df_combined['body'])\n"
   ]
  },
  {
   "cell_type": "code",
   "execution_count": 28,
   "metadata": {},
   "outputs": [
    {
     "name": "stdout",
     "output_type": "stream",
     "text": [
      "Topic 0:\n",
      "friendly, good, staff, clean, location, great, room, spacious, excellent, live, helpful, nice, stay, service, offers, hotel, site, comfortable, best, sure\n",
      "Topic 1:\n",
      "valid, easily, card, book, using, credit, hotel, hrs, rates, issues, reliable, search, point, willing, able, rating, shows, course, consistently, end\n",
      "Topic 2:\n",
      "hotel, room, booking, best, prices, hrs, breakfast, avoid, process, easy, night, use, good, old, bad, included, nice, staff, desk, clean\n",
      "Topic 3:\n",
      "really, good, business, site, pricing, rooms, wants, need, platform, limited, past, recently, people, significant, perfect, number, wonderful, experience, book, options\n",
      "Topic 4:\n",
      "easy, simple, fast, rates, hotels, use, booking, process, choice, convenient, selection, bookings, particular, germany, interesting, la, reward, wide, cities, small\n",
      "Topic 5:\n",
      "improve, information, site, hotels, user, hrs, satisfied, quality, high, friendliness, bit, web, worth, automatically, regards, italian, blast, kind, applied, page\n",
      "Topic 6:\n",
      "hotel, easy, booking, quick, website, reservation, gala, half, price, booked, confirmation, refund, book, stay, room, problem, company, recommended, use, available\n"
     ]
    }
   ],
   "source": [
    "from sklearn.decomposition import LatentDirichletAllocation\n",
    "\n",
    "\n",
    "n_topics = 7\n",
    "lda = LatentDirichletAllocation(n_components=n_topics, random_state=42)\n",
    "\n",
    "lda.fit(X_tfidf)\n",
    "\n",
    "# Extract the topics (words associated with each topic)\n",
    "feature_names = vectorizer.get_feature_names_out()\n",
    "n_top_words = 20  # Number of words to display per topic\n",
    "\n",
    "# Print topics\n",
    "for topic_idx, topic in enumerate(lda.components_):\n",
    "    print(f\"Topic {topic_idx}:\")\n",
    "    print(\", \".join([feature_names[i] for i in topic.argsort()[:-n_top_words - 1:-1]]))\n"
   ]
  },
  {
   "cell_type": "markdown",
   "metadata": {},
   "source": [
    "Results are not satisfying enough, We will try using zero-shot model"
   ]
  },
  {
   "cell_type": "code",
   "execution_count": 29,
   "metadata": {},
   "outputs": [],
   "source": [
    "# Get topic distribution for each review\n",
    "topic_distribution = lda.transform(X_tfidf)\n",
    "\n",
    "# Assign the review to the topic with the highest probability\n",
    "df_combined['assigned_topic'] = topic_distribution.argmax(axis=1)"
   ]
  },
  {
   "cell_type": "code",
   "execution_count": 30,
   "metadata": {},
   "outputs": [
    {
     "data": {
      "text/plain": [
       "0        5\n",
       "1        4\n",
       "2        3\n",
       "3        3\n",
       "4        0\n",
       "        ..\n",
       "13343    3\n",
       "13344    0\n",
       "13345    0\n",
       "13346    6\n",
       "13347    0\n",
       "Name: assigned_topic, Length: 13348, dtype: int64"
      ]
     },
     "execution_count": 30,
     "metadata": {},
     "output_type": "execute_result"
    }
   ],
   "source": [
    "df_combined['assigned_topic']"
   ]
  },
  {
   "cell_type": "markdown",
   "metadata": {},
   "source": [
    "#### Topic classification (Zero-shot Model)"
   ]
  },
  {
   "cell_type": "code",
   "execution_count": 8,
   "metadata": {},
   "outputs": [
    {
     "name": "stderr",
     "output_type": "stream",
     "text": [
      "Classifying Reviews:   0%|          | 10/13348 [00:01<22:41,  9.80review/s]You seem to be using the pipelines sequentially on GPU. In order to maximize efficiency please use a dataset\n",
      "Classifying Reviews: 100%|██████████| 13348/13348 [24:26<00:00,  9.10review/s]"
     ]
    },
    {
     "name": "stdout",
     "output_type": "stream",
     "text": [
      "                                                body classif_result\n",
      "0  much known like otis really worth book rooms w...          value\n",
      "1  easy booking process wide selection hotels eve...          rooms\n",
      "2  really good site need book several rooms wants...          rooms\n",
      "3  great hotel comfortable perfect short staysthe...          rooms\n",
      "4   friendly staff good location clean spacious room    cleanliness\n"
     ]
    },
    {
     "name": "stderr",
     "output_type": "stream",
     "text": [
      "\n"
     ]
    }
   ],
   "source": [
    "from transformers import pipeline\n",
    "import json\n",
    "import torch\n",
    "from tqdm import tqdm\n",
    "from datasets import Dataset\n",
    "\n",
    "labels = ['service', 'cleanliness', 'overall', 'value', 'location', 'sleep_quality', 'rooms']\n",
    "classifier = pipeline(\"zero-shot-classification\", model=\"knowledgator/comprehend_it-base\", device=0)\n",
    "result = []\n",
    "dataset = Dataset.from_pandas(df_combined[['body']])\n",
    "for review in tqdm(dataset['body'], total=len(dataset['body']), desc=\"Classifying Reviews\", unit=\"review\"):\n",
    "    classification = classifier(review, candidate_labels=labels)\n",
    "    top_label = classification['labels'][0]\n",
    "    result.append(top_label)\n",
    "df_combined['classif_result'] = result\n",
    "\n",
    "# Check the updated DataFrame\n",
    "print(df_combined[['body', 'classif_result']].head())\n"
   ]
  },
  {
   "cell_type": "code",
   "execution_count": 10,
   "metadata": {},
   "outputs": [],
   "source": [
    "df_combined.to_csv('./nlp_results/rev_topic.csv',index=False)"
   ]
  },
  {
   "cell_type": "markdown",
   "metadata": {},
   "source": [
    "#### Sentiment Analysis (Zero-shot Model)"
   ]
  },
  {
   "cell_type": "code",
   "execution_count": 11,
   "metadata": {},
   "outputs": [
    {
     "name": "stderr",
     "output_type": "stream",
     "text": [
      "Some weights of RobertaForSequenceClassification were not initialized from the model checkpoint at FacebookAI/roberta-base and are newly initialized: ['classifier.dense.bias', 'classifier.dense.weight', 'classifier.out_proj.bias', 'classifier.out_proj.weight']\n",
      "You should probably TRAIN this model on a down-stream task to be able to use it for predictions and inference.\n",
      "Failed to determine 'entailment' label id from the label2id mapping in the model config. Setting to -1. Define a descriptive label2id mapping in the model config to ensure correct outputs.\n",
      "Classifying Reviews: 100%|██████████| 13348/13348 [10:42<00:00, 20.78review/s]"
     ]
    },
    {
     "name": "stdout",
     "output_type": "stream",
     "text": [
      "                                                body sentiment_result\n",
      "0  much known like otis really worth book rooms w...         Positive\n",
      "1  easy booking process wide selection hotels eve...         Positive\n",
      "2  really good site need book several rooms wants...         Positive\n",
      "3  great hotel comfortable perfect short staysthe...         Positive\n",
      "4   friendly staff good location clean spacious room         Positive\n"
     ]
    },
    {
     "name": "stderr",
     "output_type": "stream",
     "text": [
      "\n"
     ]
    }
   ],
   "source": [
    "from transformers import pipeline\n",
    "import json\n",
    "import torch\n",
    "from tqdm import tqdm\n",
    "from datasets import Dataset\n",
    "\n",
    "labels_st = ['Positive', 'Negative', 'Neutral']\n",
    "classifier_st = pipeline(\"zero-shot-classification\", model=\"FacebookAI/roberta-base\", device=0)\n",
    "result_st = []\n",
    "for review in tqdm(dataset['body'], total=len(dataset['body']), desc=\"Classifying Reviews\", unit=\"review\"):\n",
    "    classification = classifier(review, candidate_labels=labels_st)\n",
    "    top_label = classification['labels'][0]\n",
    "    result_st.append(top_label)\n",
    "df_combined['sentiment_result'] = result_st\n",
    "\n",
    "print(df_combined[['body', 'sentiment_result']].head())"
   ]
  },
  {
   "cell_type": "code",
   "execution_count": 12,
   "metadata": {},
   "outputs": [],
   "source": [
    "df_combined.to_csv('./nlp_results/rev_topic_sentiment.csv',index=False)"
   ]
  },
  {
   "cell_type": "markdown",
   "metadata": {},
   "source": [
    "#### Rating Prediction (Supervised Learning)"
   ]
  },
  {
   "cell_type": "code",
   "execution_count": null,
   "metadata": {},
   "outputs": [],
   "source": [
    "import os\n",
    "import torch\n",
    "os.environ[\"CUDA_LAUNCH_BLOCKING\"] = \"1\"\n",
    "os.environ['TORCH_USE_CUDA_DSA'] = \"1\"\n",
    "torch.cuda.empty_cache()"
   ]
  },
  {
   "cell_type": "code",
   "execution_count": 1,
   "metadata": {},
   "outputs": [
    {
     "name": "stdout",
     "output_type": "stream",
     "text": [
      "WARNING:tensorflow:From c:\\Users\\thiba\\AppData\\Local\\Programs\\Python\\Python312\\Lib\\site-packages\\tf_keras\\src\\losses.py:2976: The name tf.losses.sparse_softmax_cross_entropy is deprecated. Please use tf.compat.v1.losses.sparse_softmax_cross_entropy instead.\n",
      "\n"
     ]
    }
   ],
   "source": [
    "import pandas as pd\n",
    "import matplotlib.pyplot as plt\n",
    "from sklearn.model_selection import train_test_split\n",
    "from sklearn.metrics import accuracy_score, precision_recall_fscore_support\n",
    "from datasets import Dataset\n",
    "from transformers import (\n",
    "    DistilBertTokenizer,\n",
    "    DistilBertForSequenceClassification,\n",
    "    Trainer,\n",
    "    TrainingArguments,\n",
    ")"
   ]
  },
  {
   "cell_type": "code",
   "execution_count": 4,
   "metadata": {},
   "outputs": [],
   "source": [
    "df = pd.read_csv('./cleaned_rev/Multi_rev_clean.csv', delimiter=',')\n",
    "df = df[['score', 'body']]\n",
    "df['score'] = df['score'].astype(int) - 1 # -1 sinon erreur avec cuda\n",
    "\n",
    "x_train, x_test, y_train, y_test = train_test_split(df['body'], df['score'], test_size=0.2)\n",
    "\n",
    "train_data = Dataset.from_dict({'text': x_train.tolist(), 'label': y_train.tolist()})\n",
    "test_data = Dataset.from_dict({'text': x_test.tolist(), 'label': y_test.tolist()})\n"
   ]
  },
  {
   "cell_type": "code",
   "execution_count": 5,
   "metadata": {},
   "outputs": [
    {
     "data": {
      "application/vnd.jupyter.widget-view+json": {
       "model_id": "5dc7716c2bc8461bbec98238539622cf",
       "version_major": 2,
       "version_minor": 0
      },
      "text/plain": [
       "Map:   0%|          | 0/15171 [00:00<?, ? examples/s]"
      ]
     },
     "metadata": {},
     "output_type": "display_data"
    },
    {
     "data": {
      "application/vnd.jupyter.widget-view+json": {
       "model_id": "6db2686bccef49bba8401d9389c81995",
       "version_major": 2,
       "version_minor": 0
      },
      "text/plain": [
       "Map:   0%|          | 0/3793 [00:00<?, ? examples/s]"
      ]
     },
     "metadata": {},
     "output_type": "display_data"
    }
   ],
   "source": [
    "tokenizer = DistilBertTokenizer.from_pretrained(\"distilbert-base-uncased\")\n",
    "\n",
    "def tokenize_function(examples):\n",
    "    return tokenizer(examples['text'], padding=\"max_length\", truncation=True, max_length=128)\n",
    "\n",
    "train_data = train_data.map(tokenize_function, batched=True)\n",
    "test_data = test_data.map(tokenize_function, batched=True)\n",
    "\n",
    "train_data.set_format(type='torch', columns=['input_ids', 'attention_mask', 'label'])\n",
    "test_data.set_format(type='torch', columns=['input_ids', 'attention_mask', 'label'])\n"
   ]
  },
  {
   "cell_type": "code",
   "execution_count": 6,
   "metadata": {},
   "outputs": [],
   "source": [
    "from sklearn.metrics import mean_squared_error\n",
    "\n",
    "def compute_metrics(pred):\n",
    "    labels = pred.label_ids\n",
    "    preds = pred.predictions.argmax(-1)\n",
    "    precision, recall, f1, _ = precision_recall_fscore_support(labels, preds, average='weighted')\n",
    "    acc = accuracy_score(labels, preds)\n",
    "    mse = mean_squared_error(labels, preds)\n",
    "    return {\n",
    "        'accuracy': acc,\n",
    "        'precision': precision,\n",
    "        'recall': recall,\n",
    "        'f1': f1,\n",
    "        'mse': mse,\n",
    "    }\n"
   ]
  },
  {
   "cell_type": "code",
   "execution_count": 8,
   "metadata": {},
   "outputs": [],
   "source": [
    "training_args = TrainingArguments(\n",
    "    output_dir=\"./results\",\n",
    "    eval_strategy=\"epoch\",\n",
    "    save_strategy=\"epoch\",\n",
    "    num_train_epochs=3,\n",
    "    per_device_train_batch_size=4,\n",
    "    per_device_eval_batch_size=4,\n",
    "    warmup_steps=500,\n",
    "    weight_decay=0.01,\n",
    "    logging_dir=\"./logs\",\n",
    "    logging_steps=10,\n",
    "    load_best_model_at_end=True,\n",
    ")\n"
   ]
  },
  {
   "cell_type": "code",
   "execution_count": 9,
   "metadata": {},
   "outputs": [
    {
     "name": "stderr",
     "output_type": "stream",
     "text": [
      "Some weights of DistilBertForSequenceClassification were not initialized from the model checkpoint at distilbert-base-uncased and are newly initialized: ['classifier.bias', 'classifier.weight', 'pre_classifier.bias', 'pre_classifier.weight']\n",
      "You should probably TRAIN this model on a down-stream task to be able to use it for predictions and inference.\n"
     ]
    },
    {
     "data": {
      "application/vnd.jupyter.widget-view+json": {
       "model_id": "c472a342b8c74538aaf2958efed48337",
       "version_major": 2,
       "version_minor": 0
      },
      "text/plain": [
       "  0%|          | 0/11379 [00:00<?, ?it/s]"
      ]
     },
     "metadata": {},
     "output_type": "display_data"
    },
    {
     "name": "stdout",
     "output_type": "stream",
     "text": [
      "{'loss': 1.6034, 'grad_norm': 3.569124937057495, 'learning_rate': 1.0000000000000002e-06, 'epoch': 0.0}\n",
      "{'loss': 1.5808, 'grad_norm': 4.3157548904418945, 'learning_rate': 2.0000000000000003e-06, 'epoch': 0.01}\n",
      "{'loss': 1.5276, 'grad_norm': 5.593752384185791, 'learning_rate': 3e-06, 'epoch': 0.01}\n",
      "{'loss': 1.4493, 'grad_norm': 3.662710666656494, 'learning_rate': 4.000000000000001e-06, 'epoch': 0.01}\n",
      "{'loss': 1.3849, 'grad_norm': 4.865753650665283, 'learning_rate': 5e-06, 'epoch': 0.01}\n",
      "{'loss': 1.2553, 'grad_norm': 7.207294464111328, 'learning_rate': 6e-06, 'epoch': 0.02}\n",
      "{'loss': 1.0717, 'grad_norm': 4.820284843444824, 'learning_rate': 7.000000000000001e-06, 'epoch': 0.02}\n",
      "{'loss': 0.8739, 'grad_norm': 4.52303409576416, 'learning_rate': 8.000000000000001e-06, 'epoch': 0.02}\n",
      "{'loss': 0.7827, 'grad_norm': 4.329233646392822, 'learning_rate': 9e-06, 'epoch': 0.02}\n",
      "{'loss': 0.7628, 'grad_norm': 4.559178829193115, 'learning_rate': 1e-05, 'epoch': 0.03}\n",
      "{'loss': 0.9749, 'grad_norm': 4.004386901855469, 'learning_rate': 1.1000000000000001e-05, 'epoch': 0.03}\n",
      "{'loss': 0.7573, 'grad_norm': 2.770733594894409, 'learning_rate': 1.2e-05, 'epoch': 0.03}\n",
      "{'loss': 0.7312, 'grad_norm': 4.950930118560791, 'learning_rate': 1.3000000000000001e-05, 'epoch': 0.03}\n",
      "{'loss': 0.6142, 'grad_norm': 6.61898136138916, 'learning_rate': 1.4000000000000001e-05, 'epoch': 0.04}\n",
      "{'loss': 0.55, 'grad_norm': 4.261751174926758, 'learning_rate': 1.5e-05, 'epoch': 0.04}\n",
      "{'loss': 0.6233, 'grad_norm': 1.9818928241729736, 'learning_rate': 1.6000000000000003e-05, 'epoch': 0.04}\n",
      "{'loss': 0.5952, 'grad_norm': 3.0590405464172363, 'learning_rate': 1.7000000000000003e-05, 'epoch': 0.04}\n",
      "{'loss': 0.5402, 'grad_norm': 1.624888300895691, 'learning_rate': 1.8e-05, 'epoch': 0.05}\n",
      "{'loss': 0.5357, 'grad_norm': 1.2001954317092896, 'learning_rate': 1.9e-05, 'epoch': 0.05}\n",
      "{'loss': 0.8227, 'grad_norm': 10.054533004760742, 'learning_rate': 2e-05, 'epoch': 0.05}\n",
      "{'loss': 0.5745, 'grad_norm': 9.374919891357422, 'learning_rate': 2.1e-05, 'epoch': 0.06}\n",
      "{'loss': 0.5805, 'grad_norm': 1.4282028675079346, 'learning_rate': 2.2000000000000003e-05, 'epoch': 0.06}\n",
      "{'loss': 0.4937, 'grad_norm': 12.671564102172852, 'learning_rate': 2.3000000000000003e-05, 'epoch': 0.06}\n",
      "{'loss': 0.8688, 'grad_norm': 6.288357257843018, 'learning_rate': 2.4e-05, 'epoch': 0.06}\n",
      "{'loss': 0.3532, 'grad_norm': 15.264643669128418, 'learning_rate': 2.5e-05, 'epoch': 0.07}\n",
      "{'loss': 0.4101, 'grad_norm': 0.6117158532142639, 'learning_rate': 2.6000000000000002e-05, 'epoch': 0.07}\n",
      "{'loss': 0.832, 'grad_norm': 0.5589985847473145, 'learning_rate': 2.7000000000000002e-05, 'epoch': 0.07}\n",
      "{'loss': 0.2821, 'grad_norm': 5.768277645111084, 'learning_rate': 2.8000000000000003e-05, 'epoch': 0.07}\n",
      "{'loss': 0.5381, 'grad_norm': 0.43458858132362366, 'learning_rate': 2.9e-05, 'epoch': 0.08}\n",
      "{'loss': 0.8112, 'grad_norm': 7.334173679351807, 'learning_rate': 3e-05, 'epoch': 0.08}\n",
      "{'loss': 0.4891, 'grad_norm': 0.30373072624206543, 'learning_rate': 3.1e-05, 'epoch': 0.08}\n",
      "{'loss': 0.9832, 'grad_norm': 0.41664621233940125, 'learning_rate': 3.2000000000000005e-05, 'epoch': 0.08}\n",
      "{'loss': 0.8285, 'grad_norm': 6.808515548706055, 'learning_rate': 3.3e-05, 'epoch': 0.09}\n",
      "{'loss': 0.8107, 'grad_norm': 16.598995208740234, 'learning_rate': 3.4000000000000007e-05, 'epoch': 0.09}\n",
      "{'loss': 0.7595, 'grad_norm': 12.412552833557129, 'learning_rate': 3.5e-05, 'epoch': 0.09}\n",
      "{'loss': 0.5298, 'grad_norm': 0.3860853910446167, 'learning_rate': 3.6e-05, 'epoch': 0.09}\n",
      "{'loss': 0.4167, 'grad_norm': 36.3365478515625, 'learning_rate': 3.7e-05, 'epoch': 0.1}\n",
      "{'loss': 0.3132, 'grad_norm': 0.33336231112480164, 'learning_rate': 3.8e-05, 'epoch': 0.1}\n",
      "{'loss': 0.5918, 'grad_norm': 7.886582851409912, 'learning_rate': 3.9000000000000006e-05, 'epoch': 0.1}\n",
      "{'loss': 0.6687, 'grad_norm': 0.16739864647388458, 'learning_rate': 4e-05, 'epoch': 0.11}\n",
      "{'loss': 0.7923, 'grad_norm': 0.5943316221237183, 'learning_rate': 4.1e-05, 'epoch': 0.11}\n",
      "{'loss': 0.7988, 'grad_norm': 0.25349944829940796, 'learning_rate': 4.2e-05, 'epoch': 0.11}\n",
      "{'loss': 0.3466, 'grad_norm': 2.8611669540405273, 'learning_rate': 4.3e-05, 'epoch': 0.11}\n",
      "{'loss': 0.2812, 'grad_norm': 0.2843099534511566, 'learning_rate': 4.4000000000000006e-05, 'epoch': 0.12}\n",
      "{'loss': 0.9323, 'grad_norm': 0.3928571939468384, 'learning_rate': 4.5e-05, 'epoch': 0.12}\n",
      "{'loss': 0.7762, 'grad_norm': 11.471321105957031, 'learning_rate': 4.600000000000001e-05, 'epoch': 0.12}\n",
      "{'loss': 0.2056, 'grad_norm': 0.31732386350631714, 'learning_rate': 4.7e-05, 'epoch': 0.12}\n",
      "{'loss': 0.6932, 'grad_norm': 9.97668170928955, 'learning_rate': 4.8e-05, 'epoch': 0.13}\n",
      "{'loss': 0.3984, 'grad_norm': 0.2651961147785187, 'learning_rate': 4.9e-05, 'epoch': 0.13}\n",
      "{'loss': 0.7337, 'grad_norm': 2.72403621673584, 'learning_rate': 5e-05, 'epoch': 0.13}\n",
      "{'loss': 0.49, 'grad_norm': 0.20876319706439972, 'learning_rate': 4.995403989337256e-05, 'epoch': 0.13}\n",
      "{'loss': 1.0178, 'grad_norm': 7.698263168334961, 'learning_rate': 4.990807978674511e-05, 'epoch': 0.14}\n",
      "{'loss': 0.514, 'grad_norm': 1.7172781229019165, 'learning_rate': 4.986211968011766e-05, 'epoch': 0.14}\n",
      "{'loss': 0.5328, 'grad_norm': 7.122760772705078, 'learning_rate': 4.981615957349021e-05, 'epoch': 0.14}\n",
      "{'loss': 0.4777, 'grad_norm': 7.119700908660889, 'learning_rate': 4.9770199466862765e-05, 'epoch': 0.15}\n",
      "{'loss': 1.0297, 'grad_norm': 20.467187881469727, 'learning_rate': 4.972423936023532e-05, 'epoch': 0.15}\n",
      "{'loss': 0.4904, 'grad_norm': 13.00910472869873, 'learning_rate': 4.9678279253607876e-05, 'epoch': 0.15}\n",
      "{'loss': 0.5378, 'grad_norm': 5.581061840057373, 'learning_rate': 4.9632319146980424e-05, 'epoch': 0.15}\n",
      "{'loss': 0.3088, 'grad_norm': 0.793164074420929, 'learning_rate': 4.958635904035297e-05, 'epoch': 0.16}\n",
      "{'loss': 0.3721, 'grad_norm': 0.4618246853351593, 'learning_rate': 4.954039893372553e-05, 'epoch': 0.16}\n",
      "{'loss': 0.5718, 'grad_norm': 13.784842491149902, 'learning_rate': 4.949443882709808e-05, 'epoch': 0.16}\n",
      "{'loss': 1.0579, 'grad_norm': 0.427297979593277, 'learning_rate': 4.944847872047063e-05, 'epoch': 0.16}\n",
      "{'loss': 0.4899, 'grad_norm': 92.51060485839844, 'learning_rate': 4.940251861384319e-05, 'epoch': 0.17}\n",
      "{'loss': 0.3534, 'grad_norm': 6.50474214553833, 'learning_rate': 4.9356558507215736e-05, 'epoch': 0.17}\n",
      "{'loss': 1.101, 'grad_norm': 1.9487394094467163, 'learning_rate': 4.931059840058829e-05, 'epoch': 0.17}\n",
      "{'loss': 0.7655, 'grad_norm': 8.595847129821777, 'learning_rate': 4.9264638293960846e-05, 'epoch': 0.17}\n",
      "{'loss': 0.3774, 'grad_norm': 7.15427827835083, 'learning_rate': 4.9218678187333395e-05, 'epoch': 0.18}\n",
      "{'loss': 0.6788, 'grad_norm': 7.396194934844971, 'learning_rate': 4.917271808070595e-05, 'epoch': 0.18}\n",
      "{'loss': 0.2595, 'grad_norm': 0.22586989402770996, 'learning_rate': 4.9126757974078505e-05, 'epoch': 0.18}\n",
      "{'loss': 0.7441, 'grad_norm': 0.12197397649288177, 'learning_rate': 4.9080797867451054e-05, 'epoch': 0.18}\n",
      "{'loss': 0.0148, 'grad_norm': 0.2139015644788742, 'learning_rate': 4.903483776082361e-05, 'epoch': 0.19}\n",
      "{'loss': 0.9084, 'grad_norm': 0.1669163554906845, 'learning_rate': 4.898887765419616e-05, 'epoch': 0.19}\n",
      "{'loss': 0.4833, 'grad_norm': 23.584474563598633, 'learning_rate': 4.894291754756871e-05, 'epoch': 0.19}\n",
      "{'loss': 0.7324, 'grad_norm': 38.48197555541992, 'learning_rate': 4.889695744094127e-05, 'epoch': 0.2}\n",
      "{'loss': 0.4553, 'grad_norm': 2.0034804344177246, 'learning_rate': 4.8850997334313817e-05, 'epoch': 0.2}\n",
      "{'loss': 0.4426, 'grad_norm': 0.1529035121202469, 'learning_rate': 4.880503722768637e-05, 'epoch': 0.2}\n",
      "{'loss': 0.1371, 'grad_norm': 0.14097663760185242, 'learning_rate': 4.875907712105892e-05, 'epoch': 0.2}\n",
      "{'loss': 0.1694, 'grad_norm': 0.09885727614164352, 'learning_rate': 4.8713117014431476e-05, 'epoch': 0.21}\n",
      "{'loss': 0.2372, 'grad_norm': 179.55572509765625, 'learning_rate': 4.866715690780403e-05, 'epoch': 0.21}\n",
      "{'loss': 0.3544, 'grad_norm': 0.11676588654518127, 'learning_rate': 4.862119680117658e-05, 'epoch': 0.21}\n",
      "{'loss': 0.7112, 'grad_norm': 55.42758560180664, 'learning_rate': 4.857523669454913e-05, 'epoch': 0.21}\n",
      "{'loss': 0.4119, 'grad_norm': 7.262321949005127, 'learning_rate': 4.852927658792168e-05, 'epoch': 0.22}\n",
      "{'loss': 0.6612, 'grad_norm': 0.15315699577331543, 'learning_rate': 4.848331648129424e-05, 'epoch': 0.22}\n",
      "{'loss': 0.216, 'grad_norm': 0.17959831655025482, 'learning_rate': 4.8437356374666794e-05, 'epoch': 0.22}\n",
      "{'loss': 1.1742, 'grad_norm': 0.22745056450366974, 'learning_rate': 4.839139626803935e-05, 'epoch': 0.22}\n",
      "{'loss': 0.4425, 'grad_norm': 0.24386857450008392, 'learning_rate': 4.83454361614119e-05, 'epoch': 0.23}\n",
      "{'loss': 0.7483, 'grad_norm': 18.74502182006836, 'learning_rate': 4.8299476054784446e-05, 'epoch': 0.23}\n",
      "{'loss': 0.37, 'grad_norm': 0.4124877154827118, 'learning_rate': 4.8253515948157e-05, 'epoch': 0.23}\n",
      "{'loss': 0.6994, 'grad_norm': 38.452537536621094, 'learning_rate': 4.820755584152956e-05, 'epoch': 0.23}\n",
      "{'loss': 0.6466, 'grad_norm': 7.115324020385742, 'learning_rate': 4.816159573490211e-05, 'epoch': 0.24}\n",
      "{'loss': 0.2143, 'grad_norm': 0.21179147064685822, 'learning_rate': 4.811563562827466e-05, 'epoch': 0.24}\n",
      "{'loss': 0.6501, 'grad_norm': 0.7236523032188416, 'learning_rate': 4.806967552164721e-05, 'epoch': 0.24}\n",
      "{'loss': 0.3338, 'grad_norm': 0.19561947882175446, 'learning_rate': 4.8023715415019764e-05, 'epoch': 0.25}\n",
      "{'loss': 0.2789, 'grad_norm': 7.709726333618164, 'learning_rate': 4.797775530839232e-05, 'epoch': 0.25}\n",
      "{'loss': 0.8965, 'grad_norm': 7.042947769165039, 'learning_rate': 4.7931795201764875e-05, 'epoch': 0.25}\n",
      "{'loss': 1.0842, 'grad_norm': 0.9078721404075623, 'learning_rate': 4.788583509513742e-05, 'epoch': 0.25}\n",
      "{'loss': 0.9514, 'grad_norm': 9.115602493286133, 'learning_rate': 4.783987498850997e-05, 'epoch': 0.26}\n",
      "{'loss': 0.4275, 'grad_norm': 0.41685837507247925, 'learning_rate': 4.779391488188253e-05, 'epoch': 0.26}\n",
      "{'loss': 0.3824, 'grad_norm': 6.784419536590576, 'learning_rate': 4.774795477525508e-05, 'epoch': 0.26}\n",
      "{'loss': 0.5726, 'grad_norm': 127.60630798339844, 'learning_rate': 4.770199466862763e-05, 'epoch': 0.26}\n",
      "{'loss': 1.107, 'grad_norm': 67.88276672363281, 'learning_rate': 4.7656034562000186e-05, 'epoch': 0.27}\n",
      "{'loss': 0.3932, 'grad_norm': 6.2170515060424805, 'learning_rate': 4.761007445537274e-05, 'epoch': 0.27}\n",
      "{'loss': 0.4719, 'grad_norm': 0.21152958273887634, 'learning_rate': 4.756411434874529e-05, 'epoch': 0.27}\n",
      "{'loss': 0.5673, 'grad_norm': 21.710796356201172, 'learning_rate': 4.7518154242117845e-05, 'epoch': 0.27}\n",
      "{'loss': 0.3092, 'grad_norm': 0.21693989634513855, 'learning_rate': 4.7472194135490394e-05, 'epoch': 0.28}\n",
      "{'loss': 0.4689, 'grad_norm': 0.3522719740867615, 'learning_rate': 4.742623402886295e-05, 'epoch': 0.28}\n",
      "{'loss': 0.2008, 'grad_norm': 22.402938842773438, 'learning_rate': 4.7380273922235504e-05, 'epoch': 0.28}\n",
      "{'loss': 0.2755, 'grad_norm': 0.16741102933883667, 'learning_rate': 4.733431381560805e-05, 'epoch': 0.28}\n",
      "{'loss': 0.5361, 'grad_norm': 7.373683452606201, 'learning_rate': 4.728835370898061e-05, 'epoch': 0.29}\n",
      "{'loss': 0.5202, 'grad_norm': 0.1356050819158554, 'learning_rate': 4.7242393602353156e-05, 'epoch': 0.29}\n",
      "{'loss': 1.1192, 'grad_norm': 13.679425239562988, 'learning_rate': 4.719643349572571e-05, 'epoch': 0.29}\n",
      "{'loss': 0.5742, 'grad_norm': 7.511104583740234, 'learning_rate': 4.715047338909827e-05, 'epoch': 0.3}\n",
      "{'loss': 0.7101, 'grad_norm': 0.386819452047348, 'learning_rate': 4.710451328247082e-05, 'epoch': 0.3}\n",
      "{'loss': 0.4602, 'grad_norm': 1.1549198627471924, 'learning_rate': 4.705855317584337e-05, 'epoch': 0.3}\n",
      "{'loss': 0.6948, 'grad_norm': 7.230401992797852, 'learning_rate': 4.701259306921592e-05, 'epoch': 0.3}\n",
      "{'loss': 0.396, 'grad_norm': 0.31089526414871216, 'learning_rate': 4.6966632962588475e-05, 'epoch': 0.31}\n",
      "{'loss': 0.3487, 'grad_norm': 0.13862061500549316, 'learning_rate': 4.692067285596103e-05, 'epoch': 0.31}\n",
      "{'loss': 0.3609, 'grad_norm': 9.412304878234863, 'learning_rate': 4.6874712749333585e-05, 'epoch': 0.31}\n",
      "{'loss': 1.2543, 'grad_norm': 7.614717960357666, 'learning_rate': 4.6828752642706134e-05, 'epoch': 0.31}\n",
      "{'loss': 0.5759, 'grad_norm': 19.528501510620117, 'learning_rate': 4.678279253607868e-05, 'epoch': 0.32}\n",
      "{'loss': 0.4568, 'grad_norm': 5.9671196937561035, 'learning_rate': 4.673683242945124e-05, 'epoch': 0.32}\n",
      "{'loss': 0.4873, 'grad_norm': 11.795942306518555, 'learning_rate': 4.669087232282379e-05, 'epoch': 0.32}\n",
      "{'loss': 0.2989, 'grad_norm': 11.067086219787598, 'learning_rate': 4.664491221619635e-05, 'epoch': 0.32}\n",
      "{'loss': 0.2215, 'grad_norm': 0.23298178613185883, 'learning_rate': 4.6598952109568897e-05, 'epoch': 0.33}\n",
      "{'loss': 0.0994, 'grad_norm': 0.12997187674045563, 'learning_rate': 4.6552992002941445e-05, 'epoch': 0.33}\n",
      "{'loss': 0.8245, 'grad_norm': 0.08717745542526245, 'learning_rate': 4.6507031896314e-05, 'epoch': 0.33}\n",
      "{'loss': 0.3367, 'grad_norm': 0.1462029665708542, 'learning_rate': 4.6461071789686556e-05, 'epoch': 0.33}\n",
      "{'loss': 0.507, 'grad_norm': 58.29533004760742, 'learning_rate': 4.641511168305911e-05, 'epoch': 0.34}\n",
      "{'loss': 0.3002, 'grad_norm': 0.37033089995384216, 'learning_rate': 4.636915157643166e-05, 'epoch': 0.34}\n",
      "{'loss': 0.7803, 'grad_norm': 7.540316581726074, 'learning_rate': 4.6323191469804215e-05, 'epoch': 0.34}\n",
      "{'loss': 0.6882, 'grad_norm': 0.16860562562942505, 'learning_rate': 4.627723136317676e-05, 'epoch': 0.35}\n",
      "{'loss': 1.2228, 'grad_norm': 1.705910563468933, 'learning_rate': 4.623127125654932e-05, 'epoch': 0.35}\n",
      "{'loss': 0.4904, 'grad_norm': 7.545154094696045, 'learning_rate': 4.6185311149921874e-05, 'epoch': 0.35}\n",
      "{'loss': 0.2445, 'grad_norm': 1.0560764074325562, 'learning_rate': 4.613935104329442e-05, 'epoch': 0.35}\n",
      "{'loss': 0.2748, 'grad_norm': 0.18866977095603943, 'learning_rate': 4.609339093666698e-05, 'epoch': 0.36}\n",
      "{'loss': 0.1497, 'grad_norm': 0.1223820224404335, 'learning_rate': 4.6047430830039526e-05, 'epoch': 0.36}\n",
      "{'loss': 0.3494, 'grad_norm': 0.11342113465070724, 'learning_rate': 4.600147072341208e-05, 'epoch': 0.36}\n",
      "{'loss': 0.6737, 'grad_norm': 11.320755004882812, 'learning_rate': 4.595551061678463e-05, 'epoch': 0.36}\n",
      "{'loss': 0.4118, 'grad_norm': 0.11541567742824554, 'learning_rate': 4.5909550510157185e-05, 'epoch': 0.37}\n",
      "{'loss': 0.2848, 'grad_norm': 0.13551433384418488, 'learning_rate': 4.586359040352974e-05, 'epoch': 0.37}\n",
      "{'loss': 0.4161, 'grad_norm': 7.82273006439209, 'learning_rate': 4.581763029690229e-05, 'epoch': 0.37}\n",
      "{'loss': 0.5954, 'grad_norm': 0.11207648366689682, 'learning_rate': 4.5771670190274844e-05, 'epoch': 0.37}\n",
      "{'loss': 0.5642, 'grad_norm': 6.556354522705078, 'learning_rate': 4.572571008364739e-05, 'epoch': 0.38}\n",
      "{'loss': 0.488, 'grad_norm': 7.653365135192871, 'learning_rate': 4.567974997701995e-05, 'epoch': 0.38}\n",
      "{'loss': 0.6358, 'grad_norm': 0.34581896662712097, 'learning_rate': 4.56337898703925e-05, 'epoch': 0.38}\n",
      "{'loss': 0.25, 'grad_norm': 0.2638744115829468, 'learning_rate': 4.558782976376506e-05, 'epoch': 0.38}\n",
      "{'loss': 0.5093, 'grad_norm': 0.19773127138614655, 'learning_rate': 4.554186965713761e-05, 'epoch': 0.39}\n",
      "{'loss': 0.4136, 'grad_norm': 9.75329303741455, 'learning_rate': 4.5495909550510155e-05, 'epoch': 0.39}\n",
      "{'loss': 0.5672, 'grad_norm': 0.23829668760299683, 'learning_rate': 4.544994944388271e-05, 'epoch': 0.39}\n",
      "{'loss': 0.327, 'grad_norm': 0.15653151273727417, 'learning_rate': 4.5403989337255266e-05, 'epoch': 0.4}\n",
      "{'loss': 0.3569, 'grad_norm': 0.23100310564041138, 'learning_rate': 4.535802923062782e-05, 'epoch': 0.4}\n",
      "{'loss': 0.1647, 'grad_norm': 0.7612953186035156, 'learning_rate': 4.531206912400037e-05, 'epoch': 0.4}\n",
      "{'loss': 0.5927, 'grad_norm': 0.11006727069616318, 'learning_rate': 4.526610901737292e-05, 'epoch': 0.4}\n",
      "{'loss': 0.6224, 'grad_norm': 0.1667339950799942, 'learning_rate': 4.5220148910745474e-05, 'epoch': 0.41}\n",
      "{'loss': 1.0018, 'grad_norm': 0.8800185322761536, 'learning_rate': 4.517418880411803e-05, 'epoch': 0.41}\n",
      "{'loss': 0.4467, 'grad_norm': 1.2117841243743896, 'learning_rate': 4.5128228697490584e-05, 'epoch': 0.41}\n",
      "{'loss': 0.7885, 'grad_norm': 0.5648224353790283, 'learning_rate': 4.508226859086313e-05, 'epoch': 0.41}\n",
      "{'loss': 0.5832, 'grad_norm': 70.56597900390625, 'learning_rate': 4.503630848423568e-05, 'epoch': 0.42}\n",
      "{'loss': 0.3305, 'grad_norm': 0.4184077978134155, 'learning_rate': 4.4990348377608236e-05, 'epoch': 0.42}\n",
      "{'loss': 0.3539, 'grad_norm': 0.20614753663539886, 'learning_rate': 4.494438827098079e-05, 'epoch': 0.42}\n",
      "{'loss': 0.253, 'grad_norm': 7.46478796005249, 'learning_rate': 4.489842816435335e-05, 'epoch': 0.42}\n",
      "{'loss': 0.4962, 'grad_norm': 0.4158669412136078, 'learning_rate': 4.4852468057725895e-05, 'epoch': 0.43}\n",
      "{'loss': 0.7453, 'grad_norm': 0.18185728788375854, 'learning_rate': 4.480650795109845e-05, 'epoch': 0.43}\n",
      "{'loss': 0.3747, 'grad_norm': 7.283592700958252, 'learning_rate': 4.4760547844471e-05, 'epoch': 0.43}\n",
      "{'loss': 0.783, 'grad_norm': 0.3304418921470642, 'learning_rate': 4.4714587737843555e-05, 'epoch': 0.44}\n",
      "{'loss': 0.1555, 'grad_norm': 0.4140499532222748, 'learning_rate': 4.466862763121611e-05, 'epoch': 0.44}\n",
      "{'loss': 0.232, 'grad_norm': 0.16846290230751038, 'learning_rate': 4.462266752458866e-05, 'epoch': 0.44}\n",
      "{'loss': 0.3932, 'grad_norm': 7.576398849487305, 'learning_rate': 4.4576707417961214e-05, 'epoch': 0.44}\n",
      "{'loss': 0.2011, 'grad_norm': 0.2047492414712906, 'learning_rate': 4.453074731133376e-05, 'epoch': 0.45}\n",
      "{'loss': 0.437, 'grad_norm': 7.784536838531494, 'learning_rate': 4.448478720470632e-05, 'epoch': 0.45}\n",
      "{'loss': 0.5252, 'grad_norm': 15.332548141479492, 'learning_rate': 4.443882709807887e-05, 'epoch': 0.45}\n",
      "{'loss': 0.4159, 'grad_norm': 0.22136470675468445, 'learning_rate': 4.439286699145142e-05, 'epoch': 0.45}\n",
      "{'loss': 0.2255, 'grad_norm': 0.2994994819164276, 'learning_rate': 4.4346906884823976e-05, 'epoch': 0.46}\n",
      "{'loss': 0.9058, 'grad_norm': 21.356231689453125, 'learning_rate': 4.4300946778196525e-05, 'epoch': 0.46}\n",
      "{'loss': 1.0244, 'grad_norm': 0.26314273476600647, 'learning_rate': 4.425498667156908e-05, 'epoch': 0.46}\n",
      "{'loss': 0.3167, 'grad_norm': 0.29533112049102783, 'learning_rate': 4.420902656494163e-05, 'epoch': 0.46}\n",
      "{'loss': 0.6027, 'grad_norm': 0.7193577885627747, 'learning_rate': 4.4163066458314184e-05, 'epoch': 0.47}\n",
      "{'loss': 0.4, 'grad_norm': 3.9714884757995605, 'learning_rate': 4.411710635168674e-05, 'epoch': 0.47}\n",
      "{'loss': 0.6066, 'grad_norm': 16.163679122924805, 'learning_rate': 4.4071146245059295e-05, 'epoch': 0.47}\n",
      "{'loss': 0.5735, 'grad_norm': 7.183143615722656, 'learning_rate': 4.402518613843184e-05, 'epoch': 0.47}\n",
      "{'loss': 0.9291, 'grad_norm': 16.73383903503418, 'learning_rate': 4.397922603180439e-05, 'epoch': 0.48}\n",
      "{'loss': 0.855, 'grad_norm': 17.958585739135742, 'learning_rate': 4.393326592517695e-05, 'epoch': 0.48}\n",
      "{'loss': 0.6663, 'grad_norm': 12.55986499786377, 'learning_rate': 4.38873058185495e-05, 'epoch': 0.48}\n",
      "{'loss': 0.1815, 'grad_norm': 0.3105848729610443, 'learning_rate': 4.384134571192206e-05, 'epoch': 0.49}\n",
      "{'loss': 0.2802, 'grad_norm': 0.12820839881896973, 'learning_rate': 4.3795385605294606e-05, 'epoch': 0.49}\n",
      "{'loss': 0.6675, 'grad_norm': 10.761336326599121, 'learning_rate': 4.3749425498667154e-05, 'epoch': 0.49}\n",
      "{'loss': 0.6203, 'grad_norm': 0.9498721361160278, 'learning_rate': 4.370346539203971e-05, 'epoch': 0.49}\n",
      "{'loss': 0.5957, 'grad_norm': 9.441070556640625, 'learning_rate': 4.3657505285412265e-05, 'epoch': 0.5}\n",
      "{'loss': 0.1116, 'grad_norm': 0.1908598393201828, 'learning_rate': 4.361154517878482e-05, 'epoch': 0.5}\n",
      "{'loss': 0.561, 'grad_norm': 0.2003387212753296, 'learning_rate': 4.3565585072157375e-05, 'epoch': 0.5}\n",
      "{'loss': 0.5102, 'grad_norm': 0.22952409088611603, 'learning_rate': 4.351962496552992e-05, 'epoch': 0.5}\n",
      "{'loss': 0.5044, 'grad_norm': 7.521807670593262, 'learning_rate': 4.347366485890247e-05, 'epoch': 0.51}\n",
      "{'loss': 0.3457, 'grad_norm': 7.343638896942139, 'learning_rate': 4.342770475227503e-05, 'epoch': 0.51}\n",
      "{'loss': 0.6062, 'grad_norm': 7.2241291999816895, 'learning_rate': 4.338174464564758e-05, 'epoch': 0.51}\n",
      "{'loss': 0.258, 'grad_norm': 0.24674929678440094, 'learning_rate': 4.333578453902013e-05, 'epoch': 0.51}\n",
      "{'loss': 0.3584, 'grad_norm': 0.13412044942378998, 'learning_rate': 4.328982443239269e-05, 'epoch': 0.52}\n",
      "{'loss': 0.9147, 'grad_norm': 0.21048782765865326, 'learning_rate': 4.3243864325765235e-05, 'epoch': 0.52}\n",
      "{'loss': 0.6544, 'grad_norm': 11.1762113571167, 'learning_rate': 4.319790421913779e-05, 'epoch': 0.52}\n",
      "{'loss': 0.368, 'grad_norm': 4.217287540435791, 'learning_rate': 4.3151944112510346e-05, 'epoch': 0.52}\n",
      "{'loss': 0.2472, 'grad_norm': 0.18611373007297516, 'learning_rate': 4.3105984005882894e-05, 'epoch': 0.53}\n",
      "{'loss': 0.628, 'grad_norm': 18.75153923034668, 'learning_rate': 4.306002389925545e-05, 'epoch': 0.53}\n",
      "{'loss': 0.5523, 'grad_norm': 0.11512991040945053, 'learning_rate': 4.3014063792628e-05, 'epoch': 0.53}\n",
      "{'loss': 0.2868, 'grad_norm': 0.18489736318588257, 'learning_rate': 4.2968103686000553e-05, 'epoch': 0.54}\n",
      "{'loss': 0.2492, 'grad_norm': 4.902349472045898, 'learning_rate': 4.292214357937311e-05, 'epoch': 0.54}\n",
      "{'loss': 0.7179, 'grad_norm': 28.867794036865234, 'learning_rate': 4.287618347274566e-05, 'epoch': 0.54}\n",
      "{'loss': 1.04, 'grad_norm': 7.407903671264648, 'learning_rate': 4.283022336611821e-05, 'epoch': 0.54}\n",
      "{'loss': 0.5755, 'grad_norm': 7.238060474395752, 'learning_rate': 4.278426325949077e-05, 'epoch': 0.55}\n",
      "{'loss': 0.7091, 'grad_norm': 9.462825775146484, 'learning_rate': 4.2738303152863316e-05, 'epoch': 0.55}\n",
      "{'loss': 0.6444, 'grad_norm': 24.183475494384766, 'learning_rate': 4.269234304623587e-05, 'epoch': 0.55}\n",
      "{'loss': 0.4764, 'grad_norm': 0.28075656294822693, 'learning_rate': 4.264638293960842e-05, 'epoch': 0.55}\n",
      "{'loss': 0.5527, 'grad_norm': 7.6912994384765625, 'learning_rate': 4.2600422832980975e-05, 'epoch': 0.56}\n",
      "{'loss': 0.598, 'grad_norm': 0.3486090302467346, 'learning_rate': 4.255446272635353e-05, 'epoch': 0.56}\n",
      "{'loss': 0.636, 'grad_norm': 0.38327357172966003, 'learning_rate': 4.250850261972608e-05, 'epoch': 0.56}\n",
      "{'loss': 0.3996, 'grad_norm': 34.45020294189453, 'learning_rate': 4.246254251309863e-05, 'epoch': 0.56}\n",
      "{'loss': 0.4768, 'grad_norm': 24.02812957763672, 'learning_rate': 4.241658240647118e-05, 'epoch': 0.57}\n",
      "{'loss': 0.2564, 'grad_norm': 0.22559566795825958, 'learning_rate': 4.237062229984374e-05, 'epoch': 0.57}\n",
      "{'loss': 0.4541, 'grad_norm': 11.222718238830566, 'learning_rate': 4.2324662193216293e-05, 'epoch': 0.57}\n",
      "{'loss': 0.5175, 'grad_norm': 0.2995840311050415, 'learning_rate': 4.227870208658884e-05, 'epoch': 0.57}\n",
      "{'loss': 0.4544, 'grad_norm': 0.2518397867679596, 'learning_rate': 4.223274197996139e-05, 'epoch': 0.58}\n",
      "{'loss': 0.7253, 'grad_norm': 0.18328037858009338, 'learning_rate': 4.2186781873333946e-05, 'epoch': 0.58}\n",
      "{'loss': 0.4928, 'grad_norm': 8.230843544006348, 'learning_rate': 4.21408217667065e-05, 'epoch': 0.58}\n",
      "{'loss': 0.7477, 'grad_norm': 0.4471692442893982, 'learning_rate': 4.2094861660079056e-05, 'epoch': 0.59}\n",
      "{'loss': 0.6165, 'grad_norm': 1.1439226865768433, 'learning_rate': 4.204890155345161e-05, 'epoch': 0.59}\n",
      "{'loss': 0.3444, 'grad_norm': 0.19927848875522614, 'learning_rate': 4.200294144682415e-05, 'epoch': 0.59}\n",
      "{'loss': 0.7785, 'grad_norm': 2.8799400329589844, 'learning_rate': 4.195698134019671e-05, 'epoch': 0.59}\n",
      "{'loss': 0.2519, 'grad_norm': 3.9768524169921875, 'learning_rate': 4.1911021233569264e-05, 'epoch': 0.6}\n",
      "{'loss': 0.7768, 'grad_norm': 0.1493196040391922, 'learning_rate': 4.186506112694182e-05, 'epoch': 0.6}\n",
      "{'loss': 0.3672, 'grad_norm': 0.2600302994251251, 'learning_rate': 4.1819101020314374e-05, 'epoch': 0.6}\n",
      "{'loss': 0.4075, 'grad_norm': 0.1423492133617401, 'learning_rate': 4.177314091368692e-05, 'epoch': 0.6}\n",
      "{'loss': 0.3914, 'grad_norm': 0.1283087432384491, 'learning_rate': 4.172718080705947e-05, 'epoch': 0.61}\n",
      "{'loss': 0.3492, 'grad_norm': 0.25812509655952454, 'learning_rate': 4.168122070043203e-05, 'epoch': 0.61}\n",
      "{'loss': 0.1488, 'grad_norm': 2.606837034225464, 'learning_rate': 4.163526059380458e-05, 'epoch': 0.61}\n",
      "{'loss': 0.4131, 'grad_norm': 11.75907039642334, 'learning_rate': 4.158930048717713e-05, 'epoch': 0.61}\n",
      "{'loss': 0.2525, 'grad_norm': 0.0742226392030716, 'learning_rate': 4.1543340380549686e-05, 'epoch': 0.62}\n",
      "{'loss': 0.2302, 'grad_norm': 8.045218467712402, 'learning_rate': 4.1497380273922234e-05, 'epoch': 0.62}\n",
      "{'loss': 0.3027, 'grad_norm': 8.015556335449219, 'learning_rate': 4.145142016729479e-05, 'epoch': 0.62}\n",
      "{'loss': 0.8651, 'grad_norm': 10.808216094970703, 'learning_rate': 4.1405460060667345e-05, 'epoch': 0.62}\n",
      "{'loss': 0.4921, 'grad_norm': 7.720036029815674, 'learning_rate': 4.135949995403989e-05, 'epoch': 0.63}\n",
      "{'loss': 0.6111, 'grad_norm': 7.988221645355225, 'learning_rate': 4.131353984741245e-05, 'epoch': 0.63}\n",
      "{'loss': 0.4686, 'grad_norm': 7.759716033935547, 'learning_rate': 4.1267579740785004e-05, 'epoch': 0.63}\n",
      "{'loss': 0.1794, 'grad_norm': 0.20499996840953827, 'learning_rate': 4.122161963415755e-05, 'epoch': 0.64}\n",
      "{'loss': 0.5543, 'grad_norm': 7.112249851226807, 'learning_rate': 4.117565952753011e-05, 'epoch': 0.64}\n",
      "{'loss': 0.1059, 'grad_norm': 0.6380778551101685, 'learning_rate': 4.1129699420902656e-05, 'epoch': 0.64}\n",
      "{'loss': 0.6191, 'grad_norm': 0.3388795256614685, 'learning_rate': 4.108373931427521e-05, 'epoch': 0.64}\n",
      "{'loss': 0.9709, 'grad_norm': 0.15589524805545807, 'learning_rate': 4.103777920764777e-05, 'epoch': 0.65}\n",
      "{'loss': 0.9267, 'grad_norm': 7.366766452789307, 'learning_rate': 4.0991819101020315e-05, 'epoch': 0.65}\n",
      "{'loss': 0.6167, 'grad_norm': 0.46582552790641785, 'learning_rate': 4.094585899439287e-05, 'epoch': 0.65}\n",
      "{'loss': 0.797, 'grad_norm': 7.30607795715332, 'learning_rate': 4.089989888776542e-05, 'epoch': 0.65}\n",
      "{'loss': 0.394, 'grad_norm': 0.4178626239299774, 'learning_rate': 4.0853938781137974e-05, 'epoch': 0.66}\n",
      "{'loss': 0.2359, 'grad_norm': 0.26893916726112366, 'learning_rate': 4.080797867451053e-05, 'epoch': 0.66}\n",
      "{'loss': 0.6424, 'grad_norm': 7.195322036743164, 'learning_rate': 4.076201856788308e-05, 'epoch': 0.66}\n",
      "{'loss': 0.4823, 'grad_norm': 0.27772897481918335, 'learning_rate': 4.0716058461255627e-05, 'epoch': 0.66}\n",
      "{'loss': 0.8174, 'grad_norm': 6.67288064956665, 'learning_rate': 4.067009835462818e-05, 'epoch': 0.67}\n",
      "{'loss': 0.657, 'grad_norm': 7.550139427185059, 'learning_rate': 4.062413824800074e-05, 'epoch': 0.67}\n",
      "{'loss': 0.6375, 'grad_norm': 9.828540802001953, 'learning_rate': 4.057817814137329e-05, 'epoch': 0.67}\n",
      "{'loss': 0.4399, 'grad_norm': 14.705574035644531, 'learning_rate': 4.053221803474585e-05, 'epoch': 0.67}\n",
      "{'loss': 0.4124, 'grad_norm': 0.2645666301250458, 'learning_rate': 4.0486257928118396e-05, 'epoch': 0.68}\n",
      "{'loss': 0.6659, 'grad_norm': 0.273593544960022, 'learning_rate': 4.0440297821490945e-05, 'epoch': 0.68}\n",
      "{'loss': 0.573, 'grad_norm': 0.3377280533313751, 'learning_rate': 4.03943377148635e-05, 'epoch': 0.68}\n",
      "{'loss': 0.4382, 'grad_norm': 0.5842145085334778, 'learning_rate': 4.0348377608236055e-05, 'epoch': 0.69}\n",
      "{'loss': 0.3553, 'grad_norm': 0.34142929315567017, 'learning_rate': 4.030241750160861e-05, 'epoch': 0.69}\n",
      "{'loss': 0.111, 'grad_norm': 0.6077122688293457, 'learning_rate': 4.025645739498116e-05, 'epoch': 0.69}\n",
      "{'loss': 0.6796, 'grad_norm': 0.11908334493637085, 'learning_rate': 4.021049728835371e-05, 'epoch': 0.69}\n",
      "{'loss': 0.3597, 'grad_norm': 3.39851713180542, 'learning_rate': 4.016453718172626e-05, 'epoch': 0.7}\n",
      "{'loss': 0.3788, 'grad_norm': 0.1530962735414505, 'learning_rate': 4.011857707509882e-05, 'epoch': 0.7}\n",
      "{'loss': 0.3423, 'grad_norm': 7.525588035583496, 'learning_rate': 4.007261696847137e-05, 'epoch': 0.7}\n",
      "{'loss': 0.2394, 'grad_norm': 6.624532699584961, 'learning_rate': 4.002665686184392e-05, 'epoch': 0.7}\n",
      "{'loss': 0.6609, 'grad_norm': 0.2799510657787323, 'learning_rate': 3.998069675521647e-05, 'epoch': 0.71}\n",
      "{'loss': 0.594, 'grad_norm': 8.394638061523438, 'learning_rate': 3.9934736648589026e-05, 'epoch': 0.71}\n",
      "{'loss': 0.4854, 'grad_norm': 0.15707704424858093, 'learning_rate': 3.988877654196158e-05, 'epoch': 0.71}\n",
      "{'loss': 0.4065, 'grad_norm': 8.243943214416504, 'learning_rate': 3.984281643533413e-05, 'epoch': 0.71}\n",
      "{'loss': 0.8375, 'grad_norm': 10.931002616882324, 'learning_rate': 3.9796856328706685e-05, 'epoch': 0.72}\n",
      "{'loss': 0.3592, 'grad_norm': 0.14184355735778809, 'learning_rate': 3.975089622207924e-05, 'epoch': 0.72}\n",
      "{'loss': 0.389, 'grad_norm': 4.053312301635742, 'learning_rate': 3.970493611545179e-05, 'epoch': 0.72}\n",
      "{'loss': 0.4848, 'grad_norm': 0.47566020488739014, 'learning_rate': 3.9658976008824344e-05, 'epoch': 0.73}\n",
      "{'loss': 0.3101, 'grad_norm': 0.09587856382131577, 'learning_rate': 3.961301590219689e-05, 'epoch': 0.73}\n",
      "{'loss': 0.4624, 'grad_norm': 1.361865758895874, 'learning_rate': 3.956705579556945e-05, 'epoch': 0.73}\n",
      "{'loss': 0.6692, 'grad_norm': 0.15846037864685059, 'learning_rate': 3.9521095688942e-05, 'epoch': 0.73}\n",
      "{'loss': 0.226, 'grad_norm': 0.1280188262462616, 'learning_rate': 3.947513558231455e-05, 'epoch': 0.74}\n",
      "{'loss': 0.6799, 'grad_norm': 2.7802133560180664, 'learning_rate': 3.942917547568711e-05, 'epoch': 0.74}\n",
      "{'loss': 0.5789, 'grad_norm': 7.862651824951172, 'learning_rate': 3.9383215369059655e-05, 'epoch': 0.74}\n",
      "{'loss': 0.1025, 'grad_norm': 0.15067213773727417, 'learning_rate': 3.933725526243221e-05, 'epoch': 0.74}\n",
      "{'loss': 0.6843, 'grad_norm': 23.672161102294922, 'learning_rate': 3.9291295155804766e-05, 'epoch': 0.75}\n",
      "{'loss': 0.3542, 'grad_norm': 0.13309308886528015, 'learning_rate': 3.9245335049177314e-05, 'epoch': 0.75}\n",
      "{'loss': 0.537, 'grad_norm': 8.04897403717041, 'learning_rate': 3.919937494254987e-05, 'epoch': 0.75}\n",
      "{'loss': 0.469, 'grad_norm': 0.20137529075145721, 'learning_rate': 3.915341483592242e-05, 'epoch': 0.75}\n",
      "{'loss': 0.8912, 'grad_norm': 0.22336824238300323, 'learning_rate': 3.910745472929497e-05, 'epoch': 0.76}\n",
      "{'loss': 0.1706, 'grad_norm': 0.3589526414871216, 'learning_rate': 3.906149462266753e-05, 'epoch': 0.76}\n",
      "{'loss': 0.709, 'grad_norm': 0.2497166246175766, 'learning_rate': 3.9015534516040084e-05, 'epoch': 0.76}\n",
      "{'loss': 0.3151, 'grad_norm': 0.31595954298973083, 'learning_rate': 3.896957440941263e-05, 'epoch': 0.76}\n",
      "{'loss': 0.3183, 'grad_norm': 0.38235267996788025, 'learning_rate': 3.892361430278518e-05, 'epoch': 0.77}\n",
      "{'loss': 0.2963, 'grad_norm': 0.2566785514354706, 'learning_rate': 3.8877654196157736e-05, 'epoch': 0.77}\n",
      "{'loss': 0.8465, 'grad_norm': 0.23594000935554504, 'learning_rate': 3.883169408953029e-05, 'epoch': 0.77}\n",
      "{'loss': 0.3138, 'grad_norm': 0.2539709508419037, 'learning_rate': 3.878573398290285e-05, 'epoch': 0.78}\n",
      "{'loss': 0.3471, 'grad_norm': 0.18372347950935364, 'learning_rate': 3.8739773876275395e-05, 'epoch': 0.78}\n",
      "{'loss': 0.229, 'grad_norm': 0.35128459334373474, 'learning_rate': 3.8693813769647944e-05, 'epoch': 0.78}\n",
      "{'loss': 0.8904, 'grad_norm': 7.616029739379883, 'learning_rate': 3.86478536630205e-05, 'epoch': 0.78}\n",
      "{'loss': 0.6921, 'grad_norm': 7.175051689147949, 'learning_rate': 3.8601893556393054e-05, 'epoch': 0.79}\n",
      "{'loss': 0.6997, 'grad_norm': 0.6766992807388306, 'learning_rate': 3.855593344976561e-05, 'epoch': 0.79}\n",
      "{'loss': 0.4882, 'grad_norm': 0.334362655878067, 'learning_rate': 3.850997334313816e-05, 'epoch': 0.79}\n",
      "{'loss': 0.3328, 'grad_norm': 8.605454444885254, 'learning_rate': 3.8464013236510706e-05, 'epoch': 0.79}\n",
      "{'loss': 0.7559, 'grad_norm': 26.31948471069336, 'learning_rate': 3.841805312988326e-05, 'epoch': 0.8}\n",
      "{'loss': 0.7268, 'grad_norm': 12.429065704345703, 'learning_rate': 3.837209302325582e-05, 'epoch': 0.8}\n",
      "{'loss': 0.0222, 'grad_norm': 0.24385179579257965, 'learning_rate': 3.832613291662837e-05, 'epoch': 0.8}\n",
      "{'loss': 0.1349, 'grad_norm': 0.12809713184833527, 'learning_rate': 3.828017281000092e-05, 'epoch': 0.8}\n",
      "{'loss': 0.4899, 'grad_norm': 7.2065629959106445, 'learning_rate': 3.8234212703373476e-05, 'epoch': 0.81}\n",
      "{'loss': 0.2727, 'grad_norm': 0.09768553078174591, 'learning_rate': 3.8188252596746025e-05, 'epoch': 0.81}\n",
      "{'loss': 0.3663, 'grad_norm': 0.08767469227313995, 'learning_rate': 3.814229249011858e-05, 'epoch': 0.81}\n",
      "{'loss': 0.6623, 'grad_norm': 0.4517495036125183, 'learning_rate': 3.809633238349113e-05, 'epoch': 0.81}\n",
      "{'loss': 0.5131, 'grad_norm': 0.12193688750267029, 'learning_rate': 3.8050372276863684e-05, 'epoch': 0.82}\n",
      "{'loss': 0.6516, 'grad_norm': 7.992883682250977, 'learning_rate': 3.800441217023624e-05, 'epoch': 0.82}\n",
      "{'loss': 0.5861, 'grad_norm': 11.755072593688965, 'learning_rate': 3.795845206360879e-05, 'epoch': 0.82}\n",
      "{'loss': 0.7604, 'grad_norm': 13.58919620513916, 'learning_rate': 3.791249195698134e-05, 'epoch': 0.83}\n",
      "{'loss': 0.6619, 'grad_norm': 5.9189581871032715, 'learning_rate': 3.786653185035389e-05, 'epoch': 0.83}\n",
      "{'loss': 0.196, 'grad_norm': 0.3409351110458374, 'learning_rate': 3.7820571743726447e-05, 'epoch': 0.83}\n",
      "{'loss': 1.071, 'grad_norm': 7.527307510375977, 'learning_rate': 3.7774611637099e-05, 'epoch': 0.83}\n",
      "{'loss': 0.8846, 'grad_norm': 6.376481056213379, 'learning_rate': 3.772865153047156e-05, 'epoch': 0.84}\n",
      "{'loss': 0.4375, 'grad_norm': 0.5598853826522827, 'learning_rate': 3.7682691423844106e-05, 'epoch': 0.84}\n",
      "{'loss': 0.3968, 'grad_norm': 2.2775070667266846, 'learning_rate': 3.7636731317216654e-05, 'epoch': 0.84}\n",
      "{'loss': 0.373, 'grad_norm': 37.12255859375, 'learning_rate': 3.759077121058921e-05, 'epoch': 0.84}\n",
      "{'loss': 0.3509, 'grad_norm': 0.27589672803878784, 'learning_rate': 3.7544811103961765e-05, 'epoch': 0.85}\n",
      "{'loss': 0.851, 'grad_norm': 8.79684066772461, 'learning_rate': 3.749885099733432e-05, 'epoch': 0.85}\n",
      "{'loss': 0.1091, 'grad_norm': 0.20143768191337585, 'learning_rate': 3.745289089070687e-05, 'epoch': 0.85}\n",
      "{'loss': 0.9867, 'grad_norm': 6.942196846008301, 'learning_rate': 3.740693078407942e-05, 'epoch': 0.85}\n",
      "{'loss': 0.2979, 'grad_norm': 0.2456883192062378, 'learning_rate': 3.736097067745197e-05, 'epoch': 0.86}\n",
      "{'loss': 0.3448, 'grad_norm': 7.861841201782227, 'learning_rate': 3.731501057082453e-05, 'epoch': 0.86}\n",
      "{'loss': 0.5332, 'grad_norm': 1.218848705291748, 'learning_rate': 3.726905046419708e-05, 'epoch': 0.86}\n",
      "{'loss': 0.604, 'grad_norm': 7.503946781158447, 'learning_rate': 3.722309035756963e-05, 'epoch': 0.86}\n",
      "{'loss': 0.1377, 'grad_norm': 0.17918327450752258, 'learning_rate': 3.717713025094218e-05, 'epoch': 0.87}\n",
      "{'loss': 0.4353, 'grad_norm': 0.2598567008972168, 'learning_rate': 3.7131170144314735e-05, 'epoch': 0.87}\n",
      "{'loss': 0.6238, 'grad_norm': 0.3006288409233093, 'learning_rate': 3.708521003768729e-05, 'epoch': 0.87}\n",
      "{'loss': 0.5752, 'grad_norm': 0.2041884809732437, 'learning_rate': 3.7039249931059846e-05, 'epoch': 0.88}\n",
      "{'loss': 0.4024, 'grad_norm': 16.27655792236328, 'learning_rate': 3.6993289824432394e-05, 'epoch': 0.88}\n",
      "{'loss': 0.5061, 'grad_norm': 0.19139936566352844, 'learning_rate': 3.694732971780495e-05, 'epoch': 0.88}\n",
      "{'loss': 0.6363, 'grad_norm': 0.20664936304092407, 'learning_rate': 3.69013696111775e-05, 'epoch': 0.88}\n",
      "{'loss': 0.3381, 'grad_norm': 43.58906936645508, 'learning_rate': 3.685540950455005e-05, 'epoch': 0.89}\n",
      "{'loss': 0.5904, 'grad_norm': 41.857147216796875, 'learning_rate': 3.680944939792261e-05, 'epoch': 0.89}\n",
      "{'loss': 0.4737, 'grad_norm': 0.30690285563468933, 'learning_rate': 3.676348929129516e-05, 'epoch': 0.89}\n",
      "{'loss': 0.5563, 'grad_norm': 6.862681865692139, 'learning_rate': 3.671752918466771e-05, 'epoch': 0.89}\n",
      "{'loss': 0.1599, 'grad_norm': 0.24671617150306702, 'learning_rate': 3.667156907804026e-05, 'epoch': 0.9}\n",
      "{'loss': 0.2857, 'grad_norm': 0.20813563466072083, 'learning_rate': 3.6625608971412816e-05, 'epoch': 0.9}\n",
      "{'loss': 0.1173, 'grad_norm': 0.16076019406318665, 'learning_rate': 3.657964886478537e-05, 'epoch': 0.9}\n",
      "{'loss': 0.3474, 'grad_norm': 0.21455714106559753, 'learning_rate': 3.653368875815792e-05, 'epoch': 0.9}\n",
      "{'loss': 0.7594, 'grad_norm': 14.405648231506348, 'learning_rate': 3.6487728651530475e-05, 'epoch': 0.91}\n",
      "{'loss': 0.6141, 'grad_norm': 48.69481658935547, 'learning_rate': 3.6441768544903024e-05, 'epoch': 0.91}\n",
      "{'loss': 0.4322, 'grad_norm': 18.51580047607422, 'learning_rate': 3.639580843827558e-05, 'epoch': 0.91}\n",
      "{'loss': 0.4607, 'grad_norm': 0.26251116394996643, 'learning_rate': 3.634984833164813e-05, 'epoch': 0.91}\n",
      "{'loss': 0.7178, 'grad_norm': 6.879112243652344, 'learning_rate': 3.630388822502068e-05, 'epoch': 0.92}\n",
      "{'loss': 0.5287, 'grad_norm': 0.4339703619480133, 'learning_rate': 3.625792811839324e-05, 'epoch': 0.92}\n",
      "{'loss': 0.7589, 'grad_norm': 7.742191791534424, 'learning_rate': 3.621196801176579e-05, 'epoch': 0.92}\n",
      "{'loss': 0.7328, 'grad_norm': 6.683880805969238, 'learning_rate': 3.616600790513834e-05, 'epoch': 0.93}\n",
      "{'loss': 0.135, 'grad_norm': 3.0525670051574707, 'learning_rate': 3.612004779851089e-05, 'epoch': 0.93}\n",
      "{'loss': 0.2897, 'grad_norm': 0.5452861189842224, 'learning_rate': 3.6074087691883445e-05, 'epoch': 0.93}\n",
      "{'loss': 0.1492, 'grad_norm': 0.1657218486070633, 'learning_rate': 3.6028127585256e-05, 'epoch': 0.93}\n",
      "{'loss': 0.8418, 'grad_norm': 7.175914287567139, 'learning_rate': 3.5982167478628556e-05, 'epoch': 0.94}\n",
      "{'loss': 0.3626, 'grad_norm': 0.5168218016624451, 'learning_rate': 3.5936207372001105e-05, 'epoch': 0.94}\n",
      "{'loss': 0.2286, 'grad_norm': 0.3132367432117462, 'learning_rate': 3.589024726537365e-05, 'epoch': 0.94}\n",
      "{'loss': 0.4945, 'grad_norm': 0.2746182382106781, 'learning_rate': 3.584428715874621e-05, 'epoch': 0.94}\n",
      "{'loss': 0.5875, 'grad_norm': 34.462677001953125, 'learning_rate': 3.5798327052118764e-05, 'epoch': 0.95}\n",
      "{'loss': 0.2171, 'grad_norm': 7.677644729614258, 'learning_rate': 3.575236694549132e-05, 'epoch': 0.95}\n",
      "{'loss': 0.5306, 'grad_norm': 0.7467701435089111, 'learning_rate': 3.570640683886387e-05, 'epoch': 0.95}\n",
      "{'loss': 0.4723, 'grad_norm': 24.010780334472656, 'learning_rate': 3.5660446732236416e-05, 'epoch': 0.95}\n",
      "{'loss': 0.578, 'grad_norm': 7.775177478790283, 'learning_rate': 3.561448662560897e-05, 'epoch': 0.96}\n",
      "{'loss': 0.517, 'grad_norm': 4.591979026794434, 'learning_rate': 3.5568526518981526e-05, 'epoch': 0.96}\n",
      "{'loss': 0.3578, 'grad_norm': 0.08875270932912827, 'learning_rate': 3.552256641235408e-05, 'epoch': 0.96}\n",
      "{'loss': 1.296, 'grad_norm': 17.8032169342041, 'learning_rate': 3.547660630572663e-05, 'epoch': 0.96}\n",
      "{'loss': 0.4508, 'grad_norm': 0.18653252720832825, 'learning_rate': 3.5430646199099185e-05, 'epoch': 0.97}\n",
      "{'loss': 0.4061, 'grad_norm': 13.448809623718262, 'learning_rate': 3.5384686092471734e-05, 'epoch': 0.97}\n",
      "{'loss': 0.2555, 'grad_norm': 7.84551477432251, 'learning_rate': 3.533872598584429e-05, 'epoch': 0.97}\n",
      "{'loss': 0.3564, 'grad_norm': 0.4025866985321045, 'learning_rate': 3.5292765879216845e-05, 'epoch': 0.98}\n",
      "{'loss': 0.3746, 'grad_norm': 0.14059209823608398, 'learning_rate': 3.524680577258939e-05, 'epoch': 0.98}\n",
      "{'loss': 0.5992, 'grad_norm': 0.4731019139289856, 'learning_rate': 3.520084566596195e-05, 'epoch': 0.98}\n",
      "{'loss': 0.5649, 'grad_norm': 0.19472992420196533, 'learning_rate': 3.51548855593345e-05, 'epoch': 0.98}\n",
      "{'loss': 0.579, 'grad_norm': 0.5894355177879333, 'learning_rate': 3.510892545270705e-05, 'epoch': 0.99}\n",
      "{'loss': 0.4471, 'grad_norm': 0.5468368530273438, 'learning_rate': 3.506296534607961e-05, 'epoch': 0.99}\n",
      "{'loss': 0.275, 'grad_norm': 0.22470888495445251, 'learning_rate': 3.5017005239452156e-05, 'epoch': 0.99}\n",
      "{'loss': 1.017, 'grad_norm': 0.33863216638565063, 'learning_rate': 3.497104513282471e-05, 'epoch': 0.99}\n",
      "{'loss': 0.3169, 'grad_norm': 0.30322277545928955, 'learning_rate': 3.492508502619726e-05, 'epoch': 1.0}\n",
      "{'loss': 0.4371, 'grad_norm': 0.23711799085140228, 'learning_rate': 3.4879124919569815e-05, 'epoch': 1.0}\n"
     ]
    },
    {
     "data": {
      "application/vnd.jupyter.widget-view+json": {
       "model_id": "fe7ad55c900144e3b18f0f57e59f8e1c",
       "version_major": 2,
       "version_minor": 0
      },
      "text/plain": [
       "  0%|          | 0/949 [00:00<?, ?it/s]"
      ]
     },
     "metadata": {},
     "output_type": "display_data"
    },
    {
     "name": "stderr",
     "output_type": "stream",
     "text": [
      "c:\\Users\\thiba\\AppData\\Local\\Programs\\Python\\Python312\\Lib\\site-packages\\sklearn\\metrics\\_classification.py:1531: UndefinedMetricWarning: Precision is ill-defined and being set to 0.0 in labels with no predicted samples. Use `zero_division` parameter to control this behavior.\n",
      "  _warn_prf(average, modifier, f\"{metric.capitalize()} is\", len(result))\n"
     ]
    },
    {
     "name": "stdout",
     "output_type": "stream",
     "text": [
      "{'eval_loss': 0.4182676076889038, 'eval_accuracy': 0.9003427366200897, 'eval_precision': 0.853688307591727, 'eval_recall': 0.9003427366200897, 'eval_f1': 0.8753547219630642, 'eval_mse': 0.43026627998945427, 'eval_runtime': 10.2304, 'eval_samples_per_second': 370.757, 'eval_steps_per_second': 92.763, 'epoch': 1.0}\n",
      "{'loss': 0.525, 'grad_norm': 7.080948829650879, 'learning_rate': 3.483316481294237e-05, 'epoch': 1.0}\n",
      "{'loss': 0.542, 'grad_norm': 0.39599791169166565, 'learning_rate': 3.478720470631492e-05, 'epoch': 1.0}\n",
      "{'loss': 0.4911, 'grad_norm': 7.057379245758057, 'learning_rate': 3.4741244599687474e-05, 'epoch': 1.01}\n",
      "{'loss': 0.4014, 'grad_norm': 7.425635814666748, 'learning_rate': 3.469528449306003e-05, 'epoch': 1.01}\n",
      "{'loss': 0.4755, 'grad_norm': 0.3161143660545349, 'learning_rate': 3.464932438643258e-05, 'epoch': 1.01}\n",
      "{'loss': 0.3532, 'grad_norm': 0.2966099977493286, 'learning_rate': 3.4603364279805126e-05, 'epoch': 1.02}\n",
      "{'loss': 0.2807, 'grad_norm': 1.743094563484192, 'learning_rate': 3.455740417317768e-05, 'epoch': 1.02}\n",
      "{'loss': 0.2441, 'grad_norm': 10.055956840515137, 'learning_rate': 3.451144406655024e-05, 'epoch': 1.02}\n",
      "{'loss': 0.5306, 'grad_norm': 4.9566426277160645, 'learning_rate': 3.446548395992279e-05, 'epoch': 1.02}\n",
      "{'loss': 0.3323, 'grad_norm': 7.066433906555176, 'learning_rate': 3.441952385329534e-05, 'epoch': 1.03}\n",
      "{'loss': 0.8547, 'grad_norm': 10.881719589233398, 'learning_rate': 3.437356374666789e-05, 'epoch': 1.03}\n",
      "{'loss': 0.4918, 'grad_norm': 0.29255810379981995, 'learning_rate': 3.4327603640040444e-05, 'epoch': 1.03}\n",
      "{'loss': 0.1765, 'grad_norm': 0.19037361443042755, 'learning_rate': 3.4281643533413e-05, 'epoch': 1.03}\n",
      "{'loss': 0.4457, 'grad_norm': 2.383021593093872, 'learning_rate': 3.4235683426785555e-05, 'epoch': 1.04}\n",
      "{'loss': 0.7336, 'grad_norm': 7.90275239944458, 'learning_rate': 3.418972332015811e-05, 'epoch': 1.04}\n",
      "{'loss': 0.2894, 'grad_norm': 0.2262527495622635, 'learning_rate': 3.414376321353065e-05, 'epoch': 1.04}\n",
      "{'loss': 0.2172, 'grad_norm': 0.12468980252742767, 'learning_rate': 3.409780310690321e-05, 'epoch': 1.04}\n",
      "{'loss': 0.4206, 'grad_norm': 0.21380715072155, 'learning_rate': 3.405184300027576e-05, 'epoch': 1.05}\n",
      "{'loss': 0.4671, 'grad_norm': 0.4332950711250305, 'learning_rate': 3.400588289364832e-05, 'epoch': 1.05}\n",
      "{'loss': 0.6019, 'grad_norm': 0.24037310481071472, 'learning_rate': 3.395992278702087e-05, 'epoch': 1.05}\n",
      "{'loss': 0.4818, 'grad_norm': 51.94464111328125, 'learning_rate': 3.391396268039342e-05, 'epoch': 1.05}\n",
      "{'loss': 0.4261, 'grad_norm': 29.73430061340332, 'learning_rate': 3.386800257376597e-05, 'epoch': 1.06}\n",
      "{'loss': 0.4438, 'grad_norm': 14.83009147644043, 'learning_rate': 3.3822042467138525e-05, 'epoch': 1.06}\n",
      "{'loss': 0.2825, 'grad_norm': 0.10432706028223038, 'learning_rate': 3.377608236051108e-05, 'epoch': 1.06}\n",
      "{'loss': 0.6485, 'grad_norm': 0.3811892569065094, 'learning_rate': 3.373012225388363e-05, 'epoch': 1.07}\n",
      "{'loss': 0.2949, 'grad_norm': 6.137261867523193, 'learning_rate': 3.3684162147256184e-05, 'epoch': 1.07}\n",
      "{'loss': 0.3724, 'grad_norm': 0.43563100695610046, 'learning_rate': 3.363820204062873e-05, 'epoch': 1.07}\n",
      "{'loss': 0.2892, 'grad_norm': 0.1098882183432579, 'learning_rate': 3.359224193400129e-05, 'epoch': 1.07}\n",
      "{'loss': 0.3857, 'grad_norm': 3.607015609741211, 'learning_rate': 3.3546281827373843e-05, 'epoch': 1.08}\n",
      "{'loss': 0.6004, 'grad_norm': 61.629112243652344, 'learning_rate': 3.350032172074639e-05, 'epoch': 1.08}\n",
      "{'loss': 0.2828, 'grad_norm': 0.13729752600193024, 'learning_rate': 3.345436161411895e-05, 'epoch': 1.08}\n",
      "{'loss': 0.5164, 'grad_norm': 0.12545479834079742, 'learning_rate': 3.3408401507491496e-05, 'epoch': 1.08}\n",
      "{'loss': 0.6193, 'grad_norm': 0.13053271174430847, 'learning_rate': 3.336244140086405e-05, 'epoch': 1.09}\n",
      "{'loss': 0.4456, 'grad_norm': 0.23125986754894257, 'learning_rate': 3.3316481294236606e-05, 'epoch': 1.09}\n",
      "{'loss': 0.3008, 'grad_norm': 0.20308667421340942, 'learning_rate': 3.3270521187609155e-05, 'epoch': 1.09}\n",
      "{'loss': 0.2312, 'grad_norm': 0.15918585658073425, 'learning_rate': 3.322456108098171e-05, 'epoch': 1.09}\n",
      "{'loss': 0.0654, 'grad_norm': 10.955121040344238, 'learning_rate': 3.3178600974354265e-05, 'epoch': 1.1}\n",
      "{'loss': 1.2145, 'grad_norm': 0.10040953755378723, 'learning_rate': 3.3132640867726814e-05, 'epoch': 1.1}\n",
      "{'loss': 0.3745, 'grad_norm': 14.19433307647705, 'learning_rate': 3.308668076109937e-05, 'epoch': 1.1}\n",
      "{'loss': 0.5027, 'grad_norm': 0.1828814148902893, 'learning_rate': 3.304072065447192e-05, 'epoch': 1.1}\n",
      "{'loss': 0.3706, 'grad_norm': 1.7607190608978271, 'learning_rate': 3.299476054784447e-05, 'epoch': 1.11}\n",
      "{'loss': 0.5481, 'grad_norm': 0.2696714997291565, 'learning_rate': 3.294880044121703e-05, 'epoch': 1.11}\n",
      "{'loss': 0.116, 'grad_norm': 0.13517317175865173, 'learning_rate': 3.290284033458958e-05, 'epoch': 1.11}\n",
      "{'loss': 0.2152, 'grad_norm': 7.839980602264404, 'learning_rate': 3.2856880227962125e-05, 'epoch': 1.12}\n",
      "{'loss': 0.7735, 'grad_norm': 0.2957049012184143, 'learning_rate': 3.281092012133468e-05, 'epoch': 1.12}\n",
      "{'loss': 0.6954, 'grad_norm': 6.8359856605529785, 'learning_rate': 3.2764960014707236e-05, 'epoch': 1.12}\n",
      "{'loss': 0.198, 'grad_norm': 0.25344711542129517, 'learning_rate': 3.271899990807979e-05, 'epoch': 1.12}\n",
      "{'loss': 0.1624, 'grad_norm': 0.16514191031455994, 'learning_rate': 3.2673039801452346e-05, 'epoch': 1.13}\n",
      "{'loss': 0.7454, 'grad_norm': 7.700928211212158, 'learning_rate': 3.262707969482489e-05, 'epoch': 1.13}\n",
      "{'loss': 0.5739, 'grad_norm': 0.39257514476776123, 'learning_rate': 3.258111958819744e-05, 'epoch': 1.13}\n",
      "{'loss': 0.4305, 'grad_norm': 0.16933774948120117, 'learning_rate': 3.253515948157e-05, 'epoch': 1.13}\n",
      "{'loss': 0.2302, 'grad_norm': 0.3320178985595703, 'learning_rate': 3.2489199374942554e-05, 'epoch': 1.14}\n",
      "{'loss': 0.1673, 'grad_norm': 0.10629560798406601, 'learning_rate': 3.244323926831511e-05, 'epoch': 1.14}\n",
      "{'loss': 0.5333, 'grad_norm': 1.9459999799728394, 'learning_rate': 3.239727916168766e-05, 'epoch': 1.14}\n",
      "{'loss': 0.3357, 'grad_norm': 8.273006439208984, 'learning_rate': 3.2351319055060206e-05, 'epoch': 1.14}\n",
      "{'loss': 0.3704, 'grad_norm': 0.29614272713661194, 'learning_rate': 3.230535894843276e-05, 'epoch': 1.15}\n",
      "{'loss': 0.4227, 'grad_norm': 1.4761935472488403, 'learning_rate': 3.225939884180532e-05, 'epoch': 1.15}\n",
      "{'loss': 0.4786, 'grad_norm': 7.724613666534424, 'learning_rate': 3.221343873517787e-05, 'epoch': 1.15}\n",
      "{'loss': 0.5426, 'grad_norm': 9.918334007263184, 'learning_rate': 3.216747862855042e-05, 'epoch': 1.15}\n",
      "{'loss': 0.3691, 'grad_norm': 0.19870388507843018, 'learning_rate': 3.212151852192297e-05, 'epoch': 1.16}\n",
      "{'loss': 1.0218, 'grad_norm': 0.3245690166950226, 'learning_rate': 3.2075558415295524e-05, 'epoch': 1.16}\n",
      "{'loss': 0.4351, 'grad_norm': 14.188332557678223, 'learning_rate': 3.202959830866808e-05, 'epoch': 1.16}\n",
      "{'loss': 0.4312, 'grad_norm': 0.306403249502182, 'learning_rate': 3.198363820204063e-05, 'epoch': 1.17}\n",
      "{'loss': 0.5443, 'grad_norm': 26.25887680053711, 'learning_rate': 3.193767809541318e-05, 'epoch': 1.17}\n",
      "{'loss': 0.5089, 'grad_norm': 0.21523110568523407, 'learning_rate': 3.189171798878574e-05, 'epoch': 1.17}\n",
      "{'loss': 0.5744, 'grad_norm': 7.424808502197266, 'learning_rate': 3.184575788215829e-05, 'epoch': 1.17}\n",
      "{'loss': 0.3151, 'grad_norm': 60.73058319091797, 'learning_rate': 3.179979777553084e-05, 'epoch': 1.18}\n",
      "{'loss': 0.1321, 'grad_norm': 0.16586896777153015, 'learning_rate': 3.175383766890339e-05, 'epoch': 1.18}\n",
      "{'loss': 0.1744, 'grad_norm': 0.19866903126239777, 'learning_rate': 3.1707877562275946e-05, 'epoch': 1.18}\n",
      "{'loss': 0.3261, 'grad_norm': 0.3251332938671112, 'learning_rate': 3.16619174556485e-05, 'epoch': 1.18}\n",
      "{'loss': 0.2488, 'grad_norm': 0.15590021014213562, 'learning_rate': 3.161595734902105e-05, 'epoch': 1.19}\n",
      "{'loss': 0.1453, 'grad_norm': 9.221565246582031, 'learning_rate': 3.1569997242393605e-05, 'epoch': 1.19}\n",
      "{'loss': 0.1565, 'grad_norm': 0.10174844413995743, 'learning_rate': 3.1524037135766154e-05, 'epoch': 1.19}\n",
      "{'loss': 0.5372, 'grad_norm': 11.43895149230957, 'learning_rate': 3.147807702913871e-05, 'epoch': 1.19}\n",
      "{'loss': 0.0572, 'grad_norm': 0.10740631073713303, 'learning_rate': 3.1432116922511264e-05, 'epoch': 1.2}\n",
      "{'loss': 0.3572, 'grad_norm': 0.14283287525177002, 'learning_rate': 3.138615681588381e-05, 'epoch': 1.2}\n",
      "{'loss': 0.0776, 'grad_norm': 85.6227798461914, 'learning_rate': 3.134019670925637e-05, 'epoch': 1.2}\n",
      "{'loss': 0.2756, 'grad_norm': 0.10129734128713608, 'learning_rate': 3.129423660262892e-05, 'epoch': 1.2}\n",
      "{'loss': 0.3847, 'grad_norm': 0.3472076654434204, 'learning_rate': 3.124827649600147e-05, 'epoch': 1.21}\n",
      "{'loss': 0.6582, 'grad_norm': 0.1127239465713501, 'learning_rate': 3.120231638937403e-05, 'epoch': 1.21}\n",
      "{'loss': 0.2072, 'grad_norm': 0.08688822388648987, 'learning_rate': 3.115635628274658e-05, 'epoch': 1.21}\n",
      "{'loss': 0.3483, 'grad_norm': 0.2836826741695404, 'learning_rate': 3.111039617611913e-05, 'epoch': 1.22}\n",
      "{'loss': 0.429, 'grad_norm': 10.740341186523438, 'learning_rate': 3.106443606949168e-05, 'epoch': 1.22}\n",
      "{'loss': 0.8035, 'grad_norm': 1.8219857215881348, 'learning_rate': 3.1018475962864235e-05, 'epoch': 1.22}\n",
      "{'loss': 0.7842, 'grad_norm': 0.15317918360233307, 'learning_rate': 3.097251585623679e-05, 'epoch': 1.22}\n",
      "{'loss': 0.606, 'grad_norm': 16.760845184326172, 'learning_rate': 3.0926555749609345e-05, 'epoch': 1.23}\n",
      "{'loss': 0.3785, 'grad_norm': 0.3622130751609802, 'learning_rate': 3.0880595642981894e-05, 'epoch': 1.23}\n",
      "{'loss': 0.1533, 'grad_norm': 0.3001537621021271, 'learning_rate': 3.083463553635444e-05, 'epoch': 1.23}\n",
      "{'loss': 0.419, 'grad_norm': 0.11653991788625717, 'learning_rate': 3.0788675429727e-05, 'epoch': 1.23}\n",
      "{'loss': 0.8086, 'grad_norm': 23.099224090576172, 'learning_rate': 3.074271532309955e-05, 'epoch': 1.24}\n",
      "{'loss': 0.5943, 'grad_norm': 0.32573401927948, 'learning_rate': 3.069675521647211e-05, 'epoch': 1.24}\n",
      "{'loss': 0.0848, 'grad_norm': 0.1115008294582367, 'learning_rate': 3.065079510984466e-05, 'epoch': 1.24}\n",
      "{'loss': 0.4312, 'grad_norm': 0.13255232572555542, 'learning_rate': 3.0604835003217205e-05, 'epoch': 1.24}\n",
      "{'loss': 0.1844, 'grad_norm': 0.1267441064119339, 'learning_rate': 3.055887489658976e-05, 'epoch': 1.25}\n",
      "{'loss': 0.9383, 'grad_norm': 2.0295662879943848, 'learning_rate': 3.0512914789962316e-05, 'epoch': 1.25}\n",
      "{'loss': 0.5204, 'grad_norm': 67.22966003417969, 'learning_rate': 3.0466954683334864e-05, 'epoch': 1.25}\n",
      "{'loss': 0.4499, 'grad_norm': 0.1242709681391716, 'learning_rate': 3.042099457670742e-05, 'epoch': 1.25}\n",
      "{'loss': 0.3313, 'grad_norm': 0.1802285760641098, 'learning_rate': 3.037503447007997e-05, 'epoch': 1.26}\n",
      "{'loss': 0.155, 'grad_norm': 3.840557098388672, 'learning_rate': 3.0329074363452527e-05, 'epoch': 1.26}\n",
      "{'loss': 0.4976, 'grad_norm': 0.7759060859680176, 'learning_rate': 3.028311425682508e-05, 'epoch': 1.26}\n",
      "{'loss': 0.4623, 'grad_norm': 0.3947393596172333, 'learning_rate': 3.0237154150197627e-05, 'epoch': 1.27}\n",
      "{'loss': 0.8922, 'grad_norm': 27.991819381713867, 'learning_rate': 3.0191194043570182e-05, 'epoch': 1.27}\n",
      "{'loss': 0.1434, 'grad_norm': 0.1887260526418686, 'learning_rate': 3.0145233936942734e-05, 'epoch': 1.27}\n",
      "{'loss': 0.1297, 'grad_norm': 7.8899312019348145, 'learning_rate': 3.009927383031529e-05, 'epoch': 1.27}\n",
      "{'loss': 0.3999, 'grad_norm': 31.138473510742188, 'learning_rate': 3.005331372368784e-05, 'epoch': 1.28}\n",
      "{'loss': 0.0493, 'grad_norm': 0.07097631692886353, 'learning_rate': 3.000735361706039e-05, 'epoch': 1.28}\n",
      "{'loss': 0.803, 'grad_norm': 11.192766189575195, 'learning_rate': 2.9961393510432945e-05, 'epoch': 1.28}\n",
      "{'loss': 0.4811, 'grad_norm': 8.063817024230957, 'learning_rate': 2.9915433403805497e-05, 'epoch': 1.28}\n",
      "{'loss': 0.6243, 'grad_norm': 0.11118318140506744, 'learning_rate': 2.9869473297178052e-05, 'epoch': 1.29}\n",
      "{'loss': 0.2998, 'grad_norm': 21.34693145751953, 'learning_rate': 2.9823513190550608e-05, 'epoch': 1.29}\n",
      "{'loss': 0.1761, 'grad_norm': 0.11988253146409988, 'learning_rate': 2.9777553083923153e-05, 'epoch': 1.29}\n",
      "{'loss': 0.6222, 'grad_norm': 0.25878623127937317, 'learning_rate': 2.9731592977295708e-05, 'epoch': 1.29}\n",
      "{'loss': 0.5684, 'grad_norm': 0.14943598210811615, 'learning_rate': 2.9685632870668263e-05, 'epoch': 1.3}\n",
      "{'loss': 0.5736, 'grad_norm': 11.186543464660645, 'learning_rate': 2.9639672764040815e-05, 'epoch': 1.3}\n",
      "{'loss': 0.631, 'grad_norm': 0.5487425327301025, 'learning_rate': 2.9593712657413364e-05, 'epoch': 1.3}\n",
      "{'loss': 0.2866, 'grad_norm': 0.13880865275859833, 'learning_rate': 2.954775255078592e-05, 'epoch': 1.31}\n",
      "{'loss': 0.1633, 'grad_norm': 0.13833457231521606, 'learning_rate': 2.950179244415847e-05, 'epoch': 1.31}\n",
      "{'loss': 0.2187, 'grad_norm': 0.4969390034675598, 'learning_rate': 2.9455832337531026e-05, 'epoch': 1.31}\n",
      "{'loss': 0.2281, 'grad_norm': 0.0890653133392334, 'learning_rate': 2.9409872230903578e-05, 'epoch': 1.31}\n",
      "{'loss': 0.2096, 'grad_norm': 7.9802985191345215, 'learning_rate': 2.9363912124276127e-05, 'epoch': 1.32}\n",
      "{'loss': 0.3472, 'grad_norm': 0.10336515307426453, 'learning_rate': 2.9317952017648682e-05, 'epoch': 1.32}\n",
      "{'loss': 0.294, 'grad_norm': 9.544410705566406, 'learning_rate': 2.9271991911021234e-05, 'epoch': 1.32}\n",
      "{'loss': 0.1924, 'grad_norm': 0.12220586836338043, 'learning_rate': 2.922603180439379e-05, 'epoch': 1.32}\n",
      "{'loss': 0.0151, 'grad_norm': 0.13936752080917358, 'learning_rate': 2.918007169776634e-05, 'epoch': 1.33}\n",
      "{'loss': 0.3016, 'grad_norm': 0.13200819492340088, 'learning_rate': 2.913411159113889e-05, 'epoch': 1.33}\n",
      "{'loss': 0.4074, 'grad_norm': 0.11251609027385712, 'learning_rate': 2.9088151484511445e-05, 'epoch': 1.33}\n",
      "{'loss': 0.4024, 'grad_norm': 8.361763954162598, 'learning_rate': 2.9042191377884e-05, 'epoch': 1.33}\n",
      "{'loss': 0.3907, 'grad_norm': 9.75910472869873, 'learning_rate': 2.8996231271256552e-05, 'epoch': 1.34}\n",
      "{'loss': 0.6375, 'grad_norm': 8.172746658325195, 'learning_rate': 2.8950271164629107e-05, 'epoch': 1.34}\n",
      "{'loss': 0.5823, 'grad_norm': 0.2728147804737091, 'learning_rate': 2.8904311058001656e-05, 'epoch': 1.34}\n",
      "{'loss': 0.5355, 'grad_norm': 7.533811092376709, 'learning_rate': 2.8858350951374207e-05, 'epoch': 1.34}\n",
      "{'loss': 0.1696, 'grad_norm': 0.17767977714538574, 'learning_rate': 2.8812390844746763e-05, 'epoch': 1.35}\n",
      "{'loss': 0.3734, 'grad_norm': 0.6037203073501587, 'learning_rate': 2.8766430738119315e-05, 'epoch': 1.35}\n",
      "{'loss': 0.3467, 'grad_norm': 0.4338981807231903, 'learning_rate': 2.8720470631491863e-05, 'epoch': 1.35}\n",
      "{'loss': 0.4363, 'grad_norm': 0.12970896065235138, 'learning_rate': 2.867451052486442e-05, 'epoch': 1.36}\n",
      "{'loss': 0.4109, 'grad_norm': 0.43362367153167725, 'learning_rate': 2.862855041823697e-05, 'epoch': 1.36}\n",
      "{'loss': 0.4249, 'grad_norm': 0.3825863003730774, 'learning_rate': 2.8582590311609526e-05, 'epoch': 1.36}\n",
      "{'loss': 0.4017, 'grad_norm': 0.7689006328582764, 'learning_rate': 2.8536630204982077e-05, 'epoch': 1.36}\n",
      "{'loss': 0.2178, 'grad_norm': 0.22782889008522034, 'learning_rate': 2.8490670098354626e-05, 'epoch': 1.37}\n",
      "{'loss': 0.2732, 'grad_norm': 0.2297370582818985, 'learning_rate': 2.844470999172718e-05, 'epoch': 1.37}\n",
      "{'loss': 0.5507, 'grad_norm': 0.6448863744735718, 'learning_rate': 2.8398749885099733e-05, 'epoch': 1.37}\n",
      "{'loss': 0.4567, 'grad_norm': 0.25339335203170776, 'learning_rate': 2.835278977847229e-05, 'epoch': 1.37}\n",
      "{'loss': 0.4381, 'grad_norm': 8.19987678527832, 'learning_rate': 2.8306829671844844e-05, 'epoch': 1.38}\n",
      "{'loss': 0.4651, 'grad_norm': 0.264959454536438, 'learning_rate': 2.826086956521739e-05, 'epoch': 1.38}\n",
      "{'loss': 0.4125, 'grad_norm': 0.14687591791152954, 'learning_rate': 2.8214909458589944e-05, 'epoch': 1.38}\n",
      "{'loss': 0.2182, 'grad_norm': 0.0864088237285614, 'learning_rate': 2.81689493519625e-05, 'epoch': 1.38}\n",
      "{'loss': 0.8016, 'grad_norm': 17.097232818603516, 'learning_rate': 2.812298924533505e-05, 'epoch': 1.39}\n",
      "{'loss': 0.2101, 'grad_norm': 0.37825748324394226, 'learning_rate': 2.8077029138707607e-05, 'epoch': 1.39}\n",
      "{'loss': 0.6747, 'grad_norm': 10.18030071258545, 'learning_rate': 2.8031069032080155e-05, 'epoch': 1.39}\n",
      "{'loss': 0.3351, 'grad_norm': 0.2609277367591858, 'learning_rate': 2.7985108925452707e-05, 'epoch': 1.39}\n",
      "{'loss': 0.5657, 'grad_norm': 0.30792495608329773, 'learning_rate': 2.7939148818825262e-05, 'epoch': 1.4}\n",
      "{'loss': 0.5244, 'grad_norm': 14.569561958312988, 'learning_rate': 2.7893188712197814e-05, 'epoch': 1.4}\n",
      "{'loss': 0.5745, 'grad_norm': 0.3628365993499756, 'learning_rate': 2.7847228605570363e-05, 'epoch': 1.4}\n",
      "{'loss': 0.2313, 'grad_norm': 8.044939041137695, 'learning_rate': 2.7801268498942918e-05, 'epoch': 1.41}\n",
      "{'loss': 0.5483, 'grad_norm': 0.14029262959957123, 'learning_rate': 2.775530839231547e-05, 'epoch': 1.41}\n",
      "{'loss': 0.2313, 'grad_norm': 0.330547571182251, 'learning_rate': 2.7709348285688025e-05, 'epoch': 1.41}\n",
      "{'loss': 0.3423, 'grad_norm': 8.50554370880127, 'learning_rate': 2.766338817906058e-05, 'epoch': 1.41}\n",
      "{'loss': 0.0909, 'grad_norm': 0.22873906791210175, 'learning_rate': 2.7617428072433125e-05, 'epoch': 1.42}\n",
      "{'loss': 0.2588, 'grad_norm': 0.16270267963409424, 'learning_rate': 2.757146796580568e-05, 'epoch': 1.42}\n",
      "{'loss': 0.8, 'grad_norm': 2.5863068103790283, 'learning_rate': 2.7525507859178236e-05, 'epoch': 1.42}\n",
      "{'loss': 0.2495, 'grad_norm': 0.14872555434703827, 'learning_rate': 2.7479547752550788e-05, 'epoch': 1.42}\n",
      "{'loss': 0.2554, 'grad_norm': 8.629311561584473, 'learning_rate': 2.7433587645923343e-05, 'epoch': 1.43}\n",
      "{'loss': 0.2043, 'grad_norm': 0.10231814533472061, 'learning_rate': 2.738762753929589e-05, 'epoch': 1.43}\n",
      "{'loss': 0.6411, 'grad_norm': 0.36928531527519226, 'learning_rate': 2.7341667432668444e-05, 'epoch': 1.43}\n",
      "{'loss': 0.8814, 'grad_norm': 11.253898620605469, 'learning_rate': 2.7295707326041e-05, 'epoch': 1.43}\n",
      "{'loss': 0.247, 'grad_norm': 0.19288882613182068, 'learning_rate': 2.724974721941355e-05, 'epoch': 1.44}\n",
      "{'loss': 0.1401, 'grad_norm': 1.9260506629943848, 'learning_rate': 2.7203787112786106e-05, 'epoch': 1.44}\n",
      "{'loss': 0.5676, 'grad_norm': 14.33521842956543, 'learning_rate': 2.7157827006158655e-05, 'epoch': 1.44}\n",
      "{'loss': 0.7975, 'grad_norm': 0.45514407753944397, 'learning_rate': 2.7111866899531206e-05, 'epoch': 1.44}\n",
      "{'loss': 0.6746, 'grad_norm': 11.18519115447998, 'learning_rate': 2.7065906792903762e-05, 'epoch': 1.45}\n",
      "{'loss': 0.4929, 'grad_norm': 0.9404475092887878, 'learning_rate': 2.7019946686276314e-05, 'epoch': 1.45}\n",
      "{'loss': 0.1617, 'grad_norm': 0.4667247235774994, 'learning_rate': 2.6973986579648862e-05, 'epoch': 1.45}\n",
      "{'loss': 0.2899, 'grad_norm': 0.2569338381290436, 'learning_rate': 2.6928026473021417e-05, 'epoch': 1.46}\n",
      "{'loss': 0.3443, 'grad_norm': 43.66995620727539, 'learning_rate': 2.688206636639397e-05, 'epoch': 1.46}\n",
      "{'loss': 0.4069, 'grad_norm': 7.607151031494141, 'learning_rate': 2.6836106259766525e-05, 'epoch': 1.46}\n",
      "{'loss': 0.1938, 'grad_norm': 0.06624220311641693, 'learning_rate': 2.679014615313908e-05, 'epoch': 1.46}\n",
      "{'loss': 0.5829, 'grad_norm': 0.2363506406545639, 'learning_rate': 2.674418604651163e-05, 'epoch': 1.47}\n",
      "{'loss': 0.5069, 'grad_norm': 7.950047016143799, 'learning_rate': 2.669822593988418e-05, 'epoch': 1.47}\n",
      "{'loss': 0.3955, 'grad_norm': 0.3666883707046509, 'learning_rate': 2.6652265833256735e-05, 'epoch': 1.47}\n",
      "{'loss': 0.4863, 'grad_norm': 0.1156463697552681, 'learning_rate': 2.6606305726629287e-05, 'epoch': 1.47}\n",
      "{'loss': 0.5295, 'grad_norm': 0.37187400460243225, 'learning_rate': 2.6560345620001843e-05, 'epoch': 1.48}\n",
      "{'loss': 0.2906, 'grad_norm': 0.21019774675369263, 'learning_rate': 2.651438551337439e-05, 'epoch': 1.48}\n",
      "{'loss': 0.5807, 'grad_norm': 8.569127082824707, 'learning_rate': 2.6468425406746943e-05, 'epoch': 1.48}\n",
      "{'loss': 0.1629, 'grad_norm': 0.35180598497390747, 'learning_rate': 2.64224653001195e-05, 'epoch': 1.48}\n",
      "{'loss': 0.1331, 'grad_norm': 0.8539769649505615, 'learning_rate': 2.637650519349205e-05, 'epoch': 1.49}\n",
      "{'loss': 0.3718, 'grad_norm': 8.277180671691895, 'learning_rate': 2.6330545086864606e-05, 'epoch': 1.49}\n",
      "{'loss': 0.184, 'grad_norm': 11.356483459472656, 'learning_rate': 2.6284584980237154e-05, 'epoch': 1.49}\n",
      "{'loss': 0.5073, 'grad_norm': 0.17009572684764862, 'learning_rate': 2.6238624873609706e-05, 'epoch': 1.49}\n",
      "{'loss': 0.394, 'grad_norm': 4.318246364593506, 'learning_rate': 2.619266476698226e-05, 'epoch': 1.5}\n",
      "{'loss': 0.6401, 'grad_norm': 17.676435470581055, 'learning_rate': 2.6146704660354816e-05, 'epoch': 1.5}\n",
      "{'loss': 0.1764, 'grad_norm': 0.16236238181591034, 'learning_rate': 2.610074455372736e-05, 'epoch': 1.5}\n",
      "{'loss': 0.8767, 'grad_norm': 26.258380889892578, 'learning_rate': 2.6054784447099917e-05, 'epoch': 1.51}\n",
      "{'loss': 0.3317, 'grad_norm': 0.3127599060535431, 'learning_rate': 2.6008824340472472e-05, 'epoch': 1.51}\n",
      "{'loss': 0.3604, 'grad_norm': 0.10487572103738785, 'learning_rate': 2.5962864233845024e-05, 'epoch': 1.51}\n",
      "{'loss': 0.3906, 'grad_norm': 2.451906681060791, 'learning_rate': 2.591690412721758e-05, 'epoch': 1.51}\n",
      "{'loss': 0.3102, 'grad_norm': 0.10386194288730621, 'learning_rate': 2.5870944020590128e-05, 'epoch': 1.52}\n",
      "{'loss': 0.4894, 'grad_norm': 34.43659591674805, 'learning_rate': 2.582498391396268e-05, 'epoch': 1.52}\n",
      "{'loss': 0.1199, 'grad_norm': 0.14394941926002502, 'learning_rate': 2.5779023807335235e-05, 'epoch': 1.52}\n",
      "{'loss': 0.6946, 'grad_norm': 0.2873477339744568, 'learning_rate': 2.5733063700707787e-05, 'epoch': 1.52}\n",
      "{'loss': 0.2776, 'grad_norm': 0.12482210993766785, 'learning_rate': 2.5687103594080342e-05, 'epoch': 1.53}\n",
      "{'loss': 0.2892, 'grad_norm': 7.587146282196045, 'learning_rate': 2.564114348745289e-05, 'epoch': 1.53}\n",
      "{'loss': 0.2289, 'grad_norm': 0.4122835397720337, 'learning_rate': 2.5595183380825443e-05, 'epoch': 1.53}\n",
      "{'loss': 0.9136, 'grad_norm': 7.91654634475708, 'learning_rate': 2.5549223274197998e-05, 'epoch': 1.53}\n",
      "{'loss': 0.2968, 'grad_norm': 0.11859232187271118, 'learning_rate': 2.550326316757055e-05, 'epoch': 1.54}\n",
      "{'loss': 0.5142, 'grad_norm': 50.68222427368164, 'learning_rate': 2.5457303060943105e-05, 'epoch': 1.54}\n",
      "{'loss': 0.3154, 'grad_norm': 0.2846240997314453, 'learning_rate': 2.5411342954315653e-05, 'epoch': 1.54}\n",
      "{'loss': 0.4434, 'grad_norm': 8.458303451538086, 'learning_rate': 2.536538284768821e-05, 'epoch': 1.54}\n",
      "{'loss': 0.5823, 'grad_norm': 5.76595401763916, 'learning_rate': 2.531942274106076e-05, 'epoch': 1.55}\n",
      "{'loss': 0.4908, 'grad_norm': 0.3078143894672394, 'learning_rate': 2.5273462634433316e-05, 'epoch': 1.55}\n",
      "{'loss': 0.2357, 'grad_norm': 0.2769235074520111, 'learning_rate': 2.5227502527805864e-05, 'epoch': 1.55}\n",
      "{'loss': 0.3944, 'grad_norm': 0.17561766505241394, 'learning_rate': 2.5181542421178416e-05, 'epoch': 1.56}\n",
      "{'loss': 0.254, 'grad_norm': 0.1706748604774475, 'learning_rate': 2.513558231455097e-05, 'epoch': 1.56}\n",
      "{'loss': 0.3543, 'grad_norm': 1.4996453523635864, 'learning_rate': 2.5089622207923523e-05, 'epoch': 1.56}\n",
      "{'loss': 0.1378, 'grad_norm': 0.137630432844162, 'learning_rate': 2.504366210129608e-05, 'epoch': 1.56}\n",
      "{'loss': 0.3806, 'grad_norm': 0.10482554137706757, 'learning_rate': 2.499770199466863e-05, 'epoch': 1.57}\n",
      "{'loss': 0.5228, 'grad_norm': 7.1567063331604, 'learning_rate': 2.495174188804118e-05, 'epoch': 1.57}\n",
      "{'loss': 0.2915, 'grad_norm': 0.12735339999198914, 'learning_rate': 2.4905781781413734e-05, 'epoch': 1.57}\n",
      "{'loss': 0.8095, 'grad_norm': 34.915042877197266, 'learning_rate': 2.4859821674786286e-05, 'epoch': 1.57}\n",
      "{'loss': 0.1364, 'grad_norm': 0.17972151935100555, 'learning_rate': 2.4813861568158838e-05, 'epoch': 1.58}\n",
      "{'loss': 0.2827, 'grad_norm': 0.10223738849163055, 'learning_rate': 2.4767901461531393e-05, 'epoch': 1.58}\n",
      "{'loss': 0.4639, 'grad_norm': 8.492274284362793, 'learning_rate': 2.4721941354903942e-05, 'epoch': 1.58}\n",
      "{'loss': 0.4015, 'grad_norm': 0.1097758412361145, 'learning_rate': 2.4675981248276497e-05, 'epoch': 1.58}\n",
      "{'loss': 0.1972, 'grad_norm': 1.8719826936721802, 'learning_rate': 2.4630021141649053e-05, 'epoch': 1.59}\n",
      "{'loss': 0.2708, 'grad_norm': 2.434894323348999, 'learning_rate': 2.45840610350216e-05, 'epoch': 1.59}\n",
      "{'loss': 0.3187, 'grad_norm': 0.21200942993164062, 'learning_rate': 2.4538100928394156e-05, 'epoch': 1.59}\n",
      "{'loss': 0.2403, 'grad_norm': 0.08465462923049927, 'learning_rate': 2.4492140821766708e-05, 'epoch': 1.6}\n",
      "{'loss': 0.4123, 'grad_norm': 8.786060333251953, 'learning_rate': 2.444618071513926e-05, 'epoch': 1.6}\n",
      "{'loss': 1.2116, 'grad_norm': 15.05607795715332, 'learning_rate': 2.4400220608511812e-05, 'epoch': 1.6}\n",
      "{'loss': 0.151, 'grad_norm': 0.15137699246406555, 'learning_rate': 2.4354260501884364e-05, 'epoch': 1.6}\n",
      "{'loss': 0.4005, 'grad_norm': 0.20062707364559174, 'learning_rate': 2.430830039525692e-05, 'epoch': 1.61}\n",
      "{'loss': 0.7945, 'grad_norm': 1.5040403604507446, 'learning_rate': 2.426234028862947e-05, 'epoch': 1.61}\n",
      "{'loss': 0.45, 'grad_norm': 0.30585798621177673, 'learning_rate': 2.4216380182002023e-05, 'epoch': 1.61}\n",
      "{'loss': 0.1649, 'grad_norm': 3.4076695442199707, 'learning_rate': 2.4170420075374575e-05, 'epoch': 1.61}\n",
      "{'loss': 0.7143, 'grad_norm': 8.294445991516113, 'learning_rate': 2.412445996874713e-05, 'epoch': 1.62}\n",
      "{'loss': 0.2032, 'grad_norm': 0.3561019003391266, 'learning_rate': 2.407849986211968e-05, 'epoch': 1.62}\n",
      "{'loss': 0.5866, 'grad_norm': 6.875423908233643, 'learning_rate': 2.4032539755492234e-05, 'epoch': 1.62}\n",
      "{'loss': 0.4113, 'grad_norm': 0.5948495268821716, 'learning_rate': 2.398657964886479e-05, 'epoch': 1.62}\n",
      "{'loss': 0.458, 'grad_norm': 0.3930240273475647, 'learning_rate': 2.3940619542237338e-05, 'epoch': 1.63}\n",
      "{'loss': 0.2047, 'grad_norm': 0.2589528262615204, 'learning_rate': 2.3894659435609893e-05, 'epoch': 1.63}\n",
      "{'loss': 0.1669, 'grad_norm': 0.12924441695213318, 'learning_rate': 2.3848699328982445e-05, 'epoch': 1.63}\n",
      "{'loss': 0.1272, 'grad_norm': 0.23180101811885834, 'learning_rate': 2.3802739222354997e-05, 'epoch': 1.63}\n",
      "{'loss': 0.5217, 'grad_norm': 22.178600311279297, 'learning_rate': 2.3756779115727552e-05, 'epoch': 1.64}\n",
      "{'loss': 0.6227, 'grad_norm': 7.257355690002441, 'learning_rate': 2.37108190091001e-05, 'epoch': 1.64}\n",
      "{'loss': 0.7067, 'grad_norm': 4.7020583152771, 'learning_rate': 2.3664858902472656e-05, 'epoch': 1.64}\n",
      "{'loss': 0.4064, 'grad_norm': 3.9309189319610596, 'learning_rate': 2.3618898795845208e-05, 'epoch': 1.65}\n",
      "{'loss': 0.4161, 'grad_norm': 0.2856494188308716, 'learning_rate': 2.357293868921776e-05, 'epoch': 1.65}\n",
      "{'loss': 0.335, 'grad_norm': 5.075310230255127, 'learning_rate': 2.352697858259031e-05, 'epoch': 1.65}\n",
      "{'loss': 0.2484, 'grad_norm': 8.039772987365723, 'learning_rate': 2.3481018475962867e-05, 'epoch': 1.65}\n",
      "{'loss': 0.6716, 'grad_norm': 0.8604332804679871, 'learning_rate': 2.343505836933542e-05, 'epoch': 1.66}\n",
      "{'loss': 0.2346, 'grad_norm': 39.55507278442383, 'learning_rate': 2.338909826270797e-05, 'epoch': 1.66}\n",
      "{'loss': 0.0567, 'grad_norm': 0.13196273148059845, 'learning_rate': 2.3343138156080522e-05, 'epoch': 1.66}\n",
      "{'loss': 0.1262, 'grad_norm': 0.10705023258924484, 'learning_rate': 2.3297178049453074e-05, 'epoch': 1.66}\n",
      "{'loss': 0.2723, 'grad_norm': 0.1394805610179901, 'learning_rate': 2.325121794282563e-05, 'epoch': 1.67}\n",
      "{'loss': 0.3142, 'grad_norm': 15.647730827331543, 'learning_rate': 2.320525783619818e-05, 'epoch': 1.67}\n",
      "{'loss': 0.568, 'grad_norm': 0.07196920365095139, 'learning_rate': 2.3159297729570733e-05, 'epoch': 1.67}\n",
      "{'loss': 0.459, 'grad_norm': 11.409783363342285, 'learning_rate': 2.311333762294329e-05, 'epoch': 1.67}\n",
      "{'loss': 0.7225, 'grad_norm': 0.08068712800741196, 'learning_rate': 2.3067377516315837e-05, 'epoch': 1.68}\n",
      "{'loss': 0.2217, 'grad_norm': 0.1675533503293991, 'learning_rate': 2.3021417409688392e-05, 'epoch': 1.68}\n",
      "{'loss': 0.3953, 'grad_norm': 0.186106339097023, 'learning_rate': 2.2975457303060944e-05, 'epoch': 1.68}\n",
      "{'loss': 0.1652, 'grad_norm': 0.20443005859851837, 'learning_rate': 2.2929497196433496e-05, 'epoch': 1.68}\n",
      "{'loss': 0.0669, 'grad_norm': 0.12180328369140625, 'learning_rate': 2.288353708980605e-05, 'epoch': 1.69}\n",
      "{'loss': 0.258, 'grad_norm': 6.934836387634277, 'learning_rate': 2.2837576983178603e-05, 'epoch': 1.69}\n",
      "{'loss': 0.3987, 'grad_norm': 17.464323043823242, 'learning_rate': 2.2791616876551155e-05, 'epoch': 1.69}\n",
      "{'loss': 0.4732, 'grad_norm': 0.13263480365276337, 'learning_rate': 2.2745656769923707e-05, 'epoch': 1.7}\n",
      "{'loss': 0.3963, 'grad_norm': 0.17223237454891205, 'learning_rate': 2.269969666329626e-05, 'epoch': 1.7}\n",
      "{'loss': 0.6375, 'grad_norm': 18.1973876953125, 'learning_rate': 2.265373655666881e-05, 'epoch': 1.7}\n",
      "{'loss': 0.5131, 'grad_norm': 0.1699378490447998, 'learning_rate': 2.2607776450041366e-05, 'epoch': 1.7}\n",
      "{'loss': 0.7385, 'grad_norm': 13.11669635772705, 'learning_rate': 2.2561816343413918e-05, 'epoch': 1.71}\n",
      "{'loss': 0.6296, 'grad_norm': 0.46897146105766296, 'learning_rate': 2.251585623678647e-05, 'epoch': 1.71}\n",
      "{'loss': 0.2361, 'grad_norm': 0.43480172753334045, 'learning_rate': 2.2469896130159025e-05, 'epoch': 1.71}\n",
      "{'loss': 0.3381, 'grad_norm': 0.5359662175178528, 'learning_rate': 2.2423936023531574e-05, 'epoch': 1.71}\n",
      "{'loss': 0.1542, 'grad_norm': 0.15389829874038696, 'learning_rate': 2.237797591690413e-05, 'epoch': 1.72}\n",
      "{'loss': 0.3449, 'grad_norm': 0.220300555229187, 'learning_rate': 2.233201581027668e-05, 'epoch': 1.72}\n",
      "{'loss': 0.6098, 'grad_norm': 4.598058700561523, 'learning_rate': 2.2286055703649233e-05, 'epoch': 1.72}\n",
      "{'loss': 0.1593, 'grad_norm': 0.29727476835250854, 'learning_rate': 2.2240095597021788e-05, 'epoch': 1.72}\n",
      "{'loss': 0.3894, 'grad_norm': 0.08206889033317566, 'learning_rate': 2.2194135490394337e-05, 'epoch': 1.73}\n",
      "{'loss': 0.3224, 'grad_norm': 0.27823323011398315, 'learning_rate': 2.2148175383766892e-05, 'epoch': 1.73}\n",
      "{'loss': 0.3277, 'grad_norm': 0.3154466450214386, 'learning_rate': 2.2102215277139444e-05, 'epoch': 1.73}\n",
      "{'loss': 0.083, 'grad_norm': 13.982129096984863, 'learning_rate': 2.2056255170511996e-05, 'epoch': 1.73}\n",
      "{'loss': 0.3967, 'grad_norm': 0.188482403755188, 'learning_rate': 2.201029506388455e-05, 'epoch': 1.74}\n",
      "{'loss': 0.3214, 'grad_norm': 0.06759202480316162, 'learning_rate': 2.1964334957257103e-05, 'epoch': 1.74}\n",
      "{'loss': 0.848, 'grad_norm': 10.241246223449707, 'learning_rate': 2.1918374850629655e-05, 'epoch': 1.74}\n",
      "{'loss': 0.6951, 'grad_norm': 0.1643318086862564, 'learning_rate': 2.1872414744002207e-05, 'epoch': 1.75}\n",
      "{'loss': 0.1517, 'grad_norm': 0.07996354252099991, 'learning_rate': 2.1826454637374762e-05, 'epoch': 1.75}\n",
      "{'loss': 0.1718, 'grad_norm': 0.3026733100414276, 'learning_rate': 2.178049453074731e-05, 'epoch': 1.75}\n",
      "{'loss': 0.2608, 'grad_norm': 0.1825886368751526, 'learning_rate': 2.1734534424119866e-05, 'epoch': 1.75}\n",
      "{'loss': 0.3676, 'grad_norm': 0.05467600375413895, 'learning_rate': 2.1688574317492418e-05, 'epoch': 1.76}\n",
      "{'loss': 0.2152, 'grad_norm': 0.06580759584903717, 'learning_rate': 2.164261421086497e-05, 'epoch': 1.76}\n",
      "{'loss': 0.1713, 'grad_norm': 0.08238743245601654, 'learning_rate': 2.1596654104237525e-05, 'epoch': 1.76}\n",
      "{'loss': 0.1999, 'grad_norm': 0.08392883837223053, 'learning_rate': 2.1550693997610073e-05, 'epoch': 1.76}\n",
      "{'loss': 0.5985, 'grad_norm': 0.16483408212661743, 'learning_rate': 2.150473389098263e-05, 'epoch': 1.77}\n",
      "{'loss': 0.1035, 'grad_norm': 0.4286341369152069, 'learning_rate': 2.145877378435518e-05, 'epoch': 1.77}\n",
      "{'loss': 0.413, 'grad_norm': 8.383123397827148, 'learning_rate': 2.1412813677727732e-05, 'epoch': 1.77}\n",
      "{'loss': 0.0044, 'grad_norm': 0.07845359295606613, 'learning_rate': 2.1366853571100288e-05, 'epoch': 1.77}\n",
      "{'loss': 0.1807, 'grad_norm': 0.09199700504541397, 'learning_rate': 2.132089346447284e-05, 'epoch': 1.78}\n",
      "{'loss': 0.4289, 'grad_norm': 0.07005597651004791, 'learning_rate': 2.127493335784539e-05, 'epoch': 1.78}\n",
      "{'loss': 0.5353, 'grad_norm': 0.07523631304502487, 'learning_rate': 2.1228973251217943e-05, 'epoch': 1.78}\n",
      "{'loss': 0.1724, 'grad_norm': 0.08394155651330948, 'learning_rate': 2.1183013144590495e-05, 'epoch': 1.78}\n",
      "{'loss': 0.4193, 'grad_norm': 0.21783852577209473, 'learning_rate': 2.1137053037963047e-05, 'epoch': 1.79}\n",
      "{'loss': 0.5102, 'grad_norm': 0.08476809412240982, 'learning_rate': 2.1091092931335602e-05, 'epoch': 1.79}\n",
      "{'loss': 0.2357, 'grad_norm': 8.317290306091309, 'learning_rate': 2.1045132824708154e-05, 'epoch': 1.79}\n",
      "{'loss': 0.2234, 'grad_norm': 0.12404005229473114, 'learning_rate': 2.0999172718080706e-05, 'epoch': 1.8}\n",
      "{'loss': 0.0979, 'grad_norm': 7.279355525970459, 'learning_rate': 2.095321261145326e-05, 'epoch': 1.8}\n",
      "{'loss': 0.3751, 'grad_norm': 9.345006942749023, 'learning_rate': 2.090725250482581e-05, 'epoch': 1.8}\n",
      "{'loss': 0.8806, 'grad_norm': 0.12082327157258987, 'learning_rate': 2.0861292398198365e-05, 'epoch': 1.8}\n",
      "{'loss': 0.5237, 'grad_norm': 0.24607744812965393, 'learning_rate': 2.0815332291570917e-05, 'epoch': 1.81}\n",
      "{'loss': 0.3822, 'grad_norm': 0.17757819592952728, 'learning_rate': 2.076937218494347e-05, 'epoch': 1.81}\n",
      "{'loss': 0.4769, 'grad_norm': 0.1666763871908188, 'learning_rate': 2.0723412078316024e-05, 'epoch': 1.81}\n",
      "{'loss': 0.7786, 'grad_norm': 0.31010112166404724, 'learning_rate': 2.0677451971688576e-05, 'epoch': 1.81}\n",
      "{'loss': 0.4955, 'grad_norm': 7.357166290283203, 'learning_rate': 2.0631491865061128e-05, 'epoch': 1.82}\n",
      "{'loss': 0.2581, 'grad_norm': 7.5677642822265625, 'learning_rate': 2.058553175843368e-05, 'epoch': 1.82}\n",
      "{'loss': 0.6035, 'grad_norm': 0.1472356617450714, 'learning_rate': 2.0539571651806232e-05, 'epoch': 1.82}\n",
      "{'loss': 0.7891, 'grad_norm': 6.617330074310303, 'learning_rate': 2.0493611545178787e-05, 'epoch': 1.82}\n",
      "{'loss': 0.4947, 'grad_norm': 0.7615578770637512, 'learning_rate': 2.044765143855134e-05, 'epoch': 1.83}\n",
      "{'loss': 0.3664, 'grad_norm': 0.4379170536994934, 'learning_rate': 2.040169133192389e-05, 'epoch': 1.83}\n",
      "{'loss': 0.2663, 'grad_norm': 0.5622434616088867, 'learning_rate': 2.0355731225296443e-05, 'epoch': 1.83}\n",
      "{'loss': 0.4619, 'grad_norm': 6.4121551513671875, 'learning_rate': 2.0309771118668998e-05, 'epoch': 1.83}\n",
      "{'loss': 0.4314, 'grad_norm': 18.180280685424805, 'learning_rate': 2.0263811012041547e-05, 'epoch': 1.84}\n",
      "{'loss': 0.2299, 'grad_norm': 0.20264789462089539, 'learning_rate': 2.0217850905414102e-05, 'epoch': 1.84}\n",
      "{'loss': 0.1958, 'grad_norm': 22.944257736206055, 'learning_rate': 2.0171890798786654e-05, 'epoch': 1.84}\n",
      "{'loss': 0.4047, 'grad_norm': 3.8580427169799805, 'learning_rate': 2.0125930692159206e-05, 'epoch': 1.85}\n",
      "{'loss': 0.4134, 'grad_norm': 8.864601135253906, 'learning_rate': 2.007997058553176e-05, 'epoch': 1.85}\n",
      "{'loss': 0.7623, 'grad_norm': 10.685297012329102, 'learning_rate': 2.003401047890431e-05, 'epoch': 1.85}\n",
      "{'loss': 0.3499, 'grad_norm': 0.3685225248336792, 'learning_rate': 1.9988050372276865e-05, 'epoch': 1.85}\n",
      "{'loss': 0.3992, 'grad_norm': 0.2867821753025055, 'learning_rate': 1.994209026564942e-05, 'epoch': 1.86}\n",
      "{'loss': 0.5947, 'grad_norm': 0.15960592031478882, 'learning_rate': 1.989613015902197e-05, 'epoch': 1.86}\n",
      "{'loss': 0.596, 'grad_norm': 7.499124050140381, 'learning_rate': 1.9850170052394524e-05, 'epoch': 1.86}\n",
      "{'loss': 0.3714, 'grad_norm': 10.706354141235352, 'learning_rate': 1.9804209945767076e-05, 'epoch': 1.86}\n",
      "{'loss': 0.2026, 'grad_norm': 5.339556694030762, 'learning_rate': 1.9758249839139627e-05, 'epoch': 1.87}\n",
      "{'loss': 0.2282, 'grad_norm': 0.15132910013198853, 'learning_rate': 1.971228973251218e-05, 'epoch': 1.87}\n",
      "{'loss': 0.6826, 'grad_norm': 34.05067443847656, 'learning_rate': 1.966632962588473e-05, 'epoch': 1.87}\n",
      "{'loss': 0.5333, 'grad_norm': 6.0362868309021, 'learning_rate': 1.9620369519257287e-05, 'epoch': 1.87}\n",
      "{'loss': 0.342, 'grad_norm': 36.22353744506836, 'learning_rate': 1.957440941262984e-05, 'epoch': 1.88}\n",
      "{'loss': 0.1581, 'grad_norm': 11.6687593460083, 'learning_rate': 1.952844930600239e-05, 'epoch': 1.88}\n",
      "{'loss': 0.8686, 'grad_norm': 23.557979583740234, 'learning_rate': 1.9482489199374942e-05, 'epoch': 1.88}\n",
      "{'loss': 0.3076, 'grad_norm': 0.13048921525478363, 'learning_rate': 1.9436529092747498e-05, 'epoch': 1.89}\n",
      "{'loss': 0.2211, 'grad_norm': 1.0334845781326294, 'learning_rate': 1.9390568986120046e-05, 'epoch': 1.89}\n",
      "{'loss': 0.6701, 'grad_norm': 4.497903823852539, 'learning_rate': 1.93446088794926e-05, 'epoch': 1.89}\n",
      "{'loss': 0.21, 'grad_norm': 0.20828528702259064, 'learning_rate': 1.9298648772865157e-05, 'epoch': 1.89}\n",
      "{'loss': 0.5239, 'grad_norm': 0.16607241332530975, 'learning_rate': 1.9252688666237705e-05, 'epoch': 1.9}\n",
      "{'loss': 0.5204, 'grad_norm': 0.17244082689285278, 'learning_rate': 1.920672855961026e-05, 'epoch': 1.9}\n",
      "{'loss': 0.7046, 'grad_norm': 0.557615339756012, 'learning_rate': 1.9160768452982812e-05, 'epoch': 1.9}\n",
      "{'loss': 0.5557, 'grad_norm': 14.037515640258789, 'learning_rate': 1.9114808346355364e-05, 'epoch': 1.9}\n",
      "{'loss': 0.6786, 'grad_norm': 11.330826759338379, 'learning_rate': 1.906884823972792e-05, 'epoch': 1.91}\n",
      "{'loss': 0.2198, 'grad_norm': 0.24197246134281158, 'learning_rate': 1.9022888133100468e-05, 'epoch': 1.91}\n",
      "{'loss': 0.2827, 'grad_norm': 0.338238924741745, 'learning_rate': 1.8976928026473023e-05, 'epoch': 1.91}\n",
      "{'loss': 0.3101, 'grad_norm': 0.22647781670093536, 'learning_rate': 1.8930967919845575e-05, 'epoch': 1.91}\n",
      "{'loss': 0.3209, 'grad_norm': 0.1815684735774994, 'learning_rate': 1.8885007813218127e-05, 'epoch': 1.92}\n",
      "{'loss': 0.3743, 'grad_norm': 47.35371017456055, 'learning_rate': 1.883904770659068e-05, 'epoch': 1.92}\n",
      "{'loss': 0.3603, 'grad_norm': 0.2742129862308502, 'learning_rate': 1.8793087599963234e-05, 'epoch': 1.92}\n",
      "{'loss': 0.4699, 'grad_norm': 21.414459228515625, 'learning_rate': 1.8747127493335786e-05, 'epoch': 1.92}\n",
      "{'loss': 0.467, 'grad_norm': 0.16436301171779633, 'learning_rate': 1.8701167386708338e-05, 'epoch': 1.93}\n",
      "{'loss': 0.3338, 'grad_norm': 0.11507127434015274, 'learning_rate': 1.865520728008089e-05, 'epoch': 1.93}\n",
      "{'loss': 0.1936, 'grad_norm': 0.09339499473571777, 'learning_rate': 1.8609247173453442e-05, 'epoch': 1.93}\n",
      "{'loss': 0.3142, 'grad_norm': 0.5942749381065369, 'learning_rate': 1.8563287066825997e-05, 'epoch': 1.94}\n",
      "{'loss': 0.3374, 'grad_norm': 49.72880554199219, 'learning_rate': 1.851732696019855e-05, 'epoch': 1.94}\n",
      "{'loss': 0.6668, 'grad_norm': 0.12538234889507294, 'learning_rate': 1.84713668535711e-05, 'epoch': 1.94}\n",
      "{'loss': 0.8111, 'grad_norm': 4.383654594421387, 'learning_rate': 1.8425406746943656e-05, 'epoch': 1.94}\n",
      "{'loss': 0.4817, 'grad_norm': 0.20656827092170715, 'learning_rate': 1.8379446640316205e-05, 'epoch': 1.95}\n",
      "{'loss': 0.3892, 'grad_norm': 19.39964485168457, 'learning_rate': 1.833348653368876e-05, 'epoch': 1.95}\n",
      "{'loss': 0.1424, 'grad_norm': 0.3727101683616638, 'learning_rate': 1.8287526427061312e-05, 'epoch': 1.95}\n",
      "{'loss': 0.5154, 'grad_norm': 0.14638108015060425, 'learning_rate': 1.8241566320433864e-05, 'epoch': 1.95}\n",
      "{'loss': 0.4261, 'grad_norm': 7.825928688049316, 'learning_rate': 1.819560621380642e-05, 'epoch': 1.96}\n",
      "{'loss': 0.6002, 'grad_norm': 0.42715153098106384, 'learning_rate': 1.814964610717897e-05, 'epoch': 1.96}\n",
      "{'loss': 0.1966, 'grad_norm': 0.17529253661632538, 'learning_rate': 1.8103686000551523e-05, 'epoch': 1.96}\n",
      "{'loss': 0.2442, 'grad_norm': 0.33299511671066284, 'learning_rate': 1.8057725893924075e-05, 'epoch': 1.96}\n",
      "{'loss': 0.008, 'grad_norm': 0.11959928274154663, 'learning_rate': 1.8011765787296626e-05, 'epoch': 1.97}\n",
      "{'loss': 0.1391, 'grad_norm': 0.22338388860225677, 'learning_rate': 1.796580568066918e-05, 'epoch': 1.97}\n",
      "{'loss': 0.1281, 'grad_norm': 0.10206171870231628, 'learning_rate': 1.7919845574041734e-05, 'epoch': 1.97}\n",
      "{'loss': 0.6473, 'grad_norm': 3.055891990661621, 'learning_rate': 1.7873885467414285e-05, 'epoch': 1.97}\n",
      "{'loss': 0.374, 'grad_norm': 7.588516712188721, 'learning_rate': 1.7827925360786837e-05, 'epoch': 1.98}\n",
      "{'loss': 0.336, 'grad_norm': 7.9886860847473145, 'learning_rate': 1.7781965254159393e-05, 'epoch': 1.98}\n",
      "{'loss': 0.1035, 'grad_norm': 0.08216292411088943, 'learning_rate': 1.773600514753194e-05, 'epoch': 1.98}\n",
      "{'loss': 0.2544, 'grad_norm': 0.2996421158313751, 'learning_rate': 1.7690045040904496e-05, 'epoch': 1.99}\n",
      "{'loss': 0.5217, 'grad_norm': 8.396323204040527, 'learning_rate': 1.764408493427705e-05, 'epoch': 1.99}\n",
      "{'loss': 0.9243, 'grad_norm': 11.12183666229248, 'learning_rate': 1.75981248276496e-05, 'epoch': 1.99}\n",
      "{'loss': 0.545, 'grad_norm': 8.671659469604492, 'learning_rate': 1.7552164721022156e-05, 'epoch': 1.99}\n",
      "{'loss': 0.323, 'grad_norm': 8.409904479980469, 'learning_rate': 1.7506204614394704e-05, 'epoch': 2.0}\n",
      "{'loss': 0.0773, 'grad_norm': 0.15292291343212128, 'learning_rate': 1.746024450776726e-05, 'epoch': 2.0}\n"
     ]
    },
    {
     "data": {
      "application/vnd.jupyter.widget-view+json": {
       "model_id": "497cdacb5b2a43c4815850b8af8b2efa",
       "version_major": 2,
       "version_minor": 0
      },
      "text/plain": [
       "  0%|          | 0/949 [00:00<?, ?it/s]"
      ]
     },
     "metadata": {},
     "output_type": "display_data"
    },
    {
     "name": "stdout",
     "output_type": "stream",
     "text": [
      "{'eval_loss': 0.4170862138271332, 'eval_accuracy': 0.9006063801740047, 'eval_precision': 0.8619565821826224, 'eval_recall': 0.9006063801740047, 'eval_f1': 0.8780502681070036, 'eval_mse': 0.3625098866332718, 'eval_runtime': 10.2022, 'eval_samples_per_second': 371.783, 'eval_steps_per_second': 93.019, 'epoch': 2.0}\n",
      "{'loss': 0.655, 'grad_norm': 10.513357162475586, 'learning_rate': 1.741428440113981e-05, 'epoch': 2.0}\n",
      "{'loss': 0.254, 'grad_norm': 0.14602038264274597, 'learning_rate': 1.7368324294512363e-05, 'epoch': 2.0}\n",
      "{'loss': 0.3345, 'grad_norm': 0.9270245432853699, 'learning_rate': 1.732236418788492e-05, 'epoch': 2.01}\n",
      "{'loss': 0.0897, 'grad_norm': 0.1307155042886734, 'learning_rate': 1.727640408125747e-05, 'epoch': 2.01}\n",
      "{'loss': 0.3789, 'grad_norm': 0.18392200767993927, 'learning_rate': 1.7230443974630022e-05, 'epoch': 2.01}\n",
      "{'loss': 0.4893, 'grad_norm': 8.045831680297852, 'learning_rate': 1.7184483868002574e-05, 'epoch': 2.01}\n",
      "{'loss': 0.1383, 'grad_norm': 0.19653569161891937, 'learning_rate': 1.713852376137513e-05, 'epoch': 2.02}\n",
      "{'loss': 0.7647, 'grad_norm': 7.183734893798828, 'learning_rate': 1.7092563654747678e-05, 'epoch': 2.02}\n",
      "{'loss': 0.5139, 'grad_norm': 0.5894123315811157, 'learning_rate': 1.7046603548120233e-05, 'epoch': 2.02}\n",
      "{'loss': 0.1342, 'grad_norm': 10.330368041992188, 'learning_rate': 1.7000643441492785e-05, 'epoch': 2.02}\n",
      "{'loss': 0.3308, 'grad_norm': 3.593801498413086, 'learning_rate': 1.6954683334865337e-05, 'epoch': 2.03}\n",
      "{'loss': 0.4746, 'grad_norm': 0.13915710151195526, 'learning_rate': 1.6908723228237892e-05, 'epoch': 2.03}\n",
      "{'loss': 0.4011, 'grad_norm': 0.1089080348610878, 'learning_rate': 1.686276312161044e-05, 'epoch': 2.03}\n",
      "{'loss': 0.3872, 'grad_norm': 9.296797752380371, 'learning_rate': 1.6816803014982996e-05, 'epoch': 2.04}\n",
      "{'loss': 0.2634, 'grad_norm': 7.433752536773682, 'learning_rate': 1.6770842908355548e-05, 'epoch': 2.04}\n",
      "{'loss': 0.2499, 'grad_norm': 0.147458016872406, 'learning_rate': 1.67248828017281e-05, 'epoch': 2.04}\n",
      "{'loss': 0.3625, 'grad_norm': 0.1274304986000061, 'learning_rate': 1.6678922695100655e-05, 'epoch': 2.04}\n",
      "{'loss': 0.4918, 'grad_norm': 0.3978460729122162, 'learning_rate': 1.6632962588473207e-05, 'epoch': 2.05}\n",
      "{'loss': 0.1197, 'grad_norm': 0.24578142166137695, 'learning_rate': 1.658700248184576e-05, 'epoch': 2.05}\n",
      "{'loss': 0.2348, 'grad_norm': 2.115335702896118, 'learning_rate': 1.654104237521831e-05, 'epoch': 2.05}\n",
      "{'loss': 0.0916, 'grad_norm': 3.4755866527557373, 'learning_rate': 1.6495082268590863e-05, 'epoch': 2.05}\n",
      "{'loss': 0.5517, 'grad_norm': 0.17920884490013123, 'learning_rate': 1.6449122161963418e-05, 'epoch': 2.06}\n",
      "{'loss': 0.5463, 'grad_norm': 10.279818534851074, 'learning_rate': 1.640316205533597e-05, 'epoch': 2.06}\n",
      "{'loss': 0.3483, 'grad_norm': 0.14497162401676178, 'learning_rate': 1.635720194870852e-05, 'epoch': 2.06}\n",
      "{'loss': 0.3503, 'grad_norm': 1.143967628479004, 'learning_rate': 1.6311241842081073e-05, 'epoch': 2.06}\n",
      "{'loss': 0.2, 'grad_norm': 0.10056596994400024, 'learning_rate': 1.626528173545363e-05, 'epoch': 2.07}\n",
      "{'loss': 0.3886, 'grad_norm': 0.11807016283273697, 'learning_rate': 1.6219321628826177e-05, 'epoch': 2.07}\n",
      "{'loss': 0.2405, 'grad_norm': 0.21506008505821228, 'learning_rate': 1.6173361522198733e-05, 'epoch': 2.07}\n",
      "{'loss': 0.4848, 'grad_norm': 8.130508422851562, 'learning_rate': 1.6127401415571284e-05, 'epoch': 2.07}\n",
      "{'loss': 0.2033, 'grad_norm': 0.17920565605163574, 'learning_rate': 1.6081441308943836e-05, 'epoch': 2.08}\n",
      "{'loss': 0.1651, 'grad_norm': 0.08228006958961487, 'learning_rate': 1.603548120231639e-05, 'epoch': 2.08}\n",
      "{'loss': 0.1508, 'grad_norm': 0.214427649974823, 'learning_rate': 1.5989521095688944e-05, 'epoch': 2.08}\n",
      "{'loss': 0.3738, 'grad_norm': 0.07542524486780167, 'learning_rate': 1.5943560989061495e-05, 'epoch': 2.09}\n",
      "{'loss': 0.3271, 'grad_norm': 0.0818931981921196, 'learning_rate': 1.5897600882434047e-05, 'epoch': 2.09}\n",
      "{'loss': 0.3545, 'grad_norm': 0.20309194922447205, 'learning_rate': 1.58516407758066e-05, 'epoch': 2.09}\n",
      "{'loss': 0.1531, 'grad_norm': 0.13147275149822235, 'learning_rate': 1.5805680669179154e-05, 'epoch': 2.09}\n",
      "{'loss': 0.195, 'grad_norm': 0.11413855850696564, 'learning_rate': 1.5759720562551706e-05, 'epoch': 2.1}\n",
      "{'loss': 0.2762, 'grad_norm': 0.15678662061691284, 'learning_rate': 1.5713760455924258e-05, 'epoch': 2.1}\n",
      "{'loss': 0.2302, 'grad_norm': 20.95064926147461, 'learning_rate': 1.566780034929681e-05, 'epoch': 2.1}\n",
      "{'loss': 0.0599, 'grad_norm': 0.304498553276062, 'learning_rate': 1.5621840242669365e-05, 'epoch': 2.1}\n",
      "{'loss': 0.285, 'grad_norm': 8.926518440246582, 'learning_rate': 1.5575880136041917e-05, 'epoch': 2.11}\n",
      "{'loss': 0.3589, 'grad_norm': 6.866921901702881, 'learning_rate': 1.552992002941447e-05, 'epoch': 2.11}\n",
      "{'loss': 0.0389, 'grad_norm': 0.14484825730323792, 'learning_rate': 1.548395992278702e-05, 'epoch': 2.11}\n",
      "{'loss': 0.3243, 'grad_norm': 8.714512825012207, 'learning_rate': 1.5437999816159573e-05, 'epoch': 2.11}\n",
      "{'loss': 0.7105, 'grad_norm': 0.1634572297334671, 'learning_rate': 1.5392039709532128e-05, 'epoch': 2.12}\n",
      "{'loss': 0.3348, 'grad_norm': 0.14212292432785034, 'learning_rate': 1.5346079602904677e-05, 'epoch': 2.12}\n",
      "{'loss': 0.1072, 'grad_norm': 6.52569580078125, 'learning_rate': 1.5300119496277232e-05, 'epoch': 2.12}\n",
      "{'loss': 0.3428, 'grad_norm': 0.060677532106637955, 'learning_rate': 1.5254159389649786e-05, 'epoch': 2.12}\n",
      "{'loss': 0.4161, 'grad_norm': 1.769296646118164, 'learning_rate': 1.5208199283022338e-05, 'epoch': 2.13}\n",
      "{'loss': 0.1483, 'grad_norm': 0.3228661119937897, 'learning_rate': 1.5162239176394891e-05, 'epoch': 2.13}\n",
      "{'loss': 0.3746, 'grad_norm': 0.0663914605975151, 'learning_rate': 1.5116279069767441e-05, 'epoch': 2.13}\n",
      "{'loss': 0.1756, 'grad_norm': 0.0768720805644989, 'learning_rate': 1.5070318963139995e-05, 'epoch': 2.14}\n",
      "{'loss': 0.0417, 'grad_norm': 0.062304407358169556, 'learning_rate': 1.5024358856512547e-05, 'epoch': 2.14}\n",
      "{'loss': 0.1915, 'grad_norm': 0.0493718758225441, 'learning_rate': 1.49783987498851e-05, 'epoch': 2.14}\n",
      "{'loss': 0.3443, 'grad_norm': 0.07074728608131409, 'learning_rate': 1.4932438643257654e-05, 'epoch': 2.14}\n",
      "{'loss': 0.5717, 'grad_norm': 85.73695373535156, 'learning_rate': 1.4886478536630206e-05, 'epoch': 2.15}\n",
      "{'loss': 0.1648, 'grad_norm': 1.7575501203536987, 'learning_rate': 1.484051843000276e-05, 'epoch': 2.15}\n",
      "{'loss': 0.264, 'grad_norm': 0.22903984785079956, 'learning_rate': 1.479455832337531e-05, 'epoch': 2.15}\n",
      "{'loss': 0.1194, 'grad_norm': 0.12779690325260162, 'learning_rate': 1.4748598216747863e-05, 'epoch': 2.15}\n",
      "{'loss': 0.3215, 'grad_norm': 0.12048927694559097, 'learning_rate': 1.4702638110120417e-05, 'epoch': 2.16}\n",
      "{'loss': 0.4246, 'grad_norm': 0.06464709341526031, 'learning_rate': 1.4656678003492969e-05, 'epoch': 2.16}\n",
      "{'loss': 0.4807, 'grad_norm': 7.954103946685791, 'learning_rate': 1.4610717896865522e-05, 'epoch': 2.16}\n",
      "{'loss': 0.286, 'grad_norm': 6.407098293304443, 'learning_rate': 1.4564757790238074e-05, 'epoch': 2.16}\n",
      "{'loss': 0.3541, 'grad_norm': 0.07344832271337509, 'learning_rate': 1.4518797683610628e-05, 'epoch': 2.17}\n",
      "{'loss': 0.8018, 'grad_norm': 21.043149948120117, 'learning_rate': 1.4472837576983178e-05, 'epoch': 2.17}\n",
      "{'loss': 0.1668, 'grad_norm': 0.12054334580898285, 'learning_rate': 1.4426877470355732e-05, 'epoch': 2.17}\n",
      "{'loss': 0.5069, 'grad_norm': 9.372926712036133, 'learning_rate': 1.4380917363728285e-05, 'epoch': 2.18}\n",
      "{'loss': 0.4318, 'grad_norm': 0.06653857231140137, 'learning_rate': 1.4334957257100837e-05, 'epoch': 2.18}\n",
      "{'loss': 0.1246, 'grad_norm': 31.044931411743164, 'learning_rate': 1.428899715047339e-05, 'epoch': 2.18}\n",
      "{'loss': 0.7868, 'grad_norm': 0.43670788407325745, 'learning_rate': 1.424303704384594e-05, 'epoch': 2.18}\n",
      "{'loss': 0.2352, 'grad_norm': 0.46776920557022095, 'learning_rate': 1.4197076937218496e-05, 'epoch': 2.19}\n",
      "{'loss': 0.3409, 'grad_norm': 24.963321685791016, 'learning_rate': 1.4151116830591046e-05, 'epoch': 2.19}\n",
      "{'loss': 0.2811, 'grad_norm': 1.3090850114822388, 'learning_rate': 1.41051567239636e-05, 'epoch': 2.19}\n",
      "{'loss': 0.0585, 'grad_norm': 2.9345204830169678, 'learning_rate': 1.4059196617336153e-05, 'epoch': 2.19}\n",
      "{'loss': 0.3556, 'grad_norm': 0.04826097935438156, 'learning_rate': 1.4013236510708705e-05, 'epoch': 2.2}\n",
      "{'loss': 0.9186, 'grad_norm': 12.167960166931152, 'learning_rate': 1.3967276404081259e-05, 'epoch': 2.2}\n",
      "{'loss': 0.2351, 'grad_norm': 0.33934536576271057, 'learning_rate': 1.3921316297453809e-05, 'epoch': 2.2}\n",
      "{'loss': 0.4921, 'grad_norm': 0.18302513659000397, 'learning_rate': 1.3875356190826364e-05, 'epoch': 2.2}\n",
      "{'loss': 0.3031, 'grad_norm': 0.2943207621574402, 'learning_rate': 1.3829396084198918e-05, 'epoch': 2.21}\n",
      "{'loss': 0.1107, 'grad_norm': 0.5367348790168762, 'learning_rate': 1.3783435977571468e-05, 'epoch': 2.21}\n",
      "{'loss': 0.2197, 'grad_norm': 0.3366815447807312, 'learning_rate': 1.3737475870944022e-05, 'epoch': 2.21}\n",
      "{'loss': 0.0103, 'grad_norm': 0.10581862926483154, 'learning_rate': 1.3691515764316574e-05, 'epoch': 2.21}\n",
      "{'loss': 0.6692, 'grad_norm': 7.441296100616455, 'learning_rate': 1.3645555657689127e-05, 'epoch': 2.22}\n",
      "{'loss': 0.3119, 'grad_norm': 8.793070793151855, 'learning_rate': 1.3599595551061677e-05, 'epoch': 2.22}\n",
      "{'loss': 0.1355, 'grad_norm': 1.48061203956604, 'learning_rate': 1.3553635444434231e-05, 'epoch': 2.22}\n",
      "{'loss': 0.489, 'grad_norm': 8.122178077697754, 'learning_rate': 1.3507675337806786e-05, 'epoch': 2.23}\n",
      "{'loss': 0.3982, 'grad_norm': 14.916099548339844, 'learning_rate': 1.3461715231179336e-05, 'epoch': 2.23}\n",
      "{'loss': 0.1159, 'grad_norm': 10.8391695022583, 'learning_rate': 1.341575512455189e-05, 'epoch': 2.23}\n",
      "{'loss': 0.2142, 'grad_norm': 0.35445255041122437, 'learning_rate': 1.3369795017924442e-05, 'epoch': 2.23}\n",
      "{'loss': 0.9324, 'grad_norm': 0.1220594123005867, 'learning_rate': 1.3323834911296996e-05, 'epoch': 2.24}\n",
      "{'loss': 0.1386, 'grad_norm': 0.11095177382230759, 'learning_rate': 1.3277874804669546e-05, 'epoch': 2.24}\n",
      "{'loss': 0.2255, 'grad_norm': 0.14641882479190826, 'learning_rate': 1.32319146980421e-05, 'epoch': 2.24}\n",
      "{'loss': 0.0079, 'grad_norm': 0.23880800604820251, 'learning_rate': 1.3185954591414655e-05, 'epoch': 2.24}\n",
      "{'loss': 0.6339, 'grad_norm': 0.042503323405981064, 'learning_rate': 1.3139994484787205e-05, 'epoch': 2.25}\n",
      "{'loss': 0.4269, 'grad_norm': 15.418862342834473, 'learning_rate': 1.3094034378159758e-05, 'epoch': 2.25}\n",
      "{'loss': 0.3689, 'grad_norm': 0.14829905331134796, 'learning_rate': 1.304807427153231e-05, 'epoch': 2.25}\n",
      "{'loss': 0.3095, 'grad_norm': 0.13817360997200012, 'learning_rate': 1.3002114164904864e-05, 'epoch': 2.25}\n",
      "{'loss': 0.2326, 'grad_norm': 1.57819402217865, 'learning_rate': 1.2956154058277417e-05, 'epoch': 2.26}\n",
      "{'loss': 0.4027, 'grad_norm': 0.16501180827617645, 'learning_rate': 1.2910193951649968e-05, 'epoch': 2.26}\n",
      "{'loss': 0.382, 'grad_norm': 0.13799020648002625, 'learning_rate': 1.2864233845022521e-05, 'epoch': 2.26}\n",
      "{'loss': 0.7655, 'grad_norm': 8.866650581359863, 'learning_rate': 1.2818273738395073e-05, 'epoch': 2.26}\n",
      "{'loss': 0.5447, 'grad_norm': 0.2124439775943756, 'learning_rate': 1.2772313631767627e-05, 'epoch': 2.27}\n",
      "{'loss': 0.1386, 'grad_norm': 0.16476498544216156, 'learning_rate': 1.2726353525140179e-05, 'epoch': 2.27}\n",
      "{'loss': 0.361, 'grad_norm': 0.17166253924369812, 'learning_rate': 1.2680393418512732e-05, 'epoch': 2.27}\n",
      "{'loss': 0.4941, 'grad_norm': 0.29178667068481445, 'learning_rate': 1.2634433311885286e-05, 'epoch': 2.28}\n",
      "{'loss': 0.1611, 'grad_norm': 0.14248815178871155, 'learning_rate': 1.2588473205257836e-05, 'epoch': 2.28}\n",
      "{'loss': 0.5125, 'grad_norm': 12.251169204711914, 'learning_rate': 1.254251309863039e-05, 'epoch': 2.28}\n",
      "{'loss': 0.139, 'grad_norm': 0.19170109927654266, 'learning_rate': 1.2496552992002943e-05, 'epoch': 2.28}\n",
      "{'loss': 0.451, 'grad_norm': 0.19051797688007355, 'learning_rate': 1.2450592885375495e-05, 'epoch': 2.29}\n",
      "{'loss': 0.0794, 'grad_norm': 0.18233370780944824, 'learning_rate': 1.2404632778748047e-05, 'epoch': 2.29}\n",
      "{'loss': 0.3589, 'grad_norm': 0.2600151002407074, 'learning_rate': 1.23586726721206e-05, 'epoch': 2.29}\n",
      "{'loss': 0.0076, 'grad_norm': 0.1004883348941803, 'learning_rate': 1.2312712565493152e-05, 'epoch': 2.29}\n",
      "{'loss': 0.4672, 'grad_norm': 8.336594581604004, 'learning_rate': 1.2266752458865704e-05, 'epoch': 2.3}\n",
      "{'loss': 0.436, 'grad_norm': 0.12720458209514618, 'learning_rate': 1.2220792352238258e-05, 'epoch': 2.3}\n",
      "{'loss': 0.2682, 'grad_norm': 0.10713153332471848, 'learning_rate': 1.2174832245610811e-05, 'epoch': 2.3}\n",
      "{'loss': 0.3485, 'grad_norm': 1.219041109085083, 'learning_rate': 1.2128872138983363e-05, 'epoch': 2.3}\n",
      "{'loss': 0.0074, 'grad_norm': 2.711850166320801, 'learning_rate': 1.2082912032355915e-05, 'epoch': 2.31}\n",
      "{'loss': 0.3587, 'grad_norm': 0.3270077407360077, 'learning_rate': 1.2036951925728469e-05, 'epoch': 2.31}\n",
      "{'loss': 0.1555, 'grad_norm': 6.520428657531738, 'learning_rate': 1.199099181910102e-05, 'epoch': 2.31}\n",
      "{'loss': 0.4925, 'grad_norm': 4.759921550750732, 'learning_rate': 1.1945031712473574e-05, 'epoch': 2.31}\n",
      "{'loss': 0.0618, 'grad_norm': 0.18432021141052246, 'learning_rate': 1.1899071605846126e-05, 'epoch': 2.32}\n",
      "{'loss': 0.5239, 'grad_norm': 0.25032058358192444, 'learning_rate': 1.185311149921868e-05, 'epoch': 2.32}\n",
      "{'loss': 0.2615, 'grad_norm': 0.14154404401779175, 'learning_rate': 1.1807151392591232e-05, 'epoch': 2.32}\n",
      "{'loss': 0.2593, 'grad_norm': 10.023761749267578, 'learning_rate': 1.1761191285963784e-05, 'epoch': 2.33}\n",
      "{'loss': 0.2779, 'grad_norm': 109.64110565185547, 'learning_rate': 1.1715231179336335e-05, 'epoch': 2.33}\n",
      "{'loss': 0.4572, 'grad_norm': 0.090715192258358, 'learning_rate': 1.1669271072708889e-05, 'epoch': 2.33}\n",
      "{'loss': 0.2714, 'grad_norm': 0.21836817264556885, 'learning_rate': 1.1623310966081443e-05, 'epoch': 2.33}\n",
      "{'loss': 0.1448, 'grad_norm': 1.6886885166168213, 'learning_rate': 1.1577350859453994e-05, 'epoch': 2.34}\n",
      "{'loss': 0.0231, 'grad_norm': 0.040559377521276474, 'learning_rate': 1.1531390752826546e-05, 'epoch': 2.34}\n",
      "{'loss': 0.1513, 'grad_norm': 0.09370246529579163, 'learning_rate': 1.14854306461991e-05, 'epoch': 2.34}\n",
      "{'loss': 0.2329, 'grad_norm': 0.08615894615650177, 'learning_rate': 1.1439470539571652e-05, 'epoch': 2.34}\n",
      "{'loss': 0.0492, 'grad_norm': 0.8031027913093567, 'learning_rate': 1.1393510432944204e-05, 'epoch': 2.35}\n",
      "{'loss': 0.4389, 'grad_norm': 0.06947284936904907, 'learning_rate': 1.1347550326316759e-05, 'epoch': 2.35}\n",
      "{'loss': 0.257, 'grad_norm': 6.186976432800293, 'learning_rate': 1.1301590219689311e-05, 'epoch': 2.35}\n",
      "{'loss': 0.3636, 'grad_norm': 0.05956243351101875, 'learning_rate': 1.1255630113061863e-05, 'epoch': 2.35}\n",
      "{'loss': 0.7411, 'grad_norm': 8.964794158935547, 'learning_rate': 1.1209670006434415e-05, 'epoch': 2.36}\n",
      "{'loss': 0.1705, 'grad_norm': 0.29169273376464844, 'learning_rate': 1.1163709899806968e-05, 'epoch': 2.36}\n",
      "{'loss': 0.1418, 'grad_norm': 0.08842524141073227, 'learning_rate': 1.111774979317952e-05, 'epoch': 2.36}\n",
      "{'loss': 0.2736, 'grad_norm': 0.1184580847620964, 'learning_rate': 1.1071789686552074e-05, 'epoch': 2.36}\n",
      "{'loss': 0.0993, 'grad_norm': 0.05362691730260849, 'learning_rate': 1.1025829579924626e-05, 'epoch': 2.37}\n",
      "{'loss': 0.1843, 'grad_norm': 0.1784345507621765, 'learning_rate': 1.097986947329718e-05, 'epoch': 2.37}\n",
      "{'loss': 0.1163, 'grad_norm': 0.11886876821517944, 'learning_rate': 1.0933909366669731e-05, 'epoch': 2.37}\n",
      "{'loss': 0.3133, 'grad_norm': 0.1215483620762825, 'learning_rate': 1.0887949260042283e-05, 'epoch': 2.38}\n",
      "{'loss': 0.2998, 'grad_norm': 8.528485298156738, 'learning_rate': 1.0841989153414837e-05, 'epoch': 2.38}\n",
      "{'loss': 0.5665, 'grad_norm': 8.390902519226074, 'learning_rate': 1.0796029046787388e-05, 'epoch': 2.38}\n",
      "{'loss': 0.7425, 'grad_norm': 17.91914176940918, 'learning_rate': 1.0750068940159942e-05, 'epoch': 2.38}\n",
      "{'loss': 0.2746, 'grad_norm': 0.05005067214369774, 'learning_rate': 1.0704108833532494e-05, 'epoch': 2.39}\n",
      "{'loss': 0.6417, 'grad_norm': 0.18233655393123627, 'learning_rate': 1.0658148726905048e-05, 'epoch': 2.39}\n",
      "{'loss': 0.4121, 'grad_norm': 0.19831833243370056, 'learning_rate': 1.06121886202776e-05, 'epoch': 2.39}\n",
      "{'loss': 0.2776, 'grad_norm': 0.23679949343204498, 'learning_rate': 1.0566228513650151e-05, 'epoch': 2.39}\n",
      "{'loss': 0.2865, 'grad_norm': 0.2680017352104187, 'learning_rate': 1.0520268407022705e-05, 'epoch': 2.4}\n",
      "{'loss': 0.6732, 'grad_norm': 10.0206880569458, 'learning_rate': 1.0474308300395258e-05, 'epoch': 2.4}\n",
      "{'loss': 0.6328, 'grad_norm': 8.431120872497559, 'learning_rate': 1.042834819376781e-05, 'epoch': 2.4}\n",
      "{'loss': 0.5037, 'grad_norm': 8.306717872619629, 'learning_rate': 1.0382388087140362e-05, 'epoch': 2.4}\n",
      "{'loss': 0.0735, 'grad_norm': 0.24191436171531677, 'learning_rate': 1.0336427980512916e-05, 'epoch': 2.41}\n",
      "{'loss': 0.2081, 'grad_norm': 0.13421069085597992, 'learning_rate': 1.0290467873885468e-05, 'epoch': 2.41}\n",
      "{'loss': 0.2182, 'grad_norm': 0.2301042526960373, 'learning_rate': 1.024450776725802e-05, 'epoch': 2.41}\n",
      "{'loss': 0.2912, 'grad_norm': 0.5241031050682068, 'learning_rate': 1.0198547660630573e-05, 'epoch': 2.41}\n",
      "{'loss': 0.1096, 'grad_norm': 15.237407684326172, 'learning_rate': 1.0152587554003127e-05, 'epoch': 2.42}\n",
      "{'loss': 0.1885, 'grad_norm': 21.809837341308594, 'learning_rate': 1.0106627447375679e-05, 'epoch': 2.42}\n",
      "{'loss': 0.2417, 'grad_norm': 0.16553878784179688, 'learning_rate': 1.006066734074823e-05, 'epoch': 2.42}\n",
      "{'loss': 0.4369, 'grad_norm': 0.10270854830741882, 'learning_rate': 1.0014707234120784e-05, 'epoch': 2.43}\n",
      "{'loss': 0.4426, 'grad_norm': 0.5234276652336121, 'learning_rate': 9.968747127493336e-06, 'epoch': 2.43}\n",
      "{'loss': 1.0954, 'grad_norm': 15.603373527526855, 'learning_rate': 9.922787020865888e-06, 'epoch': 2.43}\n",
      "{'loss': 0.3675, 'grad_norm': 0.3433663249015808, 'learning_rate': 9.876826914238442e-06, 'epoch': 2.43}\n",
      "{'loss': 0.0362, 'grad_norm': 0.8229198455810547, 'learning_rate': 9.830866807610995e-06, 'epoch': 2.44}\n",
      "{'loss': 0.1949, 'grad_norm': 0.19672419130802155, 'learning_rate': 9.784906700983547e-06, 'epoch': 2.44}\n",
      "{'loss': 0.3986, 'grad_norm': 0.10136019438505173, 'learning_rate': 9.738946594356099e-06, 'epoch': 2.44}\n",
      "{'loss': 0.533, 'grad_norm': 33.74458694458008, 'learning_rate': 9.692986487728652e-06, 'epoch': 2.44}\n",
      "{'loss': 0.2959, 'grad_norm': 0.32626405358314514, 'learning_rate': 9.647026381101204e-06, 'epoch': 2.45}\n",
      "{'loss': 0.009, 'grad_norm': 0.12446845322847366, 'learning_rate': 9.601066274473758e-06, 'epoch': 2.45}\n",
      "{'loss': 0.5648, 'grad_norm': 0.6885443329811096, 'learning_rate': 9.55510616784631e-06, 'epoch': 2.45}\n",
      "{'loss': 0.0741, 'grad_norm': 0.1370304524898529, 'learning_rate': 9.509146061218863e-06, 'epoch': 2.45}\n",
      "{'loss': 0.3035, 'grad_norm': 0.05587184429168701, 'learning_rate': 9.463185954591415e-06, 'epoch': 2.46}\n",
      "{'loss': 0.4247, 'grad_norm': 0.16336128115653992, 'learning_rate': 9.417225847963967e-06, 'epoch': 2.46}\n",
      "{'loss': 0.2922, 'grad_norm': 0.07134513556957245, 'learning_rate': 9.371265741336519e-06, 'epoch': 2.46}\n",
      "{'loss': 0.6501, 'grad_norm': 16.213834762573242, 'learning_rate': 9.325305634709074e-06, 'epoch': 2.47}\n",
      "{'loss': 0.3535, 'grad_norm': 0.06234416738152504, 'learning_rate': 9.279345528081626e-06, 'epoch': 2.47}\n",
      "{'loss': 0.3467, 'grad_norm': 8.074348449707031, 'learning_rate': 9.233385421454178e-06, 'epoch': 2.47}\n",
      "{'loss': 0.4777, 'grad_norm': 0.17895399034023285, 'learning_rate': 9.18742531482673e-06, 'epoch': 2.47}\n",
      "{'loss': 0.6762, 'grad_norm': 8.867947578430176, 'learning_rate': 9.141465208199284e-06, 'epoch': 2.48}\n",
      "{'loss': 0.1564, 'grad_norm': 0.18938712775707245, 'learning_rate': 9.095505101571836e-06, 'epoch': 2.48}\n",
      "{'loss': 0.1508, 'grad_norm': 0.08505893498659134, 'learning_rate': 9.049544994944387e-06, 'epoch': 2.48}\n",
      "{'loss': 0.3026, 'grad_norm': 0.08017684519290924, 'learning_rate': 9.003584888316943e-06, 'epoch': 2.48}\n",
      "{'loss': 0.2797, 'grad_norm': 0.09196894615888596, 'learning_rate': 8.957624781689495e-06, 'epoch': 2.49}\n",
      "{'loss': 0.1608, 'grad_norm': 0.12283825129270554, 'learning_rate': 8.911664675062046e-06, 'epoch': 2.49}\n",
      "{'loss': 0.332, 'grad_norm': 23.061466217041016, 'learning_rate': 8.865704568434598e-06, 'epoch': 2.49}\n",
      "{'loss': 0.4372, 'grad_norm': 8.387786865234375, 'learning_rate': 8.819744461807152e-06, 'epoch': 2.49}\n",
      "{'loss': 0.5113, 'grad_norm': 0.09728280454874039, 'learning_rate': 8.773784355179704e-06, 'epoch': 2.5}\n",
      "{'loss': 0.5326, 'grad_norm': 43.767662048339844, 'learning_rate': 8.727824248552257e-06, 'epoch': 2.5}\n",
      "{'loss': 0.1906, 'grad_norm': 0.19406503438949585, 'learning_rate': 8.68186414192481e-06, 'epoch': 2.5}\n",
      "{'loss': 0.3672, 'grad_norm': 0.07267807424068451, 'learning_rate': 8.635904035297363e-06, 'epoch': 2.5}\n",
      "{'loss': 0.2965, 'grad_norm': 0.21163205802440643, 'learning_rate': 8.589943928669915e-06, 'epoch': 2.51}\n",
      "{'loss': 0.6164, 'grad_norm': 9.414619445800781, 'learning_rate': 8.543983822042467e-06, 'epoch': 2.51}\n",
      "{'loss': 0.1107, 'grad_norm': 4.45574426651001, 'learning_rate': 8.49802371541502e-06, 'epoch': 2.51}\n",
      "{'loss': 0.4085, 'grad_norm': 0.07622185349464417, 'learning_rate': 8.452063608787574e-06, 'epoch': 2.52}\n",
      "{'loss': 0.1069, 'grad_norm': 19.445213317871094, 'learning_rate': 8.406103502160126e-06, 'epoch': 2.52}\n",
      "{'loss': 0.461, 'grad_norm': 0.23954464495182037, 'learning_rate': 8.360143395532678e-06, 'epoch': 2.52}\n",
      "{'loss': 0.1764, 'grad_norm': 0.18363116681575775, 'learning_rate': 8.314183288905231e-06, 'epoch': 2.52}\n",
      "{'loss': 0.1967, 'grad_norm': 8.555619239807129, 'learning_rate': 8.268223182277783e-06, 'epoch': 2.53}\n",
      "{'loss': 0.5917, 'grad_norm': 0.05666588619351387, 'learning_rate': 8.222263075650335e-06, 'epoch': 2.53}\n",
      "{'loss': 0.1031, 'grad_norm': 0.41819918155670166, 'learning_rate': 8.176302969022889e-06, 'epoch': 2.53}\n",
      "{'loss': 0.1351, 'grad_norm': 4.788816928863525, 'learning_rate': 8.130342862395442e-06, 'epoch': 2.53}\n",
      "{'loss': 0.3325, 'grad_norm': 9.13120174407959, 'learning_rate': 8.084382755767994e-06, 'epoch': 2.54}\n",
      "{'loss': 0.4165, 'grad_norm': 0.06892426311969757, 'learning_rate': 8.038422649140546e-06, 'epoch': 2.54}\n",
      "{'loss': 0.5263, 'grad_norm': 0.2196459025144577, 'learning_rate': 7.9924625425131e-06, 'epoch': 2.54}\n",
      "{'loss': 0.4221, 'grad_norm': 22.527231216430664, 'learning_rate': 7.946502435885651e-06, 'epoch': 2.54}\n",
      "{'loss': 0.2354, 'grad_norm': 0.07377667725086212, 'learning_rate': 7.900542329258203e-06, 'epoch': 2.55}\n",
      "{'loss': 0.0982, 'grad_norm': 0.09011800587177277, 'learning_rate': 7.854582222630757e-06, 'epoch': 2.55}\n",
      "{'loss': 0.3138, 'grad_norm': 147.5350799560547, 'learning_rate': 7.80862211600331e-06, 'epoch': 2.55}\n",
      "{'loss': 0.3884, 'grad_norm': 0.25043800473213196, 'learning_rate': 7.762662009375862e-06, 'epoch': 2.55}\n",
      "{'loss': 0.021, 'grad_norm': 0.06711176782846451, 'learning_rate': 7.716701902748414e-06, 'epoch': 2.56}\n",
      "{'loss': 0.0959, 'grad_norm': 0.19586385786533356, 'learning_rate': 7.670741796120968e-06, 'epoch': 2.56}\n",
      "{'loss': 0.5233, 'grad_norm': 0.12880930304527283, 'learning_rate': 7.62478168949352e-06, 'epoch': 2.56}\n",
      "{'loss': 0.2659, 'grad_norm': 11.491814613342285, 'learning_rate': 7.578821582866073e-06, 'epoch': 2.57}\n",
      "{'loss': 0.234, 'grad_norm': 7.4984636306762695, 'learning_rate': 7.532861476238626e-06, 'epoch': 2.57}\n",
      "{'loss': 0.2077, 'grad_norm': 8.063232421875, 'learning_rate': 7.486901369611178e-06, 'epoch': 2.57}\n",
      "{'loss': 0.2167, 'grad_norm': 30.853961944580078, 'learning_rate': 7.440941262983731e-06, 'epoch': 2.57}\n",
      "{'loss': 0.3473, 'grad_norm': 10.986330032348633, 'learning_rate': 7.3949811563562826e-06, 'epoch': 2.58}\n",
      "{'loss': 0.6149, 'grad_norm': 10.081730842590332, 'learning_rate': 7.349021049728835e-06, 'epoch': 2.58}\n",
      "{'loss': 0.2245, 'grad_norm': 0.23670214414596558, 'learning_rate': 7.303060943101388e-06, 'epoch': 2.58}\n",
      "{'loss': 0.7053, 'grad_norm': 0.08466843515634537, 'learning_rate': 7.257100836473942e-06, 'epoch': 2.58}\n",
      "{'loss': 0.4798, 'grad_norm': 15.935349464416504, 'learning_rate': 7.2111407298464935e-06, 'epoch': 2.59}\n",
      "{'loss': 0.8323, 'grad_norm': 0.3550892472267151, 'learning_rate': 7.165180623219046e-06, 'epoch': 2.59}\n",
      "{'loss': 0.4353, 'grad_norm': 0.40010181069374084, 'learning_rate': 7.119220516591599e-06, 'epoch': 2.59}\n",
      "{'loss': 0.4357, 'grad_norm': 8.446240425109863, 'learning_rate': 7.073260409964151e-06, 'epoch': 2.59}\n",
      "{'loss': 0.1071, 'grad_norm': 0.6821332573890686, 'learning_rate': 7.027300303336704e-06, 'epoch': 2.6}\n",
      "{'loss': 0.4602, 'grad_norm': 8.429927825927734, 'learning_rate': 6.981340196709257e-06, 'epoch': 2.6}\n",
      "{'loss': 0.2431, 'grad_norm': 0.10439372807741165, 'learning_rate': 6.93538009008181e-06, 'epoch': 2.6}\n",
      "{'loss': 0.17, 'grad_norm': 0.12222594767808914, 'learning_rate': 6.889419983454362e-06, 'epoch': 2.6}\n",
      "{'loss': 0.4432, 'grad_norm': 0.0651533380150795, 'learning_rate': 6.8434598768269146e-06, 'epoch': 2.61}\n",
      "{'loss': 0.0572, 'grad_norm': 0.0848333016037941, 'learning_rate': 6.797499770199467e-06, 'epoch': 2.61}\n",
      "{'loss': 0.353, 'grad_norm': 65.12435150146484, 'learning_rate': 6.751539663572019e-06, 'epoch': 2.61}\n",
      "{'loss': 0.4209, 'grad_norm': 0.0492757149040699, 'learning_rate': 6.705579556944572e-06, 'epoch': 2.62}\n",
      "{'loss': 0.1424, 'grad_norm': 0.06393805146217346, 'learning_rate': 6.6596194503171255e-06, 'epoch': 2.62}\n",
      "{'loss': 0.5699, 'grad_norm': 0.3277409076690674, 'learning_rate': 6.613659343689678e-06, 'epoch': 2.62}\n",
      "{'loss': 0.2456, 'grad_norm': 8.840088844299316, 'learning_rate': 6.56769923706223e-06, 'epoch': 2.62}\n",
      "{'loss': 0.1746, 'grad_norm': 0.20569981634616852, 'learning_rate': 6.521739130434783e-06, 'epoch': 2.63}\n",
      "{'loss': 0.0631, 'grad_norm': 0.08919261395931244, 'learning_rate': 6.475779023807335e-06, 'epoch': 2.63}\n",
      "{'loss': 0.2835, 'grad_norm': 0.054187238216400146, 'learning_rate': 6.4298189171798875e-06, 'epoch': 2.63}\n",
      "{'loss': 0.1313, 'grad_norm': 0.13205355405807495, 'learning_rate': 6.383858810552441e-06, 'epoch': 2.63}\n",
      "{'loss': 0.6204, 'grad_norm': 3.1234352588653564, 'learning_rate': 6.337898703924994e-06, 'epoch': 2.64}\n",
      "{'loss': 0.1145, 'grad_norm': 4.8408918380737305, 'learning_rate': 6.291938597297546e-06, 'epoch': 2.64}\n",
      "{'loss': 0.4129, 'grad_norm': 59.38232421875, 'learning_rate': 6.2459784906700985e-06, 'epoch': 2.64}\n",
      "{'loss': 0.1005, 'grad_norm': 0.03360377252101898, 'learning_rate': 6.200018384042651e-06, 'epoch': 2.64}\n",
      "{'loss': 0.4799, 'grad_norm': 0.5125327110290527, 'learning_rate': 6.154058277415204e-06, 'epoch': 2.65}\n",
      "{'loss': 0.6112, 'grad_norm': 8.060994148254395, 'learning_rate': 6.108098170787757e-06, 'epoch': 2.65}\n",
      "{'loss': 0.3652, 'grad_norm': 0.046525612473487854, 'learning_rate': 6.0621380641603086e-06, 'epoch': 2.65}\n",
      "{'loss': 0.243, 'grad_norm': 16.95578384399414, 'learning_rate': 6.016177957532862e-06, 'epoch': 2.65}\n",
      "{'loss': 0.6124, 'grad_norm': 0.09883327037096024, 'learning_rate': 5.970217850905414e-06, 'epoch': 2.66}\n",
      "{'loss': 0.2374, 'grad_norm': 0.10697045177221298, 'learning_rate': 5.924257744277967e-06, 'epoch': 2.66}\n",
      "{'loss': 0.4268, 'grad_norm': 76.58485412597656, 'learning_rate': 5.8782976376505195e-06, 'epoch': 2.66}\n",
      "{'loss': 0.3132, 'grad_norm': 0.10248949378728867, 'learning_rate': 5.832337531023072e-06, 'epoch': 2.67}\n",
      "{'loss': 0.103, 'grad_norm': 0.746354877948761, 'learning_rate': 5.786377424395625e-06, 'epoch': 2.67}\n",
      "{'loss': 0.4669, 'grad_norm': 0.10004518926143646, 'learning_rate': 5.740417317768178e-06, 'epoch': 2.67}\n",
      "{'loss': 0.2986, 'grad_norm': 17.356046676635742, 'learning_rate': 5.6944572111407305e-06, 'epoch': 2.67}\n",
      "{'loss': 0.5377, 'grad_norm': 0.09279724955558777, 'learning_rate': 5.648497104513282e-06, 'epoch': 2.68}\n",
      "{'loss': 0.0565, 'grad_norm': 0.27132686972618103, 'learning_rate': 5.602536997885836e-06, 'epoch': 2.68}\n",
      "{'loss': 0.5192, 'grad_norm': 2.799229383468628, 'learning_rate': 5.556576891258388e-06, 'epoch': 2.68}\n",
      "{'loss': 0.1908, 'grad_norm': 0.047324519604444504, 'learning_rate': 5.5106167846309406e-06, 'epoch': 2.68}\n",
      "{'loss': 0.2768, 'grad_norm': 0.1550305038690567, 'learning_rate': 5.464656678003493e-06, 'epoch': 2.69}\n",
      "{'loss': 0.357, 'grad_norm': 0.08374130725860596, 'learning_rate': 5.418696571376046e-06, 'epoch': 2.69}\n",
      "{'loss': 0.1681, 'grad_norm': 0.2004576176404953, 'learning_rate': 5.372736464748599e-06, 'epoch': 2.69}\n",
      "{'loss': 0.6017, 'grad_norm': 1.3092294931411743, 'learning_rate': 5.326776358121151e-06, 'epoch': 2.69}\n",
      "{'loss': 0.4661, 'grad_norm': 8.453659057617188, 'learning_rate': 5.280816251493704e-06, 'epoch': 2.7}\n",
      "{'loss': 0.204, 'grad_norm': 0.25271841883659363, 'learning_rate': 5.234856144866256e-06, 'epoch': 2.7}\n",
      "{'loss': 0.505, 'grad_norm': 0.22894659638404846, 'learning_rate': 5.188896038238809e-06, 'epoch': 2.7}\n",
      "{'loss': 0.3045, 'grad_norm': 0.055315613746643066, 'learning_rate': 5.142935931611362e-06, 'epoch': 2.7}\n",
      "{'loss': 0.0484, 'grad_norm': 0.17023450136184692, 'learning_rate': 5.096975824983914e-06, 'epoch': 2.71}\n",
      "{'loss': 0.1524, 'grad_norm': 0.06456952542066574, 'learning_rate': 5.051015718356466e-06, 'epoch': 2.71}\n",
      "{'loss': 0.2545, 'grad_norm': 0.40725868940353394, 'learning_rate': 5.00505561172902e-06, 'epoch': 2.71}\n",
      "{'loss': 0.1549, 'grad_norm': 1.699375033378601, 'learning_rate': 4.959095505101572e-06, 'epoch': 2.72}\n",
      "{'loss': 0.2788, 'grad_norm': 0.06595718860626221, 'learning_rate': 4.9131353984741245e-06, 'epoch': 2.72}\n",
      "{'loss': 0.3731, 'grad_norm': 4.9043755531311035, 'learning_rate': 4.867175291846677e-06, 'epoch': 2.72}\n",
      "{'loss': 0.4381, 'grad_norm': 0.2761150002479553, 'learning_rate': 4.82121518521923e-06, 'epoch': 2.72}\n",
      "{'loss': 0.1739, 'grad_norm': 13.786239624023438, 'learning_rate': 4.775255078591783e-06, 'epoch': 2.73}\n",
      "{'loss': 0.3562, 'grad_norm': 0.24015626311302185, 'learning_rate': 4.729294971964335e-06, 'epoch': 2.73}\n",
      "{'loss': 0.4162, 'grad_norm': 0.3569066524505615, 'learning_rate': 4.683334865336888e-06, 'epoch': 2.73}\n",
      "{'loss': 0.1867, 'grad_norm': 5.018038272857666, 'learning_rate': 4.63737475870944e-06, 'epoch': 2.73}\n",
      "{'loss': 0.1933, 'grad_norm': 0.10501513630151749, 'learning_rate': 4.591414652081994e-06, 'epoch': 2.74}\n",
      "{'loss': 0.0332, 'grad_norm': 0.12267249077558517, 'learning_rate': 4.5454545454545455e-06, 'epoch': 2.74}\n",
      "{'loss': 0.2302, 'grad_norm': 22.61079216003418, 'learning_rate': 4.499494438827098e-06, 'epoch': 2.74}\n",
      "{'loss': 0.4556, 'grad_norm': 0.11259312182664871, 'learning_rate': 4.453534332199651e-06, 'epoch': 2.74}\n",
      "{'loss': 0.2671, 'grad_norm': 0.24101781845092773, 'learning_rate': 4.407574225572204e-06, 'epoch': 2.75}\n",
      "{'loss': 0.5903, 'grad_norm': 1.3320705890655518, 'learning_rate': 4.3616141189447565e-06, 'epoch': 2.75}\n",
      "{'loss': 0.6399, 'grad_norm': 0.08371836692094803, 'learning_rate': 4.315654012317308e-06, 'epoch': 2.75}\n",
      "{'loss': 0.0073, 'grad_norm': 0.06938136368989944, 'learning_rate': 4.269693905689862e-06, 'epoch': 2.76}\n",
      "{'loss': 0.2893, 'grad_norm': 0.10644915699958801, 'learning_rate': 4.223733799062414e-06, 'epoch': 2.76}\n",
      "{'loss': 0.4461, 'grad_norm': 0.20120437443256378, 'learning_rate': 4.1777736924349666e-06, 'epoch': 2.76}\n",
      "{'loss': 0.2879, 'grad_norm': 0.07402199506759644, 'learning_rate': 4.131813585807519e-06, 'epoch': 2.76}\n",
      "{'loss': 0.2686, 'grad_norm': 8.532334327697754, 'learning_rate': 4.085853479180072e-06, 'epoch': 2.77}\n",
      "{'loss': 0.3615, 'grad_norm': 45.90287780761719, 'learning_rate': 4.039893372552624e-06, 'epoch': 2.77}\n",
      "{'loss': 0.1181, 'grad_norm': 0.20184533298015594, 'learning_rate': 3.9939332659251775e-06, 'epoch': 2.77}\n",
      "{'loss': 0.3175, 'grad_norm': 26.02800750732422, 'learning_rate': 3.947973159297729e-06, 'epoch': 2.77}\n",
      "{'loss': 0.3564, 'grad_norm': 0.18998438119888306, 'learning_rate': 3.902013052670282e-06, 'epoch': 2.78}\n",
      "{'loss': 0.5873, 'grad_norm': 0.13161543011665344, 'learning_rate': 3.856052946042836e-06, 'epoch': 2.78}\n",
      "{'loss': 0.1699, 'grad_norm': 0.13893786072731018, 'learning_rate': 3.8100928394153876e-06, 'epoch': 2.78}\n",
      "{'loss': 0.2524, 'grad_norm': 0.09167942404747009, 'learning_rate': 3.76413273278794e-06, 'epoch': 2.78}\n",
      "{'loss': 0.2341, 'grad_norm': 0.11942058056592941, 'learning_rate': 3.7181726261604927e-06, 'epoch': 2.79}\n",
      "{'loss': 0.1319, 'grad_norm': 0.1604834496974945, 'learning_rate': 3.6722125195330454e-06, 'epoch': 2.79}\n",
      "{'loss': 0.2584, 'grad_norm': 17.527231216430664, 'learning_rate': 3.626252412905598e-06, 'epoch': 2.79}\n",
      "{'loss': 0.275, 'grad_norm': 0.2292306125164032, 'learning_rate': 3.5802923062781505e-06, 'epoch': 2.79}\n",
      "{'loss': 0.227, 'grad_norm': 0.09605274349451065, 'learning_rate': 3.5343321996507036e-06, 'epoch': 2.8}\n",
      "{'loss': 0.2972, 'grad_norm': 26.800508499145508, 'learning_rate': 3.488372093023256e-06, 'epoch': 2.8}\n",
      "{'loss': 0.0553, 'grad_norm': 1.3126790523529053, 'learning_rate': 3.4424119863958083e-06, 'epoch': 2.8}\n",
      "{'loss': 0.4091, 'grad_norm': 0.11234632879495621, 'learning_rate': 3.3964518797683614e-06, 'epoch': 2.81}\n",
      "{'loss': 0.3324, 'grad_norm': 7.076684951782227, 'learning_rate': 3.3504917731409137e-06, 'epoch': 2.81}\n",
      "{'loss': 0.28, 'grad_norm': 0.07687849551439285, 'learning_rate': 3.304531666513466e-06, 'epoch': 2.81}\n",
      "{'loss': 0.1879, 'grad_norm': 0.1263878345489502, 'learning_rate': 3.258571559886019e-06, 'epoch': 2.81}\n",
      "{'loss': 0.3176, 'grad_norm': 7.119980335235596, 'learning_rate': 3.212611453258572e-06, 'epoch': 2.82}\n",
      "{'loss': 0.0123, 'grad_norm': 0.048421211540699005, 'learning_rate': 3.1666513466311243e-06, 'epoch': 2.82}\n",
      "{'loss': 0.2079, 'grad_norm': 20.492965698242188, 'learning_rate': 3.120691240003677e-06, 'epoch': 2.82}\n",
      "{'loss': 0.2718, 'grad_norm': 0.166056290268898, 'learning_rate': 3.0747311333762297e-06, 'epoch': 2.82}\n",
      "{'loss': 0.0937, 'grad_norm': 0.3035849630832672, 'learning_rate': 3.028771026748782e-06, 'epoch': 2.83}\n",
      "{'loss': 0.3517, 'grad_norm': 20.867115020751953, 'learning_rate': 2.9828109201213348e-06, 'epoch': 2.83}\n",
      "{'loss': 0.1378, 'grad_norm': 0.16331332921981812, 'learning_rate': 2.9368508134938875e-06, 'epoch': 2.83}\n",
      "{'loss': 0.3245, 'grad_norm': 0.23887453973293304, 'learning_rate': 2.89089070686644e-06, 'epoch': 2.83}\n",
      "{'loss': 0.5713, 'grad_norm': 0.05536237359046936, 'learning_rate': 2.8449306002389926e-06, 'epoch': 2.84}\n",
      "{'loss': 0.2905, 'grad_norm': 33.35958480834961, 'learning_rate': 2.7989704936115453e-06, 'epoch': 2.84}\n",
      "{'loss': 0.0294, 'grad_norm': 0.04020196571946144, 'learning_rate': 2.753010386984098e-06, 'epoch': 2.84}\n",
      "{'loss': 0.0963, 'grad_norm': 11.415750503540039, 'learning_rate': 2.7070502803566508e-06, 'epoch': 2.84}\n",
      "{'loss': 0.7351, 'grad_norm': 19.43488121032715, 'learning_rate': 2.661090173729203e-06, 'epoch': 2.85}\n",
      "{'loss': 0.3529, 'grad_norm': 0.16266849637031555, 'learning_rate': 2.615130067101756e-06, 'epoch': 2.85}\n",
      "{'loss': 0.222, 'grad_norm': 0.05646757781505585, 'learning_rate': 2.5691699604743086e-06, 'epoch': 2.85}\n",
      "{'loss': 0.1951, 'grad_norm': 0.28522929549217224, 'learning_rate': 2.523209853846861e-06, 'epoch': 2.86}\n",
      "{'loss': 0.3677, 'grad_norm': 0.04586557671427727, 'learning_rate': 2.4772497472194136e-06, 'epoch': 2.86}\n",
      "{'loss': 0.2977, 'grad_norm': 8.21155071258545, 'learning_rate': 2.4312896405919664e-06, 'epoch': 2.86}\n",
      "{'loss': 0.5969, 'grad_norm': 0.1497681736946106, 'learning_rate': 2.3853295339645187e-06, 'epoch': 2.86}\n",
      "{'loss': 0.222, 'grad_norm': 8.498764038085938, 'learning_rate': 2.3393694273370714e-06, 'epoch': 2.87}\n",
      "{'loss': 0.6629, 'grad_norm': 8.38532829284668, 'learning_rate': 2.293409320709624e-06, 'epoch': 2.87}\n",
      "{'loss': 0.0707, 'grad_norm': 28.656517028808594, 'learning_rate': 2.247449214082177e-06, 'epoch': 2.87}\n",
      "{'loss': 0.4949, 'grad_norm': 0.06084765866398811, 'learning_rate': 2.2014891074547296e-06, 'epoch': 2.87}\n",
      "{'loss': 0.2709, 'grad_norm': 0.2861845791339874, 'learning_rate': 2.155529000827282e-06, 'epoch': 2.88}\n",
      "{'loss': 0.6911, 'grad_norm': 0.10274997353553772, 'learning_rate': 2.1095688941998347e-06, 'epoch': 2.88}\n",
      "{'loss': 0.3931, 'grad_norm': 0.18192750215530396, 'learning_rate': 2.0636087875723874e-06, 'epoch': 2.88}\n",
      "{'loss': 0.069, 'grad_norm': 0.18222039937973022, 'learning_rate': 2.0176486809449397e-06, 'epoch': 2.88}\n",
      "{'loss': 0.1764, 'grad_norm': 0.19629517197608948, 'learning_rate': 1.9716885743174925e-06, 'epoch': 2.89}\n",
      "{'loss': 0.0569, 'grad_norm': 0.10301373153924942, 'learning_rate': 1.925728467690045e-06, 'epoch': 2.89}\n",
      "{'loss': 0.7267, 'grad_norm': 2.6535651683807373, 'learning_rate': 1.8797683610625977e-06, 'epoch': 2.89}\n",
      "{'loss': 0.5089, 'grad_norm': 0.08186623454093933, 'learning_rate': 1.8338082544351505e-06, 'epoch': 2.89}\n",
      "{'loss': 0.5543, 'grad_norm': 0.2051028311252594, 'learning_rate': 1.7878481478077028e-06, 'epoch': 2.9}\n",
      "{'loss': 0.3525, 'grad_norm': 4.998347282409668, 'learning_rate': 1.7418880411802555e-06, 'epoch': 2.9}\n",
      "{'loss': 0.6071, 'grad_norm': 15.59055233001709, 'learning_rate': 1.6959279345528083e-06, 'epoch': 2.9}\n",
      "{'loss': 0.1785, 'grad_norm': 0.09454986453056335, 'learning_rate': 1.6499678279253608e-06, 'epoch': 2.91}\n",
      "{'loss': 0.0156, 'grad_norm': 0.9862273931503296, 'learning_rate': 1.6040077212979135e-06, 'epoch': 2.91}\n",
      "{'loss': 0.3194, 'grad_norm': 0.13038013875484467, 'learning_rate': 1.558047614670466e-06, 'epoch': 2.91}\n",
      "{'loss': 0.1615, 'grad_norm': 62.190269470214844, 'learning_rate': 1.5120875080430188e-06, 'epoch': 2.91}\n",
      "{'loss': 0.2089, 'grad_norm': 0.05962683632969856, 'learning_rate': 1.4661274014155713e-06, 'epoch': 2.92}\n",
      "{'loss': 0.5033, 'grad_norm': 0.07891213893890381, 'learning_rate': 1.420167294788124e-06, 'epoch': 2.92}\n",
      "{'loss': 0.2228, 'grad_norm': 7.806243896484375, 'learning_rate': 1.3742071881606766e-06, 'epoch': 2.92}\n",
      "{'loss': 0.5684, 'grad_norm': 13.164961814880371, 'learning_rate': 1.3282470815332293e-06, 'epoch': 2.92}\n",
      "{'loss': 0.5868, 'grad_norm': 21.785884857177734, 'learning_rate': 1.2822869749057818e-06, 'epoch': 2.93}\n",
      "{'loss': 0.2563, 'grad_norm': 27.796850204467773, 'learning_rate': 1.2363268682783344e-06, 'epoch': 2.93}\n",
      "{'loss': 0.1046, 'grad_norm': 0.34187549352645874, 'learning_rate': 1.190366761650887e-06, 'epoch': 2.93}\n",
      "{'loss': 0.652, 'grad_norm': 0.11053329706192017, 'learning_rate': 1.1444066550234398e-06, 'epoch': 2.93}\n",
      "{'loss': 0.2114, 'grad_norm': 35.91419982910156, 'learning_rate': 1.0984465483959924e-06, 'epoch': 2.94}\n",
      "{'loss': 0.2254, 'grad_norm': 12.712986946105957, 'learning_rate': 1.0524864417685449e-06, 'epoch': 2.94}\n",
      "{'loss': 0.0588, 'grad_norm': 0.14400102198123932, 'learning_rate': 1.0065263351410974e-06, 'epoch': 2.94}\n",
      "{'loss': 0.5802, 'grad_norm': 0.19652339816093445, 'learning_rate': 9.605662285136502e-07, 'epoch': 2.94}\n",
      "{'loss': 0.3575, 'grad_norm': 0.19158579409122467, 'learning_rate': 9.146061218862028e-07, 'epoch': 2.95}\n",
      "{'loss': 0.47, 'grad_norm': 9.810256958007812, 'learning_rate': 8.686460152587554e-07, 'epoch': 2.95}\n",
      "{'loss': 0.1582, 'grad_norm': 0.09576299041509628, 'learning_rate': 8.226859086313079e-07, 'epoch': 2.95}\n",
      "{'loss': 0.3301, 'grad_norm': 8.560858726501465, 'learning_rate': 7.767258020038607e-07, 'epoch': 2.96}\n",
      "{'loss': 0.5731, 'grad_norm': 9.105146408081055, 'learning_rate': 7.307656953764133e-07, 'epoch': 2.96}\n",
      "{'loss': 0.2842, 'grad_norm': 0.1384759545326233, 'learning_rate': 6.848055887489659e-07, 'epoch': 2.96}\n",
      "{'loss': 0.0071, 'grad_norm': 0.15350554883480072, 'learning_rate': 6.388454821215186e-07, 'epoch': 2.96}\n",
      "{'loss': 0.2561, 'grad_norm': 0.14136098325252533, 'learning_rate': 5.928853754940711e-07, 'epoch': 2.97}\n",
      "{'loss': 0.4253, 'grad_norm': 0.12087507545948029, 'learning_rate': 5.469252688666238e-07, 'epoch': 2.97}\n",
      "{'loss': 0.4611, 'grad_norm': 0.11566554754972458, 'learning_rate': 5.009651622391765e-07, 'epoch': 2.97}\n",
      "{'loss': 0.0662, 'grad_norm': 0.427552193403244, 'learning_rate': 4.5500505561172905e-07, 'epoch': 2.97}\n",
      "{'loss': 0.2113, 'grad_norm': 0.3937288522720337, 'learning_rate': 4.090449489842817e-07, 'epoch': 2.98}\n",
      "{'loss': 0.399, 'grad_norm': 1.625973105430603, 'learning_rate': 3.6308484235683426e-07, 'epoch': 2.98}\n",
      "{'loss': 0.1966, 'grad_norm': 0.0691438615322113, 'learning_rate': 3.171247357293869e-07, 'epoch': 2.98}\n",
      "{'loss': 0.5118, 'grad_norm': 8.518234252929688, 'learning_rate': 2.711646291019395e-07, 'epoch': 2.98}\n",
      "{'loss': 0.2939, 'grad_norm': 0.18770655989646912, 'learning_rate': 2.2520452247449213e-07, 'epoch': 2.99}\n",
      "{'loss': 0.3845, 'grad_norm': 0.1004488542675972, 'learning_rate': 1.792444158470448e-07, 'epoch': 2.99}\n",
      "{'loss': 0.1629, 'grad_norm': 0.06744513660669327, 'learning_rate': 1.332843092195974e-07, 'epoch': 2.99}\n",
      "{'loss': 0.0672, 'grad_norm': 0.10663649439811707, 'learning_rate': 8.732420259215003e-08, 'epoch': 2.99}\n",
      "{'loss': 0.4443, 'grad_norm': 23.775440216064453, 'learning_rate': 4.1364095964702645e-08, 'epoch': 3.0}\n"
     ]
    },
    {
     "data": {
      "application/vnd.jupyter.widget-view+json": {
       "model_id": "5e5e92fa6b004a35b59ee7a9eae43d88",
       "version_major": 2,
       "version_minor": 0
      },
      "text/plain": [
       "  0%|          | 0/949 [00:00<?, ?it/s]"
      ]
     },
     "metadata": {},
     "output_type": "display_data"
    },
    {
     "name": "stdout",
     "output_type": "stream",
     "text": [
      "{'eval_loss': 0.45807451009750366, 'eval_accuracy': 0.9016609543896652, 'eval_precision': 0.8817701488152675, 'eval_recall': 0.9016609543896652, 'eval_f1': 0.8893514607778616, 'eval_mse': 0.31795412602161877, 'eval_runtime': 10.3668, 'eval_samples_per_second': 365.881, 'eval_steps_per_second': 91.543, 'epoch': 3.0}\n",
      "{'train_runtime': 771.6544, 'train_samples_per_second': 58.981, 'train_steps_per_second': 14.746, 'train_loss': 0.4215389111126173, 'epoch': 3.0}\n"
     ]
    },
    {
     "data": {
      "text/plain": [
       "TrainOutput(global_step=11379, training_loss=0.4215389111126173, metrics={'train_runtime': 771.6544, 'train_samples_per_second': 58.981, 'train_steps_per_second': 14.746, 'total_flos': 1507327817598720.0, 'train_loss': 0.4215389111126173, 'epoch': 3.0})"
      ]
     },
     "execution_count": 9,
     "metadata": {},
     "output_type": "execute_result"
    }
   ],
   "source": [
    "model = DistilBertForSequenceClassification.from_pretrained(\"distilbert-base-uncased\", num_labels=5)\n",
    "trainer = Trainer(\n",
    "    model=model,\n",
    "    args=training_args,\n",
    "    train_dataset=train_data,\n",
    "    eval_dataset=test_data,\n",
    "    compute_metrics=compute_metrics,\n",
    ")\n",
    "trainer.train()\n"
   ]
  },
  {
   "cell_type": "code",
   "execution_count": 10,
   "metadata": {},
   "outputs": [
    {
     "data": {
      "application/vnd.jupyter.widget-view+json": {
       "model_id": "d28ab14374334bd0b85f0dd6d393e449",
       "version_major": 2,
       "version_minor": 0
      },
      "text/plain": [
       "  0%|          | 0/949 [00:00<?, ?it/s]"
      ]
     },
     "metadata": {},
     "output_type": "display_data"
    },
    {
     "name": "stdout",
     "output_type": "stream",
     "text": [
      "Evaluation Metrics: {'eval_loss': 0.4170862138271332, 'eval_accuracy': 0.9006063801740047, 'eval_precision': 0.8619565821826224, 'eval_recall': 0.9006063801740047, 'eval_f1': 0.8780502681070036, 'eval_mse': 0.3625098866332718, 'eval_runtime': 10.7474, 'eval_samples_per_second': 352.924, 'eval_steps_per_second': 88.301, 'epoch': 3.0}\n"
     ]
    }
   ],
   "source": [
    "# Evaluate the model\n",
    "eval_results = trainer.evaluate()\n",
    "print(\"Evaluation Metrics:\", eval_results)\n"
   ]
  },
  {
   "cell_type": "code",
   "execution_count": 11,
   "metadata": {},
   "outputs": [
    {
     "data": {
      "text/plain": [
       "('model_saved\\\\tokenizer_config.json',\n",
       " 'model_saved\\\\special_tokens_map.json',\n",
       " 'model_saved\\\\vocab.txt',\n",
       " 'model_saved\\\\added_tokens.json')"
      ]
     },
     "execution_count": 11,
     "metadata": {},
     "output_type": "execute_result"
    }
   ],
   "source": [
    "# Save the trained model and tokenizer\n",
    "model.save_pretrained(\"model_saved\")\n",
    "tokenizer.save_pretrained(\"model_saved\")\n"
   ]
  },
  {
   "cell_type": "markdown",
   "metadata": {},
   "source": [
    "## Labelizing the concat-rev with predicted ratings"
   ]
  },
  {
   "cell_type": "code",
   "execution_count": 13,
   "metadata": {},
   "outputs": [
    {
     "data": {
      "text/plain": [
       "DistilBertForSequenceClassification(\n",
       "  (distilbert): DistilBertModel(\n",
       "    (embeddings): Embeddings(\n",
       "      (word_embeddings): Embedding(30522, 768, padding_idx=0)\n",
       "      (position_embeddings): Embedding(512, 768)\n",
       "      (LayerNorm): LayerNorm((768,), eps=1e-12, elementwise_affine=True)\n",
       "      (dropout): Dropout(p=0.1, inplace=False)\n",
       "    )\n",
       "    (transformer): Transformer(\n",
       "      (layer): ModuleList(\n",
       "        (0-5): 6 x TransformerBlock(\n",
       "          (attention): DistilBertSdpaAttention(\n",
       "            (dropout): Dropout(p=0.1, inplace=False)\n",
       "            (q_lin): Linear(in_features=768, out_features=768, bias=True)\n",
       "            (k_lin): Linear(in_features=768, out_features=768, bias=True)\n",
       "            (v_lin): Linear(in_features=768, out_features=768, bias=True)\n",
       "            (out_lin): Linear(in_features=768, out_features=768, bias=True)\n",
       "          )\n",
       "          (sa_layer_norm): LayerNorm((768,), eps=1e-12, elementwise_affine=True)\n",
       "          (ffn): FFN(\n",
       "            (dropout): Dropout(p=0.1, inplace=False)\n",
       "            (lin1): Linear(in_features=768, out_features=3072, bias=True)\n",
       "            (lin2): Linear(in_features=3072, out_features=768, bias=True)\n",
       "            (activation): GELUActivation()\n",
       "          )\n",
       "          (output_layer_norm): LayerNorm((768,), eps=1e-12, elementwise_affine=True)\n",
       "        )\n",
       "      )\n",
       "    )\n",
       "  )\n",
       "  (pre_classifier): Linear(in_features=768, out_features=768, bias=True)\n",
       "  (classifier): Linear(in_features=768, out_features=5, bias=True)\n",
       "  (dropout): Dropout(p=0.2, inplace=False)\n",
       ")"
      ]
     },
     "execution_count": 13,
     "metadata": {},
     "output_type": "execute_result"
    }
   ],
   "source": [
    "from transformers import DistilBertTokenizer, DistilBertForSequenceClassification\n",
    "import torch\n",
    "import pandas as pd\n",
    "\n",
    "model = DistilBertForSequenceClassification.from_pretrained(\"./model_saved\")\n",
    "tokenizer = DistilBertTokenizer.from_pretrained(\"./model_saved\")\n",
    "device = torch.device(\"cuda\" if torch.cuda.is_available() else \"cpu\")\n",
    "model.to(device)\n",
    "model.eval()\n",
    "\n"
   ]
  },
  {
   "cell_type": "code",
   "execution_count": 14,
   "metadata": {},
   "outputs": [],
   "source": [
    "torch.cuda.empty_cache()"
   ]
  },
  {
   "cell_type": "code",
   "execution_count": 15,
   "metadata": {},
   "outputs": [],
   "source": [
    "def predict_score(text):\n",
    "    inputs = tokenizer(\n",
    "        text,\n",
    "        padding=\"max_length\",\n",
    "        truncation=True,\n",
    "        max_length=128,\n",
    "        return_tensors=\"pt\"\n",
    "    )\n",
    "    inputs = {key: val.to(device) for key, val in inputs.items()}\n",
    "    with torch.no_grad():\n",
    "        outputs = model(**inputs)\n",
    "        logits = outputs.logits\n",
    "        predicted_class = torch.argmax(logits, dim=-1).item() \n",
    "\n",
    "    return predicted_class\n"
   ]
  },
  {
   "cell_type": "code",
   "execution_count": 16,
   "metadata": {},
   "outputs": [
    {
     "name": "stdout",
     "output_type": "stream",
     "text": [
      "   Unnamed: 0                                     title  \\\n",
      "0           0                           A great finding   \n",
      "1           1                              Good choice!   \n",
      "2           2  Its a really good site when you need to…   \n",
      "3           3                    This was a great hotel   \n",
      "4           4                            Friendly staff   \n",
      "\n",
      "                                                body  \\\n",
      "0  much known like otis really worth book rooms w...   \n",
      "1  easy booking process wide selection hotels eve...   \n",
      "2  really good site need book several rooms wants...   \n",
      "3  great hotel comfortable perfect short staysthe...   \n",
      "4   friendly staff good location clean spacious room   \n",
      "\n",
      "                                    date language source classif_result  \\\n",
      "0  Date of experience: December 17, 2024       en    HRS          value   \n",
      "1  Date of experience: December 16, 2024       en    HRS          rooms   \n",
      "2  Date of experience: December 16, 2024       en    HRS          rooms   \n",
      "3  Date of experience: November 18, 2024       en    HRS          rooms   \n",
      "4  Date of experience: December 11, 2024       en    HRS    cleanliness   \n",
      "\n",
      "  sentiment_result  \n",
      "0         Positive  \n",
      "1         Positive  \n",
      "2         Positive  \n",
      "3         Positive  \n",
      "4         Positive  \n"
     ]
    }
   ],
   "source": [
    "unlabelled_data = pd.read_csv(\"./nlp_results/rev_topic_sentiment.csv\")\n",
    "print(unlabelled_data.head())\n",
    "text_data = unlabelled_data['body'].astype(str)\n",
    "predicted_scores = []\n",
    "for text in text_data:\n",
    "    score = predict_score(text)\n",
    "    predicted_scores.append(score)\n",
    "\n",
    "unlabelled_data['predicted_score'] = predicted_scores\n",
    "unlabelled_data.to_csv(\"./nlp_results/rev_topic_sentiment_rating.csv\", index=False)\n"
   ]
  },
  {
   "cell_type": "markdown",
   "metadata": {},
   "source": [
    "## Visualisation after processing via the models"
   ]
  },
  {
   "cell_type": "code",
   "execution_count": 23,
   "metadata": {},
   "outputs": [
    {
     "data": {
      "text/html": [
       "<div>\n",
       "<style scoped>\n",
       "    .dataframe tbody tr th:only-of-type {\n",
       "        vertical-align: middle;\n",
       "    }\n",
       "\n",
       "    .dataframe tbody tr th {\n",
       "        vertical-align: top;\n",
       "    }\n",
       "\n",
       "    .dataframe thead th {\n",
       "        text-align: right;\n",
       "    }\n",
       "</style>\n",
       "<table border=\"1\" class=\"dataframe\">\n",
       "  <thead>\n",
       "    <tr style=\"text-align: right;\">\n",
       "      <th></th>\n",
       "      <th>Unnamed: 0</th>\n",
       "      <th>title</th>\n",
       "      <th>body</th>\n",
       "      <th>date</th>\n",
       "      <th>language</th>\n",
       "      <th>source</th>\n",
       "      <th>classif_result</th>\n",
       "      <th>sentiment_result</th>\n",
       "      <th>predicted_score</th>\n",
       "    </tr>\n",
       "  </thead>\n",
       "  <tbody>\n",
       "    <tr>\n",
       "      <th>0</th>\n",
       "      <td>0</td>\n",
       "      <td>A great finding</td>\n",
       "      <td>much known like otis really worth book rooms w...</td>\n",
       "      <td>Date of experience: December 17, 2024</td>\n",
       "      <td>en</td>\n",
       "      <td>HRS</td>\n",
       "      <td>value</td>\n",
       "      <td>Positive</td>\n",
       "      <td>4</td>\n",
       "    </tr>\n",
       "    <tr>\n",
       "      <th>1</th>\n",
       "      <td>1</td>\n",
       "      <td>Good choice!</td>\n",
       "      <td>easy booking process wide selection hotels eve...</td>\n",
       "      <td>Date of experience: December 16, 2024</td>\n",
       "      <td>en</td>\n",
       "      <td>HRS</td>\n",
       "      <td>rooms</td>\n",
       "      <td>Positive</td>\n",
       "      <td>4</td>\n",
       "    </tr>\n",
       "    <tr>\n",
       "      <th>2</th>\n",
       "      <td>2</td>\n",
       "      <td>Its a really good site when you need to…</td>\n",
       "      <td>really good site need book several rooms wants...</td>\n",
       "      <td>Date of experience: December 16, 2024</td>\n",
       "      <td>en</td>\n",
       "      <td>HRS</td>\n",
       "      <td>rooms</td>\n",
       "      <td>Positive</td>\n",
       "      <td>4</td>\n",
       "    </tr>\n",
       "    <tr>\n",
       "      <th>3</th>\n",
       "      <td>3</td>\n",
       "      <td>This was a great hotel</td>\n",
       "      <td>great hotel comfortable perfect short staysthe...</td>\n",
       "      <td>Date of experience: November 18, 2024</td>\n",
       "      <td>en</td>\n",
       "      <td>HRS</td>\n",
       "      <td>rooms</td>\n",
       "      <td>Positive</td>\n",
       "      <td>4</td>\n",
       "    </tr>\n",
       "    <tr>\n",
       "      <th>4</th>\n",
       "      <td>4</td>\n",
       "      <td>Friendly staff</td>\n",
       "      <td>friendly staff good location clean spacious room</td>\n",
       "      <td>Date of experience: December 11, 2024</td>\n",
       "      <td>en</td>\n",
       "      <td>HRS</td>\n",
       "      <td>cleanliness</td>\n",
       "      <td>Positive</td>\n",
       "      <td>4</td>\n",
       "    </tr>\n",
       "  </tbody>\n",
       "</table>\n",
       "</div>"
      ],
      "text/plain": [
       "   Unnamed: 0                                     title  \\\n",
       "0           0                           A great finding   \n",
       "1           1                              Good choice!   \n",
       "2           2  Its a really good site when you need to…   \n",
       "3           3                    This was a great hotel   \n",
       "4           4                            Friendly staff   \n",
       "\n",
       "                                                body  \\\n",
       "0  much known like otis really worth book rooms w...   \n",
       "1  easy booking process wide selection hotels eve...   \n",
       "2  really good site need book several rooms wants...   \n",
       "3  great hotel comfortable perfect short staysthe...   \n",
       "4   friendly staff good location clean spacious room   \n",
       "\n",
       "                                    date language source classif_result  \\\n",
       "0  Date of experience: December 17, 2024       en    HRS          value   \n",
       "1  Date of experience: December 16, 2024       en    HRS          rooms   \n",
       "2  Date of experience: December 16, 2024       en    HRS          rooms   \n",
       "3  Date of experience: November 18, 2024       en    HRS          rooms   \n",
       "4  Date of experience: December 11, 2024       en    HRS    cleanliness   \n",
       "\n",
       "  sentiment_result  predicted_score  \n",
       "0         Positive                4  \n",
       "1         Positive                4  \n",
       "2         Positive                4  \n",
       "3         Positive                4  \n",
       "4         Positive                4  "
      ]
     },
     "execution_count": 23,
     "metadata": {},
     "output_type": "execute_result"
    }
   ],
   "source": [
    "import pandas as pd\n",
    "\n",
    "data = pd.read_csv(\"./nlp_results/rev_topic_sentiment_rating.csv\")\n",
    "data.head()\n"
   ]
  },
  {
   "cell_type": "code",
   "execution_count": 24,
   "metadata": {},
   "outputs": [
    {
     "name": "stdout",
     "output_type": "stream",
     "text": [
      "  sentiment_result      mean  median\n",
      "0         Negative  0.400618     0.0\n",
      "1          Neutral  2.752551     3.0\n",
      "2         Positive  3.692412     4.0\n"
     ]
    }
   ],
   "source": [
    "grouped_data = data.groupby(\"sentiment_result\")[\"predicted_score\"].agg([\"mean\", \"median\"]).reset_index()\n",
    "print(grouped_data)"
   ]
  },
  {
   "cell_type": "code",
   "execution_count": 27,
   "metadata": {},
   "outputs": [
    {
     "data": {
      "image/png": "[encoded data removed]",
      "text/plain": [
       "<Figure size 800x600 with 1 Axes>"
      ]
     },
     "metadata": {},
     "output_type": "display_data"
    }
   ],
   "source": [
    "import matplotlib.pyplot as plt\n",
    "import seaborn as sns\n",
    "\n",
    "# Melt the stats DataFrame for easier plotting\n",
    "stats_melted = grouped_data.melt(id_vars=\"sentiment_result\", value_vars=[\"mean\", \"median\"], var_name=\"Metric\", value_name=\"Score\")\n",
    "\n",
    "# Create the plot\n",
    "plt.figure(figsize=(8, 6))\n",
    "sns.barplot(x=\"sentiment_result\", y=\"Score\", hue=\"Metric\", data=stats_melted, palette=\"viridis\")\n",
    "\n",
    "# Customize the plot\n",
    "plt.title(\"Mean and Median Ratings by Sentiment\", fontsize=16)\n",
    "plt.xlabel(\"Sentiment\", fontsize=14)\n",
    "plt.ylabel(\"Score\", fontsize=14)\n",
    "plt.legend(title=\"Metric\")\n",
    "plt.grid(axis=\"y\", linestyle=\"--\", alpha=0.7)\n",
    "\n",
    "# Show the plot\n",
    "plt.tight_layout()\n",
    "plt.show()\n"
   ]
  },
  {
   "cell_type": "code",
   "execution_count": 26,
   "metadata": {},
   "outputs": [
    {
     "data": {
      "image/png": "[encoded data removed]",
      "text/plain": [
       "<Figure size 1000x600 with 1 Axes>"
      ]
     },
     "metadata": {},
     "output_type": "display_data"
    }
   ],
   "source": [
    "import matplotlib.pyplot as plt\n",
    "import seaborn as sns\n",
    "\n",
    "plt.figure(figsize=(10, 6))\n",
    "sns.countplot(data=data, x='classif_result', hue='sentiment_result', palette='viridis')\n",
    "\n",
    "plt.title('Distribution des Topics en Fonction du Sentiment', fontsize=16)\n",
    "plt.xlabel('Topic', fontsize=14)\n",
    "plt.ylabel('Count', fontsize=14)\n",
    "plt.xticks(rotation=45)\n",
    "plt.legend(title='Sentiment', loc='upper right')\n",
    "\n",
    "plt.tight_layout()\n",
    "plt.show()\n",
    "\n"
   ]
  },
  {
   "cell_type": "code",
   "execution_count": 33,
   "metadata": {},
   "outputs": [
    {
     "name": "stdout",
     "output_type": "stream",
     "text": [
      "        source classif_result  mean_rating  rank\n",
      "7          HRS    cleanliness     4.000000   1.0\n",
      "11   HotelSone    cleanliness     3.897698   2.0\n",
      "0   Gala Hotel    cleanliness     3.546296   3.0\n",
      "12   HotelSone       location     3.826446   1.0\n",
      "1   Gala Hotel       location     3.607477   2.0\n",
      "13   HotelSone        overall     3.858859   1.0\n",
      "2   Gala Hotel        overall     3.107143   2.0\n",
      "8          HRS          rooms     3.000000   1.0\n",
      "14   HotelSone          rooms     2.681255   2.0\n",
      "3   Gala Hotel          rooms     2.170233   3.0\n",
      "9          HRS        service     4.000000   1.0\n",
      "15   HotelSone        service     3.116883   2.0\n",
      "4   Gala Hotel        service     2.102839   3.0\n",
      "16   HotelSone  sleep_quality     4.000000   1.0\n",
      "5   Gala Hotel  sleep_quality     1.800000   2.0\n",
      "10         HRS          value     4.000000   1.0\n",
      "17   HotelSone          value     3.856618   2.0\n",
      "6   Gala Hotel          value     3.812500   3.0\n"
     ]
    }
   ],
   "source": [
    "mean_ratings = data.groupby(['source', 'classif_result'])['predicted_score'].mean().reset_index()\n",
    "mean_ratings.rename(columns={'predicted_score': 'mean_rating'}, inplace=True)\n",
    "mean_ratings = mean_ratings.sort_values(['classif_result', 'mean_rating'], ascending=[True, False])\n",
    "mean_ratings['rank'] = mean_ratings.groupby('classif_result')['mean_rating'].rank(ascending=False)\n",
    "top_ratings = mean_ratings[mean_ratings['rank'] <= 3]\n",
    "print(top_ratings)\n"
   ]
  },
  {
   "cell_type": "code",
   "execution_count": 34,
   "metadata": {},
   "outputs": [
    {
     "data": {
      "image/png": "[encoded data removed]",
      "text/plain": [
       "<Figure size 1200x800 with 1 Axes>"
      ]
     },
     "metadata": {},
     "output_type": "display_data"
    }
   ],
   "source": [
    "import seaborn as sns\n",
    "import matplotlib.pyplot as plt\n",
    "\n",
    "# Create the plot\n",
    "plt.figure(figsize=(12, 8))\n",
    "sns.barplot(\n",
    "    data=top_ratings,\n",
    "    x='classif_result',\n",
    "    y='mean_rating',\n",
    "    hue='source',\n",
    "    palette='viridis'\n",
    ")\n",
    "\n",
    "# Add titles and labels\n",
    "plt.title('Top Sources by Mean Rating for Each Topic', fontsize=16)\n",
    "plt.xlabel('Topic', fontsize=14)\n",
    "plt.ylabel('Mean Rating', fontsize=14)\n",
    "plt.xticks(rotation=45)\n",
    "plt.legend(title='Source', loc='upper right')\n",
    "\n",
    "# Show the plot\n",
    "plt.tight_layout()\n",
    "plt.show()\n"
   ]
  }
 ],
 "metadata": {
  "kernelspec": {
   "display_name": "Python 3",
   "language": "python",
   "name": "python3"
  },
  "language_info": {
   "codemirror_mode": {
    "name": "ipython",
    "version": 3
   },
   "file_extension": ".py",
   "mimetype": "text/x-python",
   "name": "python",
   "nbconvert_exporter": "python",
   "pygments_lexer": "ipython3",
   "version": "3.12.1"
  }
 },
 "nbformat": 4,
 "nbformat_minor": 2
}
